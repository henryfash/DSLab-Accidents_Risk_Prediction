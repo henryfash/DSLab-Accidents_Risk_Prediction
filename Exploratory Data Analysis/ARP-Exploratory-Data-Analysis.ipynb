{
 "cells": [
  {
   "cell_type": "markdown",
   "metadata": {},
   "source": [
    "# 1. Importing the needed Libraries"
   ]
  },
  {
   "cell_type": "code",
   "execution_count": 1,
   "metadata": {
    "scrolled": true
   },
   "outputs": [],
   "source": [
    "import pandas as pd\n",
    "import numpy as np\n",
    "import seaborn as sns\n",
    "import matplotlib.pyplot as plt\n",
    "import math\n",
    "import warnings; warnings.simplefilter('ignore')\n",
    "from code_files_feature_extraction import *\n",
    "\n",
    "%matplotlib inline"
   ]
  },
  {
   "cell_type": "markdown",
   "metadata": {},
   "source": [
    "# 2. Data gathering"
   ]
  },
  {
   "cell_type": "code",
   "execution_count": 2,
   "metadata": {},
   "outputs": [],
   "source": [
    "arp_df = pd.read_csv('US_Accidents_June20.csv')"
   ]
  },
  {
   "cell_type": "code",
   "execution_count": 3,
   "metadata": {},
   "outputs": [
    {
     "data": {
      "text/html": [
       "<div>\n",
       "<style scoped>\n",
       "    .dataframe tbody tr th:only-of-type {\n",
       "        vertical-align: middle;\n",
       "    }\n",
       "\n",
       "    .dataframe tbody tr th {\n",
       "        vertical-align: top;\n",
       "    }\n",
       "\n",
       "    .dataframe thead th {\n",
       "        text-align: right;\n",
       "    }\n",
       "</style>\n",
       "<table border=\"1\" class=\"dataframe\">\n",
       "  <thead>\n",
       "    <tr style=\"text-align: right;\">\n",
       "      <th></th>\n",
       "      <th>ID</th>\n",
       "      <th>Source</th>\n",
       "      <th>TMC</th>\n",
       "      <th>Severity</th>\n",
       "      <th>Start_Time</th>\n",
       "      <th>End_Time</th>\n",
       "      <th>Start_Lat</th>\n",
       "      <th>Start_Lng</th>\n",
       "      <th>End_Lat</th>\n",
       "      <th>End_Lng</th>\n",
       "      <th>...</th>\n",
       "      <th>Roundabout</th>\n",
       "      <th>Station</th>\n",
       "      <th>Stop</th>\n",
       "      <th>Traffic_Calming</th>\n",
       "      <th>Traffic_Signal</th>\n",
       "      <th>Turning_Loop</th>\n",
       "      <th>Sunrise_Sunset</th>\n",
       "      <th>Civil_Twilight</th>\n",
       "      <th>Nautical_Twilight</th>\n",
       "      <th>Astronomical_Twilight</th>\n",
       "    </tr>\n",
       "  </thead>\n",
       "  <tbody>\n",
       "    <tr>\n",
       "      <th>0</th>\n",
       "      <td>A-1</td>\n",
       "      <td>MapQuest</td>\n",
       "      <td>201.0</td>\n",
       "      <td>3</td>\n",
       "      <td>2016-02-08 05:46:00</td>\n",
       "      <td>2016-02-08 11:00:00</td>\n",
       "      <td>39.865147</td>\n",
       "      <td>-84.058723</td>\n",
       "      <td>NaN</td>\n",
       "      <td>NaN</td>\n",
       "      <td>...</td>\n",
       "      <td>False</td>\n",
       "      <td>False</td>\n",
       "      <td>False</td>\n",
       "      <td>False</td>\n",
       "      <td>False</td>\n",
       "      <td>False</td>\n",
       "      <td>Night</td>\n",
       "      <td>Night</td>\n",
       "      <td>Night</td>\n",
       "      <td>Night</td>\n",
       "    </tr>\n",
       "    <tr>\n",
       "      <th>1</th>\n",
       "      <td>A-2</td>\n",
       "      <td>MapQuest</td>\n",
       "      <td>201.0</td>\n",
       "      <td>2</td>\n",
       "      <td>2016-02-08 06:07:59</td>\n",
       "      <td>2016-02-08 06:37:59</td>\n",
       "      <td>39.928059</td>\n",
       "      <td>-82.831184</td>\n",
       "      <td>NaN</td>\n",
       "      <td>NaN</td>\n",
       "      <td>...</td>\n",
       "      <td>False</td>\n",
       "      <td>False</td>\n",
       "      <td>False</td>\n",
       "      <td>False</td>\n",
       "      <td>False</td>\n",
       "      <td>False</td>\n",
       "      <td>Night</td>\n",
       "      <td>Night</td>\n",
       "      <td>Night</td>\n",
       "      <td>Day</td>\n",
       "    </tr>\n",
       "    <tr>\n",
       "      <th>2</th>\n",
       "      <td>A-3</td>\n",
       "      <td>MapQuest</td>\n",
       "      <td>201.0</td>\n",
       "      <td>2</td>\n",
       "      <td>2016-02-08 06:49:27</td>\n",
       "      <td>2016-02-08 07:19:27</td>\n",
       "      <td>39.063148</td>\n",
       "      <td>-84.032608</td>\n",
       "      <td>NaN</td>\n",
       "      <td>NaN</td>\n",
       "      <td>...</td>\n",
       "      <td>False</td>\n",
       "      <td>False</td>\n",
       "      <td>False</td>\n",
       "      <td>False</td>\n",
       "      <td>True</td>\n",
       "      <td>False</td>\n",
       "      <td>Night</td>\n",
       "      <td>Night</td>\n",
       "      <td>Day</td>\n",
       "      <td>Day</td>\n",
       "    </tr>\n",
       "    <tr>\n",
       "      <th>3</th>\n",
       "      <td>A-4</td>\n",
       "      <td>MapQuest</td>\n",
       "      <td>201.0</td>\n",
       "      <td>3</td>\n",
       "      <td>2016-02-08 07:23:34</td>\n",
       "      <td>2016-02-08 07:53:34</td>\n",
       "      <td>39.747753</td>\n",
       "      <td>-84.205582</td>\n",
       "      <td>NaN</td>\n",
       "      <td>NaN</td>\n",
       "      <td>...</td>\n",
       "      <td>False</td>\n",
       "      <td>False</td>\n",
       "      <td>False</td>\n",
       "      <td>False</td>\n",
       "      <td>False</td>\n",
       "      <td>False</td>\n",
       "      <td>Night</td>\n",
       "      <td>Day</td>\n",
       "      <td>Day</td>\n",
       "      <td>Day</td>\n",
       "    </tr>\n",
       "    <tr>\n",
       "      <th>4</th>\n",
       "      <td>A-5</td>\n",
       "      <td>MapQuest</td>\n",
       "      <td>201.0</td>\n",
       "      <td>2</td>\n",
       "      <td>2016-02-08 07:39:07</td>\n",
       "      <td>2016-02-08 08:09:07</td>\n",
       "      <td>39.627781</td>\n",
       "      <td>-84.188354</td>\n",
       "      <td>NaN</td>\n",
       "      <td>NaN</td>\n",
       "      <td>...</td>\n",
       "      <td>False</td>\n",
       "      <td>False</td>\n",
       "      <td>False</td>\n",
       "      <td>False</td>\n",
       "      <td>True</td>\n",
       "      <td>False</td>\n",
       "      <td>Day</td>\n",
       "      <td>Day</td>\n",
       "      <td>Day</td>\n",
       "      <td>Day</td>\n",
       "    </tr>\n",
       "  </tbody>\n",
       "</table>\n",
       "<p>5 rows × 49 columns</p>\n",
       "</div>"
      ],
      "text/plain": [
       "    ID    Source    TMC  Severity           Start_Time             End_Time  \\\n",
       "0  A-1  MapQuest  201.0         3  2016-02-08 05:46:00  2016-02-08 11:00:00   \n",
       "1  A-2  MapQuest  201.0         2  2016-02-08 06:07:59  2016-02-08 06:37:59   \n",
       "2  A-3  MapQuest  201.0         2  2016-02-08 06:49:27  2016-02-08 07:19:27   \n",
       "3  A-4  MapQuest  201.0         3  2016-02-08 07:23:34  2016-02-08 07:53:34   \n",
       "4  A-5  MapQuest  201.0         2  2016-02-08 07:39:07  2016-02-08 08:09:07   \n",
       "\n",
       "   Start_Lat  Start_Lng  End_Lat  End_Lng  ...  Roundabout Station   Stop  \\\n",
       "0  39.865147 -84.058723      NaN      NaN  ...       False   False  False   \n",
       "1  39.928059 -82.831184      NaN      NaN  ...       False   False  False   \n",
       "2  39.063148 -84.032608      NaN      NaN  ...       False   False  False   \n",
       "3  39.747753 -84.205582      NaN      NaN  ...       False   False  False   \n",
       "4  39.627781 -84.188354      NaN      NaN  ...       False   False  False   \n",
       "\n",
       "  Traffic_Calming Traffic_Signal Turning_Loop Sunrise_Sunset Civil_Twilight  \\\n",
       "0           False          False        False          Night          Night   \n",
       "1           False          False        False          Night          Night   \n",
       "2           False           True        False          Night          Night   \n",
       "3           False          False        False          Night            Day   \n",
       "4           False           True        False            Day            Day   \n",
       "\n",
       "  Nautical_Twilight Astronomical_Twilight  \n",
       "0             Night                 Night  \n",
       "1             Night                   Day  \n",
       "2               Day                   Day  \n",
       "3               Day                   Day  \n",
       "4               Day                   Day  \n",
       "\n",
       "[5 rows x 49 columns]"
      ]
     },
     "execution_count": 3,
     "metadata": {},
     "output_type": "execute_result"
    }
   ],
   "source": [
    "arp_df.head()"
   ]
  },
  {
   "cell_type": "markdown",
   "metadata": {},
   "source": [
    "# 3. Data pre-processing and cleaning"
   ]
  },
  {
   "cell_type": "code",
   "execution_count": 4,
   "metadata": {},
   "outputs": [
    {
     "name": "stdout",
     "output_type": "stream",
     "text": [
      "geo-time features ...\n",
      "accDuration added to the df in 14 sec\n",
      "boolean conversion features ...\n",
      "renaming few weather columns ...\n"
     ]
    }
   ],
   "source": [
    "mod1_arp_df = get_time_features(arp_df) #5 columns added: accDuration, day, month, year, dayOfWeek\n",
    "mod2_arp_df = convert_boolean_features(mod1_arp_df) #13 columns converted\n",
    "mod3_arp_df = rename_bracketed_columns(mod2_arp_df) #8 columns renamed"
   ]
  },
  {
   "cell_type": "code",
   "execution_count": 5,
   "metadata": {},
   "outputs": [
    {
     "data": {
      "text/plain": [
       "ID                        0.000000\n",
       "Source                    0.000000\n",
       "TMC                      29.451104\n",
       "Severity                  0.000000\n",
       "Start_Time                0.000000\n",
       "End_Time                  0.000000\n",
       "Start_Lat                 0.000000\n",
       "Start_Lng                 0.000000\n",
       "End_Lat                  70.548896\n",
       "End_Lng                  70.548896\n",
       "Distance_mi               0.000000\n",
       "Description               0.000028\n",
       "Number                   64.402694\n",
       "Street                    0.000000\n",
       "Side                      0.000000\n",
       "City                      0.003188\n",
       "County                    0.000000\n",
       "State                     0.000000\n",
       "Zipcode                   0.030424\n",
       "Country                   0.000000\n",
       "Timezone                  0.110428\n",
       "Airport_Code              0.192337\n",
       "Weather_Timestamp         1.233003\n",
       "Temperature_F             1.870779\n",
       "Wind_Chill_F             53.171675\n",
       "Humidity_%                1.983341\n",
       "Pressure_in               1.590441\n",
       "Visibility_mi             2.158915\n",
       "Wind_Direction            1.675595\n",
       "Wind_Speed_mph           12.938490\n",
       "Precipitation_in         57.657793\n",
       "Weather_Condition         2.166941\n",
       "Amenity                   0.000000\n",
       "Bump                      0.000000\n",
       "Crossing                  0.000000\n",
       "Give_Way                  0.000000\n",
       "Junction                  0.000000\n",
       "No_Exit                   0.000000\n",
       "Railway                   0.000000\n",
       "Roundabout                0.000000\n",
       "Station                   0.000000\n",
       "Stop                      0.000000\n",
       "Traffic_Calming           0.000000\n",
       "Traffic_Signal            0.000000\n",
       "Turning_Loop              0.000000\n",
       "Sunrise_Sunset            0.003273\n",
       "Civil_Twilight            0.003273\n",
       "Nautical_Twilight         0.003273\n",
       "Astronomical_Twilight     0.003273\n",
       "startTime                 0.000000\n",
       "endTime                   0.000000\n",
       "accDuration               0.000000\n",
       "dtype: float64"
      ]
     },
     "execution_count": 5,
     "metadata": {},
     "output_type": "execute_result"
    }
   ],
   "source": [
    "# Get the percentage of missing values for each column\n",
    "mod3_arp_df.isnull().sum()/mod3_arp_df.shape[0]*100"
   ]
  },
  {
   "cell_type": "code",
   "execution_count": 6,
   "metadata": {},
   "outputs": [],
   "source": [
    "# Drop columns with missing values of greater than 50%\n",
    "mod3_arp_df.drop(['End_Lat','End_Lng','Number','Wind_Chill_F','Precipitation_in'], axis=1, inplace= True)"
   ]
  },
  {
   "cell_type": "code",
   "execution_count": 7,
   "metadata": {},
   "outputs": [],
   "source": [
    "# Drop all rows with missing values\n",
    "mod3_arp_df.dropna(axis =0, inplace= True)"
   ]
  },
  {
   "cell_type": "code",
   "execution_count": 8,
   "metadata": {},
   "outputs": [
    {
     "data": {
      "text/plain": [
       "(2113654, 47)"
      ]
     },
     "execution_count": 8,
     "metadata": {},
     "output_type": "execute_result"
    }
   ],
   "source": [
    "# Check the number of rows and columns \n",
    "mod3_arp_df.shape"
   ]
  },
  {
   "cell_type": "code",
   "execution_count": 9,
   "metadata": {},
   "outputs": [
    {
     "data": {
      "text/plain": [
       "0"
      ]
     },
     "execution_count": 9,
     "metadata": {},
     "output_type": "execute_result"
    }
   ],
   "source": [
    "# Check for missing values\n",
    "mod3_arp_df.isnull().any().sum()"
   ]
  },
  {
   "cell_type": "markdown",
   "metadata": {},
   "source": [
    "# 4.  Statistical  Analysis\n"
   ]
  },
  {
   "cell_type": "code",
   "execution_count": 11,
   "metadata": {
    "scrolled": true
   },
   "outputs": [
    {
     "data": {
      "text/html": [
       "<div>\n",
       "<style scoped>\n",
       "    .dataframe tbody tr th:only-of-type {\n",
       "        vertical-align: middle;\n",
       "    }\n",
       "\n",
       "    .dataframe tbody tr th {\n",
       "        vertical-align: top;\n",
       "    }\n",
       "\n",
       "    .dataframe thead th {\n",
       "        text-align: right;\n",
       "    }\n",
       "</style>\n",
       "<table border=\"1\" class=\"dataframe\">\n",
       "  <thead>\n",
       "    <tr style=\"text-align: right;\">\n",
       "      <th></th>\n",
       "      <th>TMC</th>\n",
       "      <th>Severity</th>\n",
       "      <th>Start_Lat</th>\n",
       "      <th>Start_Lng</th>\n",
       "      <th>Distance_mi</th>\n",
       "      <th>Temperature_F</th>\n",
       "      <th>Humidity_%</th>\n",
       "      <th>Pressure_in</th>\n",
       "      <th>Visibility_mi</th>\n",
       "      <th>Wind_Speed_mph</th>\n",
       "      <th>...</th>\n",
       "      <th>Junction</th>\n",
       "      <th>No_Exit</th>\n",
       "      <th>Railway</th>\n",
       "      <th>Roundabout</th>\n",
       "      <th>Station</th>\n",
       "      <th>Stop</th>\n",
       "      <th>Traffic_Calming</th>\n",
       "      <th>Traffic_Signal</th>\n",
       "      <th>Turning_Loop</th>\n",
       "      <th>accDuration</th>\n",
       "    </tr>\n",
       "  </thead>\n",
       "  <tbody>\n",
       "    <tr>\n",
       "      <th>count</th>\n",
       "      <td>2113654</td>\n",
       "      <td>2113654</td>\n",
       "      <td>2113654</td>\n",
       "      <td>2113654</td>\n",
       "      <td>2113654</td>\n",
       "      <td>2113654</td>\n",
       "      <td>2113654</td>\n",
       "      <td>2113654</td>\n",
       "      <td>2113654</td>\n",
       "      <td>2113654</td>\n",
       "      <td>...</td>\n",
       "      <td>2113654</td>\n",
       "      <td>2113654</td>\n",
       "      <td>2113654</td>\n",
       "      <td>2113654</td>\n",
       "      <td>2113654</td>\n",
       "      <td>2113654</td>\n",
       "      <td>2113654</td>\n",
       "      <td>2113654</td>\n",
       "      <td>2113654</td>\n",
       "      <td>2113654</td>\n",
       "    </tr>\n",
       "    <tr>\n",
       "      <th>mean</th>\n",
       "      <td>208</td>\n",
       "      <td>2</td>\n",
       "      <td>36</td>\n",
       "      <td>-93</td>\n",
       "      <td>0</td>\n",
       "      <td>62</td>\n",
       "      <td>65</td>\n",
       "      <td>29</td>\n",
       "      <td>9</td>\n",
       "      <td>8</td>\n",
       "      <td>...</td>\n",
       "      <td>0</td>\n",
       "      <td>0</td>\n",
       "      <td>0</td>\n",
       "      <td>0</td>\n",
       "      <td>0</td>\n",
       "      <td>0</td>\n",
       "      <td>0</td>\n",
       "      <td>0</td>\n",
       "      <td>0</td>\n",
       "      <td>53</td>\n",
       "    </tr>\n",
       "    <tr>\n",
       "      <th>std</th>\n",
       "      <td>20</td>\n",
       "      <td>0</td>\n",
       "      <td>4</td>\n",
       "      <td>16</td>\n",
       "      <td>1</td>\n",
       "      <td>18</td>\n",
       "      <td>22</td>\n",
       "      <td>0</td>\n",
       "      <td>2</td>\n",
       "      <td>5</td>\n",
       "      <td>...</td>\n",
       "      <td>0</td>\n",
       "      <td>0</td>\n",
       "      <td>0</td>\n",
       "      <td>0</td>\n",
       "      <td>0</td>\n",
       "      <td>0</td>\n",
       "      <td>0</td>\n",
       "      <td>0</td>\n",
       "      <td>0</td>\n",
       "      <td>310</td>\n",
       "    </tr>\n",
       "    <tr>\n",
       "      <th>min</th>\n",
       "      <td>200</td>\n",
       "      <td>1</td>\n",
       "      <td>24</td>\n",
       "      <td>-124</td>\n",
       "      <td>0</td>\n",
       "      <td>-29</td>\n",
       "      <td>1</td>\n",
       "      <td>0</td>\n",
       "      <td>0</td>\n",
       "      <td>0</td>\n",
       "      <td>...</td>\n",
       "      <td>0</td>\n",
       "      <td>0</td>\n",
       "      <td>0</td>\n",
       "      <td>0</td>\n",
       "      <td>0</td>\n",
       "      <td>0</td>\n",
       "      <td>0</td>\n",
       "      <td>0</td>\n",
       "      <td>0</td>\n",
       "      <td>-31</td>\n",
       "    </tr>\n",
       "    <tr>\n",
       "      <th>25%</th>\n",
       "      <td>201</td>\n",
       "      <td>2</td>\n",
       "      <td>32</td>\n",
       "      <td>-105</td>\n",
       "      <td>0</td>\n",
       "      <td>50</td>\n",
       "      <td>49</td>\n",
       "      <td>29</td>\n",
       "      <td>10</td>\n",
       "      <td>4</td>\n",
       "      <td>...</td>\n",
       "      <td>0</td>\n",
       "      <td>0</td>\n",
       "      <td>0</td>\n",
       "      <td>0</td>\n",
       "      <td>0</td>\n",
       "      <td>0</td>\n",
       "      <td>0</td>\n",
       "      <td>0</td>\n",
       "      <td>0</td>\n",
       "      <td>30</td>\n",
       "    </tr>\n",
       "    <tr>\n",
       "      <th>50%</th>\n",
       "      <td>201</td>\n",
       "      <td>2</td>\n",
       "      <td>35</td>\n",
       "      <td>-87</td>\n",
       "      <td>0</td>\n",
       "      <td>64</td>\n",
       "      <td>67</td>\n",
       "      <td>29</td>\n",
       "      <td>10</td>\n",
       "      <td>7</td>\n",
       "      <td>...</td>\n",
       "      <td>0</td>\n",
       "      <td>0</td>\n",
       "      <td>0</td>\n",
       "      <td>0</td>\n",
       "      <td>0</td>\n",
       "      <td>0</td>\n",
       "      <td>0</td>\n",
       "      <td>0</td>\n",
       "      <td>0</td>\n",
       "      <td>45</td>\n",
       "    </tr>\n",
       "    <tr>\n",
       "      <th>75%</th>\n",
       "      <td>201</td>\n",
       "      <td>3</td>\n",
       "      <td>40</td>\n",
       "      <td>-80</td>\n",
       "      <td>0</td>\n",
       "      <td>77</td>\n",
       "      <td>84</td>\n",
       "      <td>30</td>\n",
       "      <td>10</td>\n",
       "      <td>10</td>\n",
       "      <td>...</td>\n",
       "      <td>0</td>\n",
       "      <td>0</td>\n",
       "      <td>0</td>\n",
       "      <td>0</td>\n",
       "      <td>0</td>\n",
       "      <td>0</td>\n",
       "      <td>0</td>\n",
       "      <td>0</td>\n",
       "      <td>0</td>\n",
       "      <td>60</td>\n",
       "    </tr>\n",
       "    <tr>\n",
       "      <th>max</th>\n",
       "      <td>406</td>\n",
       "      <td>4</td>\n",
       "      <td>49</td>\n",
       "      <td>-67</td>\n",
       "      <td>254</td>\n",
       "      <td>167</td>\n",
       "      <td>100</td>\n",
       "      <td>31</td>\n",
       "      <td>111</td>\n",
       "      <td>822</td>\n",
       "      <td>...</td>\n",
       "      <td>1</td>\n",
       "      <td>1</td>\n",
       "      <td>1</td>\n",
       "      <td>1</td>\n",
       "      <td>1</td>\n",
       "      <td>1</td>\n",
       "      <td>1</td>\n",
       "      <td>1</td>\n",
       "      <td>0</td>\n",
       "      <td>336960</td>\n",
       "    </tr>\n",
       "  </tbody>\n",
       "</table>\n",
       "<p>8 rows × 24 columns</p>\n",
       "</div>"
      ],
      "text/plain": [
       "           TMC  Severity  Start_Lat  Start_Lng  Distance_mi  Temperature_F  \\\n",
       "count  2113654   2113654    2113654    2113654      2113654        2113654   \n",
       "mean       208         2         36        -93            0             62   \n",
       "std         20         0          4         16            1             18   \n",
       "min        200         1         24       -124            0            -29   \n",
       "25%        201         2         32       -105            0             50   \n",
       "50%        201         2         35        -87            0             64   \n",
       "75%        201         3         40        -80            0             77   \n",
       "max        406         4         49        -67          254            167   \n",
       "\n",
       "       Humidity_%  Pressure_in  Visibility_mi  Wind_Speed_mph  ...  Junction  \\\n",
       "count     2113654      2113654        2113654         2113654  ...   2113654   \n",
       "mean           65           29              9               8  ...         0   \n",
       "std            22            0              2               5  ...         0   \n",
       "min             1            0              0               0  ...         0   \n",
       "25%            49           29             10               4  ...         0   \n",
       "50%            67           29             10               7  ...         0   \n",
       "75%            84           30             10              10  ...         0   \n",
       "max           100           31            111             822  ...         1   \n",
       "\n",
       "       No_Exit  Railway  Roundabout  Station     Stop  Traffic_Calming  \\\n",
       "count  2113654  2113654     2113654  2113654  2113654          2113654   \n",
       "mean         0        0           0        0        0                0   \n",
       "std          0        0           0        0        0                0   \n",
       "min          0        0           0        0        0                0   \n",
       "25%          0        0           0        0        0                0   \n",
       "50%          0        0           0        0        0                0   \n",
       "75%          0        0           0        0        0                0   \n",
       "max          1        1           1        1        1                1   \n",
       "\n",
       "       Traffic_Signal  Turning_Loop  accDuration  \n",
       "count         2113654       2113654      2113654  \n",
       "mean                0             0           53  \n",
       "std                 0             0          310  \n",
       "min                 0             0          -31  \n",
       "25%                 0             0           30  \n",
       "50%                 0             0           45  \n",
       "75%                 0             0           60  \n",
       "max                 1             0       336960  \n",
       "\n",
       "[8 rows x 24 columns]"
      ]
     },
     "execution_count": 11,
     "metadata": {},
     "output_type": "execute_result"
    }
   ],
   "source": [
    "# Check basic statistics about the dataset\n",
    "mod3_arp_df.describe().astype(int)"
   ]
  },
  {
   "cell_type": "markdown",
   "metadata": {},
   "source": [
    "### Observation from the statistical information we obtained\n",
    "\n",
    "1. The difference between the mean and the 50th percentile (median) of most of the columns is relatively small, which is an indication that our dataset is evenly distributed. \n",
    " \n",
    "2. The difference between the 75th percentile and the max of the columns Distance_mi, Wind_Speed_mph and accDuration is very large, this indicates that some values of these variables lie much farther from the general range of values\n",
    "\n"
   ]
  },
  {
   "cell_type": "markdown",
   "metadata": {},
   "source": [
    "# 5. Data Analysis & Viz"
   ]
  },
  {
   "cell_type": "markdown",
   "metadata": {},
   "source": [
    "#### 1. Number of accidents per state"
   ]
  },
  {
   "cell_type": "code",
   "execution_count": 17,
   "metadata": {},
   "outputs": [
    {
     "data": {
      "text/html": [
       "<div>\n",
       "<style scoped>\n",
       "    .dataframe tbody tr th:only-of-type {\n",
       "        vertical-align: middle;\n",
       "    }\n",
       "\n",
       "    .dataframe tbody tr th {\n",
       "        vertical-align: top;\n",
       "    }\n",
       "\n",
       "    .dataframe thead th {\n",
       "        text-align: right;\n",
       "    }\n",
       "</style>\n",
       "<table border=\"1\" class=\"dataframe\">\n",
       "  <thead>\n",
       "    <tr style=\"text-align: right;\">\n",
       "      <th></th>\n",
       "      <th>State</th>\n",
       "      <th>Accidents</th>\n",
       "    </tr>\n",
       "  </thead>\n",
       "  <tbody>\n",
       "    <tr>\n",
       "      <th>0</th>\n",
       "      <td>CA</td>\n",
       "      <td>379326</td>\n",
       "    </tr>\n",
       "    <tr>\n",
       "      <th>1</th>\n",
       "      <td>TX</td>\n",
       "      <td>248060</td>\n",
       "    </tr>\n",
       "    <tr>\n",
       "      <th>2</th>\n",
       "      <td>FL</td>\n",
       "      <td>174636</td>\n",
       "    </tr>\n",
       "    <tr>\n",
       "      <th>3</th>\n",
       "      <td>SC</td>\n",
       "      <td>137815</td>\n",
       "    </tr>\n",
       "    <tr>\n",
       "      <th>4</th>\n",
       "      <td>NC</td>\n",
       "      <td>112840</td>\n",
       "    </tr>\n",
       "    <tr>\n",
       "      <th>5</th>\n",
       "      <td>NY</td>\n",
       "      <td>105997</td>\n",
       "    </tr>\n",
       "    <tr>\n",
       "      <th>6</th>\n",
       "      <td>PA</td>\n",
       "      <td>70013</td>\n",
       "    </tr>\n",
       "    <tr>\n",
       "      <th>7</th>\n",
       "      <td>MI</td>\n",
       "      <td>69276</td>\n",
       "    </tr>\n",
       "    <tr>\n",
       "      <th>8</th>\n",
       "      <td>GA</td>\n",
       "      <td>58834</td>\n",
       "    </tr>\n",
       "    <tr>\n",
       "      <th>9</th>\n",
       "      <td>IL</td>\n",
       "      <td>56595</td>\n",
       "    </tr>\n",
       "  </tbody>\n",
       "</table>\n",
       "</div>"
      ],
      "text/plain": [
       "  State  Accidents\n",
       "0    CA     379326\n",
       "1    TX     248060\n",
       "2    FL     174636\n",
       "3    SC     137815\n",
       "4    NC     112840\n",
       "5    NY     105997\n",
       "6    PA      70013\n",
       "7    MI      69276\n",
       "8    GA      58834\n",
       "9    IL      56595"
      ]
     },
     "execution_count": 17,
     "metadata": {},
     "output_type": "execute_result"
    }
   ],
   "source": [
    "Accidents_per_State = mod3_arp_df.groupby('State')['ID'].count().reset_index()\n",
    "Accidents_per_State.rename(columns={'ID':'Accidents'}, inplace=True)\n",
    "\n",
    "Accidents_per_State = Accidents_per_State.sort_values(by = \"Accidents\",ascending=False).reset_index()\n",
    "\n",
    "Accidents_per_State.drop(['index'],axis=1, inplace=True)\n",
    "Accidents_per_State_Top10 =Accidents_per_State[0:10]\n",
    "Accidents_per_State_Top10\n",
    "\n"
   ]
  },
  {
   "cell_type": "code",
   "execution_count": 18,
   "metadata": {},
   "outputs": [
    {
     "data": {
      "image/png": "[encoded data removed]",
      "text/plain": [
       "<Figure size 864x432 with 1 Axes>"
      ]
     },
     "metadata": {
      "needs_background": "light"
     },
     "output_type": "display_data"
    }
   ],
   "source": [
    "x = Accidents_per_State_Top10['State']\n",
    "y = Accidents_per_State_Top10['Accidents']\n",
    "   \n",
    "fig = plt.figure(figsize = (12, 6)) \n",
    "  \n",
    "# creating the bar plot \n",
    "plt.bar(x, y, width = 0.6)  \n",
    "  \n",
    "plt.xlabel(\"State\") \n",
    "plt.ylabel(\"Number of Accidents\") \n",
    "plt.title(\"Top 10 states with the highest accidents\") \n",
    "plt.show() "
   ]
  },
  {
   "cell_type": "code",
   "execution_count": 37,
   "metadata": {
    "scrolled": true
   },
   "outputs": [
    {
     "data": {
      "text/html": [
       "<div>\n",
       "<style scoped>\n",
       "    .dataframe tbody tr th:only-of-type {\n",
       "        vertical-align: middle;\n",
       "    }\n",
       "\n",
       "    .dataframe tbody tr th {\n",
       "        vertical-align: top;\n",
       "    }\n",
       "\n",
       "    .dataframe thead th {\n",
       "        text-align: right;\n",
       "    }\n",
       "</style>\n",
       "<table border=\"1\" class=\"dataframe\">\n",
       "  <thead>\n",
       "    <tr style=\"text-align: right;\">\n",
       "      <th></th>\n",
       "      <th>SUMLEV</th>\n",
       "      <th>REGION</th>\n",
       "      <th>DIVISION</th>\n",
       "      <th>STATE</th>\n",
       "      <th>NAME</th>\n",
       "      <th>CENSUS2010POP</th>\n",
       "      <th>ESTIMATESBASE2010</th>\n",
       "      <th>POPESTIMATE2010</th>\n",
       "      <th>POPESTIMATE2011</th>\n",
       "      <th>POPESTIMATE2012</th>\n",
       "      <th>POPESTIMATE2013</th>\n",
       "      <th>POPESTIMATE2014</th>\n",
       "      <th>POPESTIMATE2015</th>\n",
       "      <th>POPESTIMATE2016</th>\n",
       "      <th>POPESTIMATE2017</th>\n",
       "      <th>POPESTIMATE2018</th>\n",
       "      <th>POPESTIMATE2019</th>\n",
       "      <th>POPESTIMATE2020</th>\n",
       "    </tr>\n",
       "  </thead>\n",
       "  <tbody>\n",
       "    <tr>\n",
       "      <th>0</th>\n",
       "      <td>10</td>\n",
       "      <td>0</td>\n",
       "      <td>0</td>\n",
       "      <td>0</td>\n",
       "      <td>United States</td>\n",
       "      <td>308745538</td>\n",
       "      <td>308758105</td>\n",
       "      <td>309327143</td>\n",
       "      <td>311583481</td>\n",
       "      <td>313877662</td>\n",
       "      <td>316059947</td>\n",
       "      <td>318386329</td>\n",
       "      <td>320738994</td>\n",
       "      <td>323071755</td>\n",
       "      <td>325122128</td>\n",
       "      <td>326838199</td>\n",
       "      <td>328329953</td>\n",
       "      <td>329484123</td>\n",
       "    </tr>\n",
       "    <tr>\n",
       "      <th>1</th>\n",
       "      <td>20</td>\n",
       "      <td>3</td>\n",
       "      <td>0</td>\n",
       "      <td>0</td>\n",
       "      <td>South Region</td>\n",
       "      <td>114555744</td>\n",
       "      <td>114563042</td>\n",
       "      <td>114869421</td>\n",
       "      <td>116019483</td>\n",
       "      <td>117264196</td>\n",
       "      <td>118397213</td>\n",
       "      <td>119666248</td>\n",
       "      <td>121049223</td>\n",
       "      <td>122419547</td>\n",
       "      <td>123611036</td>\n",
       "      <td>124649156</td>\n",
       "      <td>125686544</td>\n",
       "      <td>126662754</td>\n",
       "    </tr>\n",
       "    <tr>\n",
       "      <th>2</th>\n",
       "      <td>20</td>\n",
       "      <td>4</td>\n",
       "      <td>0</td>\n",
       "      <td>0</td>\n",
       "      <td>West Region</td>\n",
       "      <td>71945553</td>\n",
       "      <td>71946912</td>\n",
       "      <td>72101630</td>\n",
       "      <td>72791588</td>\n",
       "      <td>73482530</td>\n",
       "      <td>74173435</td>\n",
       "      <td>74933166</td>\n",
       "      <td>75751299</td>\n",
       "      <td>76570256</td>\n",
       "      <td>77267367</td>\n",
       "      <td>77841481</td>\n",
       "      <td>78300384</td>\n",
       "      <td>78654756</td>\n",
       "    </tr>\n",
       "    <tr>\n",
       "      <th>3</th>\n",
       "      <td>20</td>\n",
       "      <td>2</td>\n",
       "      <td>0</td>\n",
       "      <td>0</td>\n",
       "      <td>Midwest Region</td>\n",
       "      <td>66927001</td>\n",
       "      <td>66929737</td>\n",
       "      <td>66975328</td>\n",
       "      <td>67164092</td>\n",
       "      <td>67348275</td>\n",
       "      <td>67576524</td>\n",
       "      <td>67765576</td>\n",
       "      <td>67885682</td>\n",
       "      <td>68018175</td>\n",
       "      <td>68160342</td>\n",
       "      <td>68263019</td>\n",
       "      <td>68340091</td>\n",
       "      <td>68316744</td>\n",
       "    </tr>\n",
       "    <tr>\n",
       "      <th>4</th>\n",
       "      <td>20</td>\n",
       "      <td>1</td>\n",
       "      <td>0</td>\n",
       "      <td>0</td>\n",
       "      <td>Northeast Region</td>\n",
       "      <td>55317240</td>\n",
       "      <td>55318414</td>\n",
       "      <td>55380764</td>\n",
       "      <td>55608318</td>\n",
       "      <td>55782661</td>\n",
       "      <td>55912775</td>\n",
       "      <td>56021339</td>\n",
       "      <td>56052790</td>\n",
       "      <td>56063777</td>\n",
       "      <td>56083383</td>\n",
       "      <td>56084543</td>\n",
       "      <td>56002934</td>\n",
       "      <td>55849869</td>\n",
       "    </tr>\n",
       "  </tbody>\n",
       "</table>\n",
       "</div>"
      ],
      "text/plain": [
       "   SUMLEV  REGION  DIVISION  STATE              NAME  CENSUS2010POP  \\\n",
       "0      10       0         0      0     United States      308745538   \n",
       "1      20       3         0      0      South Region      114555744   \n",
       "2      20       4         0      0       West Region       71945553   \n",
       "3      20       2         0      0    Midwest Region       66927001   \n",
       "4      20       1         0      0  Northeast Region       55317240   \n",
       "\n",
       "   ESTIMATESBASE2010  POPESTIMATE2010  POPESTIMATE2011  POPESTIMATE2012  \\\n",
       "0          308758105        309327143        311583481        313877662   \n",
       "1          114563042        114869421        116019483        117264196   \n",
       "2           71946912         72101630         72791588         73482530   \n",
       "3           66929737         66975328         67164092         67348275   \n",
       "4           55318414         55380764         55608318         55782661   \n",
       "\n",
       "   POPESTIMATE2013  POPESTIMATE2014  POPESTIMATE2015  POPESTIMATE2016  \\\n",
       "0        316059947        318386329        320738994        323071755   \n",
       "1        118397213        119666248        121049223        122419547   \n",
       "2         74173435         74933166         75751299         76570256   \n",
       "3         67576524         67765576         67885682         68018175   \n",
       "4         55912775         56021339         56052790         56063777   \n",
       "\n",
       "   POPESTIMATE2017  POPESTIMATE2018  POPESTIMATE2019  POPESTIMATE2020  \n",
       "0        325122128        326838199        328329953        329484123  \n",
       "1        123611036        124649156        125686544        126662754  \n",
       "2         77267367         77841481         78300384         78654756  \n",
       "3         68160342         68263019         68340091         68316744  \n",
       "4         56083383         56084543         56002934         55849869  "
      ]
     },
     "execution_count": 37,
     "metadata": {},
     "output_type": "execute_result"
    }
   ],
   "source": [
    "# Top 10 state by population\n",
    "US_state_Pop = pd.read_csv('United States estimated population 2020.csv')\n",
    "US_state_Pop.head()"
   ]
  },
  {
   "cell_type": "code",
   "execution_count": 39,
   "metadata": {},
   "outputs": [
    {
     "data": {
      "text/plain": [
       "0"
      ]
     },
     "execution_count": 39,
     "metadata": {},
     "output_type": "execute_result"
    }
   ],
   "source": [
    "US_state_Pop.isnull().any().sum()"
   ]
  },
  {
   "cell_type": "code",
   "execution_count": 40,
   "metadata": {},
   "outputs": [
    {
     "data": {
      "text/html": [
       "<div>\n",
       "<style scoped>\n",
       "    .dataframe tbody tr th:only-of-type {\n",
       "        vertical-align: middle;\n",
       "    }\n",
       "\n",
       "    .dataframe tbody tr th {\n",
       "        vertical-align: top;\n",
       "    }\n",
       "\n",
       "    .dataframe thead th {\n",
       "        text-align: right;\n",
       "    }\n",
       "</style>\n",
       "<table border=\"1\" class=\"dataframe\">\n",
       "  <thead>\n",
       "    <tr style=\"text-align: right;\">\n",
       "      <th></th>\n",
       "      <th>NAME</th>\n",
       "      <th>POPESTIMATE2020</th>\n",
       "    </tr>\n",
       "  </thead>\n",
       "  <tbody>\n",
       "    <tr>\n",
       "      <th>0</th>\n",
       "      <td>South Dakota</td>\n",
       "      <td>892717</td>\n",
       "    </tr>\n",
       "    <tr>\n",
       "      <th>1</th>\n",
       "      <td>Delaware</td>\n",
       "      <td>986809</td>\n",
       "    </tr>\n",
       "    <tr>\n",
       "      <th>2</th>\n",
       "      <td>Rhode Island</td>\n",
       "      <td>1057125</td>\n",
       "    </tr>\n",
       "    <tr>\n",
       "      <th>3</th>\n",
       "      <td>Montana</td>\n",
       "      <td>1080577</td>\n",
       "    </tr>\n",
       "    <tr>\n",
       "      <th>4</th>\n",
       "      <td>Maine</td>\n",
       "      <td>1350141</td>\n",
       "    </tr>\n",
       "    <tr>\n",
       "      <th>5</th>\n",
       "      <td>New Hampshire</td>\n",
       "      <td>1366275</td>\n",
       "    </tr>\n",
       "    <tr>\n",
       "      <th>6</th>\n",
       "      <td>Hawaii</td>\n",
       "      <td>1407006</td>\n",
       "    </tr>\n",
       "    <tr>\n",
       "      <th>7</th>\n",
       "      <td>West Virginia</td>\n",
       "      <td>1784787</td>\n",
       "    </tr>\n",
       "    <tr>\n",
       "      <th>8</th>\n",
       "      <td>Idaho</td>\n",
       "      <td>1826913</td>\n",
       "    </tr>\n",
       "    <tr>\n",
       "      <th>9</th>\n",
       "      <td>Nebraska</td>\n",
       "      <td>1937552</td>\n",
       "    </tr>\n",
       "  </tbody>\n",
       "</table>\n",
       "</div>"
      ],
      "text/plain": [
       "            NAME  POPESTIMATE2020\n",
       "0   South Dakota           892717\n",
       "1       Delaware           986809\n",
       "2   Rhode Island          1057125\n",
       "3        Montana          1080577\n",
       "4          Maine          1350141\n",
       "5  New Hampshire          1366275\n",
       "6         Hawaii          1407006\n",
       "7  West Virginia          1784787\n",
       "8          Idaho          1826913\n",
       "9       Nebraska          1937552"
      ]
     },
     "execution_count": 40,
     "metadata": {},
     "output_type": "execute_result"
    }
   ],
   "source": [
    "US_state_Pop = US_state_Pop[['NAME','POPESTIMATE2020']]\n",
    "US_state_Top10 = US_state_Pop.sort_values(by = \"POPESTIMATE2020\",ascending=True)[5:15].reset_index()\n",
    "\n",
    "US_state_Top10.drop(['index'],axis=1, inplace=True)\n",
    "US_state_Top10"
   ]
  },
  {
   "cell_type": "code",
   "execution_count": 23,
   "metadata": {},
   "outputs": [
    {
     "data": {
      "image/png": "[encoded data removed]",
      "text/plain": [
       "<Figure size 864x432 with 1 Axes>"
      ]
     },
     "metadata": {
      "needs_background": "light"
     },
     "output_type": "display_data"
    }
   ],
   "source": [
    "x = US_state_Top10['NAME']\n",
    "y = US_state_Top10['POPESTIMATE2020']\n",
    "   \n",
    "fig = plt.figure(figsize = (12, 6)) \n",
    "  \n",
    "# creating the bar plot \n",
    "plt.bar(x, y, width = 0.6) \n",
    "  \n",
    "plt.xlabel(\"State\") \n",
    "plt.ylabel(\"Population\") \n",
    "plt.title(\"Top 10 states with the highest estimated popuplation 2020\") \n",
    "plt.show() "
   ]
  },
  {
   "cell_type": "markdown",
   "metadata": {},
   "source": [
    "####  2. When are accidents happening most, Night or Day?"
   ]
  },
  {
   "cell_type": "code",
   "execution_count": 24,
   "metadata": {},
   "outputs": [
    {
     "data": {
      "text/html": [
       "<div>\n",
       "<style scoped>\n",
       "    .dataframe tbody tr th:only-of-type {\n",
       "        vertical-align: middle;\n",
       "    }\n",
       "\n",
       "    .dataframe tbody tr th {\n",
       "        vertical-align: top;\n",
       "    }\n",
       "\n",
       "    .dataframe thead th {\n",
       "        text-align: right;\n",
       "    }\n",
       "</style>\n",
       "<table border=\"1\" class=\"dataframe\">\n",
       "  <thead>\n",
       "    <tr style=\"text-align: right;\">\n",
       "      <th></th>\n",
       "      <th>Sunrise_Sunset</th>\n",
       "      <th>Accidents</th>\n",
       "    </tr>\n",
       "  </thead>\n",
       "  <tbody>\n",
       "    <tr>\n",
       "      <th>0</th>\n",
       "      <td>Day</td>\n",
       "      <td>1615620</td>\n",
       "    </tr>\n",
       "    <tr>\n",
       "      <th>1</th>\n",
       "      <td>Night</td>\n",
       "      <td>498034</td>\n",
       "    </tr>\n",
       "  </tbody>\n",
       "</table>\n",
       "</div>"
      ],
      "text/plain": [
       "  Sunrise_Sunset  Accidents\n",
       "0            Day    1615620\n",
       "1          Night     498034"
      ]
     },
     "execution_count": 24,
     "metadata": {},
     "output_type": "execute_result"
    }
   ],
   "source": [
    "night_or_day = mod3_arp_df.groupby('Sunrise_Sunset')['ID'].count().reset_index()\n",
    "night_or_day.rename(columns={'ID':'Accidents'}, inplace=True)\n",
    "night_or_day.head(3)\n"
   ]
  },
  {
   "cell_type": "code",
   "execution_count": 25,
   "metadata": {},
   "outputs": [
    {
     "data": {
      "image/png": "[encoded data removed]",
      "text/plain": [
       "<Figure size 504x432 with 1 Axes>"
      ]
     },
     "metadata": {
      "needs_background": "light"
     },
     "output_type": "display_data"
    }
   ],
   "source": [
    "x = night_or_day['Sunrise_Sunset']\n",
    "y = night_or_day['Accidents']\n",
    "   \n",
    "fig = plt.figure(figsize = (7, 6)) \n",
    "  \n",
    "# creating the bar plot \n",
    "plt.bar(x, y, width = 0.6) \n",
    "  \n",
    "plt.xlabel(\"Day-Night\") \n",
    "plt.ylabel(\"Accidents\") \n",
    "plt.title(\"Period of the Day\") \n",
    "plt.show() "
   ]
  },
  {
   "cell_type": "markdown",
   "metadata": {},
   "source": [
    "### Conclusion\n",
    "More accidents occur during day time than at night"
   ]
  },
  {
   "cell_type": "markdown",
   "metadata": {
    "scrolled": true
   },
   "source": [
    "#### 3. what time of the day do accident occur"
   ]
  },
  {
   "cell_type": "code",
   "execution_count": 26,
   "metadata": {},
   "outputs": [
    {
     "data": {
      "image/png": "[encoded data removed]",
      "text/plain": [
       "<Figure size 1080x504 with 1 Axes>"
      ]
     },
     "metadata": {
      "needs_background": "light"
     },
     "output_type": "display_data"
    }
   ],
   "source": [
    "# Accident per hour\n",
    "mod3_arp_df['hour'] = pd.DatetimeIndex(mod3_arp_df['Start_Time']).hour\n",
    "\n",
    "plt.figure(figsize =(15,7))\n",
    "mod3_arp_df.groupby(['hour']).size().plot.bar(rot=0)\n",
    "plt.title('Number of accidents for each hour of the day')\n",
    "plt.xlabel('Hour of the day')\n",
    "plt.ylabel('Number of accidents')\n",
    "plt.show()"
   ]
  },
  {
   "cell_type": "markdown",
   "metadata": {},
   "source": [
    "### Conclusion\n",
    "There are two peaks in the barplot above. The first peak is between the hour of 7am and 8am, which is usually the first rush hour of the day and the second is between 4pm and 5pm which is the second rush hour of the day. More accidents occur when there are huge traffic"
   ]
  },
  {
   "cell_type": "markdown",
   "metadata": {},
   "source": [
    "#### 4. Accidents that occurred each day of the week"
   ]
  },
  {
   "cell_type": "code",
   "execution_count": 27,
   "metadata": {},
   "outputs": [
    {
     "data": {
      "image/png": "[encoded data removed]",
      "text/plain": [
       "<Figure size 1080x432 with 1 Axes>"
      ]
     },
     "metadata": {
      "needs_background": "light"
     },
     "output_type": "display_data"
    }
   ],
   "source": [
    "mod3_arp_df['dayOfWeek'] = pd.DatetimeIndex(mod3_arp_df['startTime']).dayofweek\n",
    "plt.figure(figsize =(15,6))\n",
    "mod3_arp_df.groupby(['dayOfWeek']).size().plot.bar()\n",
    "plt.title('Number of accidents for each day of the week')\n",
    "plt.ylabel('Number of accidents')\n",
    "plt.xlabel('Day of the week')\n",
    "plt.show()"
   ]
  },
  {
   "cell_type": "markdown",
   "metadata": {},
   "source": [
    "### Conclusion\n",
    "More accidents occur during the weekdays than weekends"
   ]
  },
  {
   "cell_type": "markdown",
   "metadata": {},
   "source": [
    "#### 5. Accidents per month"
   ]
  },
  {
   "cell_type": "code",
   "execution_count": 28,
   "metadata": {},
   "outputs": [
    {
     "data": {
      "image/png": "[encoded data removed]",
      "text/plain": [
       "<Figure size 864x432 with 1 Axes>"
      ]
     },
     "metadata": {
      "needs_background": "light"
     },
     "output_type": "display_data"
    }
   ],
   "source": [
    "mod3_arp_df['Month'] = pd.DatetimeIndex(mod3_arp_df['Start_Time']).month\n",
    "\n",
    "plt.figure(figsize =(12,6))\n",
    "mod3_arp_df.groupby(['Month']).size().plot.bar()\n",
    "plt.title('Number of accidents per Month')\n",
    "plt.ylabel('Number of accidents')\n",
    "plt.show()\n"
   ]
  },
  {
   "cell_type": "markdown",
   "metadata": {},
   "source": [
    "\n",
    "### Conclusion\n",
    "There are less accidents in July(7th month) than any other month."
   ]
  },
  {
   "cell_type": "markdown",
   "metadata": {},
   "source": [
    "#### 6. Accidents per year"
   ]
  },
  {
   "cell_type": "code",
   "execution_count": 29,
   "metadata": {},
   "outputs": [
    {
     "data": {
      "image/png": "[encoded data removed]",
      "text/plain": [
       "<Figure size 864x432 with 1 Axes>"
      ]
     },
     "metadata": {
      "needs_background": "light"
     },
     "output_type": "display_data"
    }
   ],
   "source": [
    "mod3_arp_df['year'] = pd.DatetimeIndex(mod3_arp_df['Start_Time']).year\n",
    "\n",
    "plt.figure(figsize =(12,6))\n",
    "mod3_arp_df.groupby(['year']).size().plot.bar()\n",
    "plt.title('Number of accidents per Year')\n",
    "plt.ylabel('Number of accidents')\n",
    "plt.show()"
   ]
  },
  {
   "cell_type": "markdown",
   "metadata": {},
   "source": [
    "### Conclusion\n",
    "The number of accidents has been increasing on a yearly basis. These can not be confirm for year 2020 because the data available only included the first six months of 2020"
   ]
  },
  {
   "cell_type": "markdown",
   "metadata": {},
   "source": [
    "# 6. Finding correlations"
   ]
  },
  {
   "cell_type": "markdown",
   "metadata": {},
   "source": [
    "#### 1. Point of Interest\n",
    "Amenity, Bump, Crossing, Give_Way, Junction, No_Exit, Railway, Roundabout, Station, Stop, Traffic_Calming, Traffic_Signal, Turning_Loop"
   ]
  },
  {
   "cell_type": "code",
   "execution_count": 32,
   "metadata": {},
   "outputs": [],
   "source": [
    "\n",
    "pointOfInterest_df = mod3_arp_df[['Severity','Amenity','Bump','Crossing','Give_Way','Junction','No_Exit','Railway','Roundabout','Station','Stop','Traffic_Calming', 'Traffic_Signal']]\n"
   ]
  },
  {
   "cell_type": "code",
   "execution_count": 33,
   "metadata": {
    "scrolled": false
   },
   "outputs": [
    {
     "data": {
      "image/png": "[encoded data removed]",
      "text/plain": [
       "<Figure size 1080x648 with 2 Axes>"
      ]
     },
     "metadata": {
      "needs_background": "light"
     },
     "output_type": "display_data"
    }
   ],
   "source": [
    "POI_corr = pointOfInterest_df.corr()\n",
    "f, ax = plt.subplots(figsize=(15, 9))\n",
    "ax = sns.heatmap(POI_corr, cmap=\"Reds\", annot=True)\n"
   ]
  },
  {
   "cell_type": "markdown",
   "metadata": {},
   "source": [
    "There is no significant correlation between severity and the various POI. \n",
    "Among the POI, Bump and Traffic_Calming have a fairly strong positive correlation. While crossing\n",
    "and Traffic_Signal have a weak positive correlation."
   ]
  },
  {
   "cell_type": "markdown",
   "metadata": {},
   "source": [
    "#### 2. Important features\n",
    "Visibility_mi, Pressure_in, Humidity_%, Temperature_F, Weather_Condition, Wind_Speed_mph, Wind_Direction"
   ]
  },
  {
   "cell_type": "code",
   "execution_count": 34,
   "metadata": {},
   "outputs": [],
   "source": [
    "imp_features_df = mod3_arp_df[['Severity','Visibility_mi','Pressure_in','Humidity_%','Temperature_F','Weather_Condition','Wind_Speed_mph','Wind_Direction']]\n"
   ]
  },
  {
   "cell_type": "code",
   "execution_count": 35,
   "metadata": {},
   "outputs": [
    {
     "data": {
      "image/png": "[encoded data removed]",
      "text/plain": [
       "<Figure size 864x504 with 2 Axes>"
      ]
     },
     "metadata": {
      "needs_background": "light"
     },
     "output_type": "display_data"
    }
   ],
   "source": [
    "Imp_Features = imp_features_df.corr() \n",
    "f, ax = plt.subplots(figsize=(12, 7))\n",
    "ax = sns.heatmap(Imp_Features, cmap=\"Reds\", annot=True)\n"
   ]
  },
  {
   "cell_type": "markdown",
   "metadata": {},
   "source": [
    "There is no significant correlation between severity and the important features"
   ]
  },
  {
   "cell_type": "code",
   "execution_count": null,
   "metadata": {},
   "outputs": [],
   "source": []
  }
 ],
 "metadata": {
  "kernelspec": {
   "display_name": "Python 3",
   "language": "python",
   "name": "python3"
  },
  "language_info": {
   "codemirror_mode": {
    "name": "ipython",
    "version": 3
   },
   "file_extension": ".py",
   "mimetype": "text/x-python",
   "name": "python",
   "nbconvert_exporter": "python",
   "pygments_lexer": "ipython3",
   "version": "3.7.3"
  }
 },
 "nbformat": 4,
 "nbformat_minor": 4
}
