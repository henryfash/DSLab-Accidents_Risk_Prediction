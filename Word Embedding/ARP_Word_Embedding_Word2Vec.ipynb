{
 "cells": [
  {
   "cell_type": "code",
   "execution_count": 1,
   "metadata": {},
   "outputs": [],
   "source": [
    "import pickle"
   ]
  },
  {
   "cell_type": "code",
   "execution_count": 13,
   "metadata": {},
   "outputs": [],
   "source": [
    "import pandas as pd\n",
    "import numpy as np\n",
    "import gensim"
   ]
  },
  {
   "cell_type": "code",
   "execution_count": 3,
   "metadata": {},
   "outputs": [],
   "source": [
    "df_arp = pd.read_pickle('US_Accidents_June20_modified.pkl')"
   ]
  },
  {
   "cell_type": "code",
   "execution_count": 4,
   "metadata": {},
   "outputs": [
    {
     "data": {
      "text/html": [
       "<div>\n",
       "<style scoped>\n",
       "    .dataframe tbody tr th:only-of-type {\n",
       "        vertical-align: middle;\n",
       "    }\n",
       "\n",
       "    .dataframe tbody tr th {\n",
       "        vertical-align: top;\n",
       "    }\n",
       "\n",
       "    .dataframe thead th {\n",
       "        text-align: right;\n",
       "    }\n",
       "</style>\n",
       "<table border=\"1\" class=\"dataframe\">\n",
       "  <thead>\n",
       "    <tr style=\"text-align: right;\">\n",
       "      <th></th>\n",
       "      <th>ID</th>\n",
       "      <th>Source</th>\n",
       "      <th>TMC</th>\n",
       "      <th>Severity</th>\n",
       "      <th>Start_Time</th>\n",
       "      <th>End_Time</th>\n",
       "      <th>Start_Lat</th>\n",
       "      <th>Start_Lng</th>\n",
       "      <th>End_Lat</th>\n",
       "      <th>End_Lng</th>\n",
       "      <th>...</th>\n",
       "      <th>Turning_Loop</th>\n",
       "      <th>Sunrise_Sunset</th>\n",
       "      <th>Civil_Twilight</th>\n",
       "      <th>Nautical_Twilight</th>\n",
       "      <th>Astronomical_Twilight</th>\n",
       "      <th>accDuration</th>\n",
       "      <th>day</th>\n",
       "      <th>month</th>\n",
       "      <th>year</th>\n",
       "      <th>dayOfWeek</th>\n",
       "    </tr>\n",
       "  </thead>\n",
       "  <tbody>\n",
       "    <tr>\n",
       "      <th>0</th>\n",
       "      <td>A-1</td>\n",
       "      <td>MapQuest</td>\n",
       "      <td>201.0</td>\n",
       "      <td>3</td>\n",
       "      <td>2016-02-08 05:46:00</td>\n",
       "      <td>2016-02-08 11:00:00</td>\n",
       "      <td>39.865147</td>\n",
       "      <td>-84.058723</td>\n",
       "      <td>NaN</td>\n",
       "      <td>NaN</td>\n",
       "      <td>...</td>\n",
       "      <td>0</td>\n",
       "      <td>Night</td>\n",
       "      <td>Night</td>\n",
       "      <td>Night</td>\n",
       "      <td>Night</td>\n",
       "      <td>314.0</td>\n",
       "      <td>8</td>\n",
       "      <td>2</td>\n",
       "      <td>2016</td>\n",
       "      <td>0</td>\n",
       "    </tr>\n",
       "    <tr>\n",
       "      <th>1</th>\n",
       "      <td>A-2</td>\n",
       "      <td>MapQuest</td>\n",
       "      <td>201.0</td>\n",
       "      <td>2</td>\n",
       "      <td>2016-02-08 06:07:59</td>\n",
       "      <td>2016-02-08 06:37:59</td>\n",
       "      <td>39.928059</td>\n",
       "      <td>-82.831184</td>\n",
       "      <td>NaN</td>\n",
       "      <td>NaN</td>\n",
       "      <td>...</td>\n",
       "      <td>0</td>\n",
       "      <td>Night</td>\n",
       "      <td>Night</td>\n",
       "      <td>Night</td>\n",
       "      <td>Day</td>\n",
       "      <td>30.0</td>\n",
       "      <td>8</td>\n",
       "      <td>2</td>\n",
       "      <td>2016</td>\n",
       "      <td>0</td>\n",
       "    </tr>\n",
       "    <tr>\n",
       "      <th>2</th>\n",
       "      <td>A-3</td>\n",
       "      <td>MapQuest</td>\n",
       "      <td>201.0</td>\n",
       "      <td>2</td>\n",
       "      <td>2016-02-08 06:49:27</td>\n",
       "      <td>2016-02-08 07:19:27</td>\n",
       "      <td>39.063148</td>\n",
       "      <td>-84.032608</td>\n",
       "      <td>NaN</td>\n",
       "      <td>NaN</td>\n",
       "      <td>...</td>\n",
       "      <td>0</td>\n",
       "      <td>Night</td>\n",
       "      <td>Night</td>\n",
       "      <td>Day</td>\n",
       "      <td>Day</td>\n",
       "      <td>30.0</td>\n",
       "      <td>8</td>\n",
       "      <td>2</td>\n",
       "      <td>2016</td>\n",
       "      <td>0</td>\n",
       "    </tr>\n",
       "  </tbody>\n",
       "</table>\n",
       "<p>3 rows × 54 columns</p>\n",
       "</div>"
      ],
      "text/plain": [
       "    ID    Source    TMC  Severity           Start_Time             End_Time  \\\n",
       "0  A-1  MapQuest  201.0         3  2016-02-08 05:46:00  2016-02-08 11:00:00   \n",
       "1  A-2  MapQuest  201.0         2  2016-02-08 06:07:59  2016-02-08 06:37:59   \n",
       "2  A-3  MapQuest  201.0         2  2016-02-08 06:49:27  2016-02-08 07:19:27   \n",
       "\n",
       "   Start_Lat  Start_Lng  End_Lat  End_Lng  ...  Turning_Loop Sunrise_Sunset  \\\n",
       "0  39.865147 -84.058723      NaN      NaN  ...             0          Night   \n",
       "1  39.928059 -82.831184      NaN      NaN  ...             0          Night   \n",
       "2  39.063148 -84.032608      NaN      NaN  ...             0          Night   \n",
       "\n",
       "   Civil_Twilight Nautical_Twilight Astronomical_Twilight accDuration day  \\\n",
       "0           Night             Night                 Night       314.0   8   \n",
       "1           Night             Night                   Day        30.0   8   \n",
       "2           Night               Day                   Day        30.0   8   \n",
       "\n",
       "  month  year dayOfWeek  \n",
       "0     2  2016         0  \n",
       "1     2  2016         0  \n",
       "2     2  2016         0  \n",
       "\n",
       "[3 rows x 54 columns]"
      ]
     },
     "execution_count": 4,
     "metadata": {},
     "output_type": "execute_result"
    }
   ],
   "source": [
    "df_arp.head(3)"
   ]
  },
  {
   "cell_type": "code",
   "execution_count": 5,
   "metadata": {},
   "outputs": [
    {
     "data": {
      "text/plain": [
       "0    Right lane blocked due to accident on I-70 Eas...\n",
       "1    Accident on Brice Rd at Tussing Rd. Expect del...\n",
       "2    Accident on OH-32 State Route 32 Westbound at ...\n",
       "3    Accident on I-75 Southbound at Exits 52 52B US...\n",
       "4    Accident on McEwen Rd at OH-725 Miamisburg Cen...\n",
       "Name: Description, dtype: object"
      ]
     },
     "execution_count": 5,
     "metadata": {},
     "output_type": "execute_result"
    }
   ],
   "source": [
    "accident_Description = df_arp['Description']\n",
    "accident_Description.head(5)"
   ]
  },
  {
   "cell_type": "code",
   "execution_count": 36,
   "metadata": {},
   "outputs": [
    {
     "data": {
      "text/plain": [
       "1"
      ]
     },
     "execution_count": 36,
     "metadata": {},
     "output_type": "execute_result"
    }
   ],
   "source": [
    "accident_Description.isnull().sum()"
   ]
  },
  {
   "cell_type": "code",
   "execution_count": 6,
   "metadata": {},
   "outputs": [],
   "source": [
    "accident_Description.dropna(inplace=True)"
   ]
  },
  {
   "cell_type": "code",
   "execution_count": 7,
   "metadata": {},
   "outputs": [],
   "source": [
    "from gensim.models import Word2Vec, KeyedVectors\n",
    "import nltk"
   ]
  },
  {
   "cell_type": "code",
   "execution_count": 8,
   "metadata": {},
   "outputs": [
    {
     "name": "stderr",
     "output_type": "stream",
     "text": [
      "[nltk_data] Downloading package punkt to\n",
      "[nltk_data]     C:\\Users\\Henry\\AppData\\Roaming\\nltk_data...\n",
      "[nltk_data]   Package punkt is already up-to-date!\n"
     ]
    },
    {
     "data": {
      "text/plain": [
       "True"
      ]
     },
     "execution_count": 8,
     "metadata": {},
     "output_type": "execute_result"
    }
   ],
   "source": [
    "nltk.download('punkt')"
   ]
  },
  {
   "cell_type": "code",
   "execution_count": 11,
   "metadata": {},
   "outputs": [
    {
     "data": {
      "text/plain": [
       "[['right',\n",
       "  'lane',\n",
       "  'blocked',\n",
       "  'due',\n",
       "  'to',\n",
       "  'accident',\n",
       "  'on',\n",
       "  'i70',\n",
       "  'eastbound',\n",
       "  'at',\n",
       "  'exit',\n",
       "  '41',\n",
       "  'oh235',\n",
       "  'state',\n",
       "  'route',\n",
       "  '4'],\n",
       " ['accident', 'on', 'brice', 'rd', 'at', 'tussing', 'rd', 'expect', 'delays']]"
      ]
     },
     "execution_count": 11,
     "metadata": {},
     "output_type": "execute_result"
    }
   ],
   "source": [
    "import string\n",
    "from nltk.tokenize import word_tokenize\n",
    "from nltk.corpus import stopwords\n",
    "\n",
    "STOP_WORDS = nltk.corpus.stopwords.words()\n",
    "\n",
    "\n",
    "accident_words = list()\n",
    "acc_descs = accident_Description.values.tolist()\n",
    "\n",
    "for acc_desc in acc_descs:\n",
    "    # tokenize the text\n",
    "    tokens = word_tokenize(acc_desc)\n",
    "    tokens = [w.lower() for w in tokens]\n",
    "    # remove puntuations\n",
    "    table = str.maketrans('', '', string.punctuation)\n",
    "    stripped = [w.translate(table) for w in tokens]   \n",
    "    words = [word for word in stripped if word.isalnum()]\n",
    "    \n",
    "    accident_words.append(words)\n",
    "    \n",
    "accident_words[0:2]"
   ]
  },
  {
   "cell_type": "code",
   "execution_count": 14,
   "metadata": {},
   "outputs": [
    {
     "name": "stdout",
     "output_type": "stream",
     "text": [
      "115939\n"
     ]
    }
   ],
   "source": [
    "descript_model = gensim.models.Word2Vec(accident_words,sg=0, min_count = 1, size = 100)\n",
    "\n",
    "vocab_words = list(descript_model.wv.vocab)                                                                      \n",
    "print(len(vocab_words))"
   ]
  },
  {
   "cell_type": "code",
   "execution_count": 16,
   "metadata": {},
   "outputs": [
    {
     "name": "stdout",
     "output_type": "stream",
     "text": [
      "[ 1.0261064  -0.4782968   1.8467767  -3.3768106   1.6818061  -3.6250913\n",
      " -1.1265564   1.2234533  -1.2657194   2.1903906  -0.76387984 -3.2177303\n",
      "  0.95665413  3.007439   -1.9354888   0.37922025  0.33382198 -1.1044161\n",
      " -1.0363758  -0.5491038   0.9793102   0.9137295  -3.1821184  -2.541355\n",
      " -1.5571206   1.2491034  -0.8669039   8.331582   -4.063615    2.1158621\n",
      "  2.2704232   1.5978181   1.2151113   2.7025487  -0.33382207 -1.8396045\n",
      " -0.963319   -2.7385528   4.027408    0.91348255 -5.5980163  -0.5097151\n",
      "  1.8219981  -4.7624726  -3.3167698   1.3864849  -1.6380134   1.0055976\n",
      "  1.0121188  -3.100438    0.47566774  1.9820839   2.7310731  -2.0438354\n",
      "  2.6239624  -2.0875978   3.3794343   3.1216953  -1.934896    1.7696929\n",
      " -2.386086    0.5266452   1.0670229   2.9514894  -0.6427333   0.10470279\n",
      "  0.358812   -4.0489097  -1.552218    1.0201106  -0.3416831  -2.067096\n",
      "  0.3606171   1.9331748   1.1454879   1.0661063  -0.5048192   1.9850503\n",
      " -0.3763151  -1.3223227  -4.2319174   2.6370142   0.66647524 -0.84209263\n",
      "  2.0328426  -2.6722336   0.28134617  2.0745451   1.0196682  -2.3484657\n",
      " -2.6621451   3.0647528  -2.5497332   1.9029547  -2.793786    0.34840277\n",
      " -1.7637172   0.16987622  0.6262649  -2.6698534 ]\n"
     ]
    }
   ],
   "source": [
    "print(descript_model.wv['right'])"
   ]
  },
  {
   "cell_type": "code",
   "execution_count": 18,
   "metadata": {},
   "outputs": [
    {
     "data": {
      "text/plain": [
       "[('left', 0.9854912161827087),\n",
       " ('one', 0.8674978017807007),\n",
       " ('hov', 0.7532336711883545),\n",
       " ('1', 0.7086288928985596),\n",
       " ('middle', 0.6866719722747803),\n",
       " ('center', 0.6802629232406616),\n",
       " ('multivehicle', 0.67775559425354),\n",
       " ('two', 0.6701303720474243),\n",
       " ('slow', 0.6580155491828918),\n",
       " ('hand', 0.621357798576355)]"
      ]
     },
     "execution_count": 18,
     "metadata": {},
     "output_type": "execute_result"
    }
   ],
   "source": [
    "descript_model.wv.most_similar(['right'])"
   ]
  },
  {
   "cell_type": "code",
   "execution_count": 20,
   "metadata": {
    "scrolled": false
   },
   "outputs": [
    {
     "data": {
      "text/plain": [
       "[('exits', 0.909766674041748),\n",
       " ('entry', 0.5253697633743286),\n",
       " ('accident', 0.465886652469635),\n",
       " ('mm', 0.4515005648136139),\n",
       " ('highway', 0.41362303495407104),\n",
       " ('on', 0.3727914094924927),\n",
       " ('mile', 0.3709530830383301),\n",
       " ('earlier', 0.36107903718948364),\n",
       " ('route', 0.35979989171028137),\n",
       " ('mp', 0.3582194447517395)]"
      ]
     },
     "execution_count": 20,
     "metadata": {},
     "output_type": "execute_result"
    }
   ],
   "source": [
    "descript_model.wv.most_similar(['exit'])"
   ]
  },
  {
   "cell_type": "code",
   "execution_count": 28,
   "metadata": {},
   "outputs": [],
   "source": [
    "# Let's save the model to file!\n",
    "model = descript_model.save('w2v_model.p')"
   ]
  },
  {
   "cell_type": "code",
   "execution_count": 26,
   "metadata": {},
   "outputs": [],
   "source": [
    "descript_model.save('w2v_model.txt')"
   ]
  },
  {
   "cell_type": "code",
   "execution_count": 33,
   "metadata": {
    "scrolled": true
   },
   "outputs": [
    {
     "name": "stderr",
     "output_type": "stream",
     "text": [
      "C:\\Users\\Henry\\Anaconda3\\lib\\site-packages\\ipykernel_launcher.py:10: DeprecationWarning: Call to deprecated `__getitem__` (Method will be removed in 4.0.0, use self.wv.__getitem__() instead).\n",
      "  # Remove the CWD from sys.path while we load stuff.\n"
     ]
    },
    {
     "data": {
      "image/png": "[encoded data removed]",
      "text/plain": [
       "<Figure size 432x288 with 1 Axes>"
      ]
     },
     "metadata": {
      "needs_background": "light"
     },
     "output_type": "display_data"
    },
    {
     "data": {
      "text/plain": [
       "<Figure size 1440x1440 with 0 Axes>"
      ]
     },
     "metadata": {},
     "output_type": "display_data"
    }
   ],
   "source": [
    "import matplotlib.pyplot as plt\n",
    "from sklearn.decomposition import PCA\n",
    "\n",
    "my_model = gensim.models.Word2Vec.load('my_vecs.p')\n",
    "\n",
    "model_vocab = my_model.wv.vocab\n",
    "\n",
    "pca = PCA(n_components=2)\n",
    "\n",
    "my_pca = pca.fit_transform(my_model[model_vocab])\n",
    "\n",
    "plt.scatter(my_pca[:,0], my_pca[:,1])\n",
    "\n",
    "for i, word in enumerate(model_vocab):\n",
    "    plt.annotate(word, xy=(my_pca[i,0], my_pca[i,1]))\n",
    "\n",
    "     \n",
    "plt.figure(figsize=(20, 20))     \n",
    "plt.show()"
   ]
  }
 ],
 "metadata": {
  "kernelspec": {
   "display_name": "Python 3",
   "language": "python",
   "name": "python3"
  },
  "language_info": {
   "codemirror_mode": {
    "name": "ipython",
    "version": 3
   },
   "file_extension": ".py",
   "mimetype": "text/x-python",
   "name": "python",
   "nbconvert_exporter": "python",
   "pygments_lexer": "ipython3",
   "version": "3.7.3"
  }
 },
 "nbformat": 4,
 "nbformat_minor": 2
}
