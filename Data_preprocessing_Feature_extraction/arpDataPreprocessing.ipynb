{
 "cells": [
  {
   "cell_type": "markdown",
   "metadata": {},
   "source": [
    "<h1> Data Pre-processing</h1>\n",
    "<h3>Title:</h3> <em>Processing data on US Accidents Dataset for visualizations and preparation of data for training and testing the models for predictions</em> \n",
    "<h3>Author:</h3> <em>Uttam Kumar</em>"
   ]
  },
  {
   "cell_type": "markdown",
   "metadata": {},
   "source": [
    "<em> Firstly for doing exploratory data analysis and then for building train and test sets of models </em>"
   ]
  },
  {
   "cell_type": "code",
   "execution_count": 1,
   "metadata": {},
   "outputs": [],
   "source": [
    "import pandas as pd\n",
    "import numpy as np\n",
    "import seaborn as sns\n",
    "import matplotlib.pyplot as plt\n",
    "import math\n",
    "import regex as re\n",
    "import warnings; warnings.simplefilter('ignore')\n",
    "from feature_extraction import *"
   ]
  },
  {
   "cell_type": "code",
   "execution_count": 2,
   "metadata": {},
   "outputs": [
    {
     "name": "stdout",
     "output_type": "stream",
     "text": [
      "3487839\n",
      "282\n"
     ]
    }
   ],
   "source": [
    "#arp_df = pd.read_csv('../data_files/US_Accidents_June20.csv')  #only for first time when no modified version exist\n",
    "#arp_df = pd.read_pickle('../data_files/US_Accidents_June20_modified.pkl') #3513617 rows, 57 col incl cust time \n",
    "#arp_df = pd.read_pickle('../data_files/US_Accidents_June20_modified_v1.pkl') #geo features, 3513617 row, 56 clmn \n",
    "#arp_df = pd.read_pickle('../data_files/US_Accidents_June20_modified_v2.pkl') #weather cond., 3513617 row, 69 clmn\n",
    "#NaN handled, 3487860 rows, 70 colmns, then #4 severity, 4 timezones, 2 side, 8 day/night, 18 wind_direction \n",
    "#i.e. 106 cols, 3487859 rows, 1 r del as Side = ' ', 22 TMC columns and 39 colmns of weather params, i.e. 160 colm \n",
    "arp_df = pd.read_pickle('../data_files/US_Accidents_June20_modified_v3.pkl') \n",
    "#Comn strt 25, 1+96 timeQuartOfDay, i.e. total 282 columns,  3487839 rows exist now\n",
    "print(len(arp_df))\n",
    "print(len(arp_df.columns))\n",
    "#arp_df.columns"
   ]
  },
  {
   "cell_type": "code",
   "execution_count": 3,
   "metadata": {},
   "outputs": [],
   "source": [
    "#len(arp_df.ID) # = arp_df.ID.unique() = 3513617 records from '2016-02-08 00:37:08' till '2020-06-30 23:18:09'\n",
    "#min(arp_df.Start_Time)\n",
    "#len(arp_df.Start_Lat.unique())         #1124695\n",
    "#len(arp_df.Description.unique())       #1780093\n",
    "#len(arp_df.Number.unique())              #40366\n",
    "#len(arp_df.Street.unique())             #176262\n",
    "#len(arp_df.City.unique())                #11896\n",
    "#len(arp_df.County.unique())               #1724\n",
    "#len(arp_df.State.unique())                  #49\n",
    "#len(arp_df.Timezone.unique())                #5\n",
    "#len(arp_df.Airport_Code.unique())         #2002\n",
    "#len(arp_df.Weather_Timestamp.unique())  #546087\n",
    "#len(arp_df.Wind_Direction.unique())         #25\n",
    "#len(arp_df.Weather_Condition.unique())     #128\n",
    "#len(arp_df.Amenity.unique()) #,'Bump', 'Crossing', 'Give_Way', 'Junction', 'No_Exit', 'Railway', 'Roundabout', \n",
    "#           'Station','Stop','Traffic_Calming','Traffic_Signal','Turning_Loop'  #all True/False   #2\n",
    "#len(arp_df.Sunrise_Sunset.unique())          #3\n",
    "#len(arp_df.Civil_Twilight.unique())          #3\n",
    "#len(arp_df.Nautical_Twilight.unique())       #3"
   ]
  },
  {
   "cell_type": "code",
   "execution_count": 4,
   "metadata": {},
   "outputs": [
    {
     "data": {
      "text/plain": [
       "array(['MapQuest', 'MapQuest-Bing', 'Bing'], dtype=object)"
      ]
     },
     "execution_count": 4,
     "metadata": {},
     "output_type": "execute_result"
    }
   ],
   "source": [
    "arp_df.Source.unique()"
   ]
  },
  {
   "cell_type": "code",
   "execution_count": 5,
   "metadata": {},
   "outputs": [
    {
     "data": {
      "text/plain": [
       "R    2879797\n",
       "L     633819\n",
       "           1\n",
       "Name: Side, dtype: int64"
      ]
     },
     "execution_count": 5,
     "metadata": {},
     "output_type": "execute_result"
    }
   ],
   "source": [
    "#arp_df.TMC.isna()\n",
    "arp_df.Side.value_counts()"
   ]
  },
  {
   "cell_type": "code",
   "execution_count": 6,
   "metadata": {},
   "outputs": [
    {
     "data": {
      "text/plain": [
       "array([3, 2, 1, 4])"
      ]
     },
     "execution_count": 6,
     "metadata": {},
     "output_type": "execute_result"
    }
   ],
   "source": [
    "arp_df.Severity.unique()"
   ]
  },
  {
   "cell_type": "code",
   "execution_count": 7,
   "metadata": {},
   "outputs": [
    {
     "data": {
      "text/plain": [
       "array(['US/Eastern', 'US/Pacific', nan, 'US/Central', 'US/Mountain'],\n",
       "      dtype=object)"
      ]
     },
     "execution_count": 7,
     "metadata": {},
     "output_type": "execute_result"
    }
   ],
   "source": [
    "arp_df.Timezone.unique()"
   ]
  },
  {
   "cell_type": "code",
   "execution_count": 8,
   "metadata": {},
   "outputs": [
    {
     "data": {
      "text/plain": [
       "array([0, 1])"
      ]
     },
     "execution_count": 8,
     "metadata": {},
     "output_type": "execute_result"
    }
   ],
   "source": [
    "arp_df.Amenity.unique()  #boolean column starts"
   ]
  },
  {
   "cell_type": "code",
   "execution_count": 9,
   "metadata": {},
   "outputs": [
    {
     "data": {
      "text/plain": [
       "array([0])"
      ]
     },
     "execution_count": 9,
     "metadata": {},
     "output_type": "execute_result"
    }
   ],
   "source": [
    "arp_df.Turning_Loop.unique()  #boolean column ends"
   ]
  },
  {
   "cell_type": "code",
   "execution_count": 4,
   "metadata": {},
   "outputs": [
    {
     "data": {
      "text/plain": [
       "0    0\n",
       "1    0\n",
       "2    1\n",
       "3    0\n",
       "4    1\n",
       "Name: Traffic_Signal, dtype: int64"
      ]
     },
     "execution_count": 4,
     "metadata": {},
     "output_type": "execute_result"
    }
   ],
   "source": [
    "#len(arp_df.Weather_Timestamp.unique())\n",
    "arp_df.Traffic_Signal.head(5)"
   ]
  },
  {
   "cell_type": "code",
   "execution_count": 11,
   "metadata": {},
   "outputs": [
    {
     "data": {
      "text/plain": [
       "array(['Night', 'Day', nan], dtype=object)"
      ]
     },
     "execution_count": 11,
     "metadata": {},
     "output_type": "execute_result"
    }
   ],
   "source": [
    "arp_df.Sunrise_Sunset.unique()"
   ]
  },
  {
   "cell_type": "code",
   "execution_count": 12,
   "metadata": {},
   "outputs": [
    {
     "data": {
      "text/plain": [
       "array(['Night', 'Day', nan], dtype=object)"
      ]
     },
     "execution_count": 12,
     "metadata": {},
     "output_type": "execute_result"
    }
   ],
   "source": [
    "arp_df.Civil_Twilight.unique()"
   ]
  },
  {
   "cell_type": "code",
   "execution_count": 13,
   "metadata": {},
   "outputs": [
    {
     "data": {
      "text/plain": [
       "array(['Night', 'Day', nan], dtype=object)"
      ]
     },
     "execution_count": 13,
     "metadata": {},
     "output_type": "execute_result"
    }
   ],
   "source": [
    "arp_df.Nautical_Twilight.unique()"
   ]
  },
  {
   "cell_type": "code",
   "execution_count": 14,
   "metadata": {},
   "outputs": [
    {
     "data": {
      "text/plain": [
       "array(['Night', 'Day', nan], dtype=object)"
      ]
     },
     "execution_count": 14,
     "metadata": {},
     "output_type": "execute_result"
    }
   ],
   "source": [
    "arp_df.Astronomical_Twilight.unique()"
   ]
  },
  {
   "cell_type": "code",
   "execution_count": 15,
   "metadata": {},
   "outputs": [
    {
     "data": {
      "text/plain": [
       "array(['CALM', 'SW', 'SSW', 'WSW', 'WNW', 'NW', 'W', 'NNW', 'NNE', 'S',\n",
       "       'N', 'VAR', 'SE', 'SSE', 'ESE', 'E', 'NE', 'ENE', nan],\n",
       "      dtype=object)"
      ]
     },
     "execution_count": 15,
     "metadata": {},
     "output_type": "execute_result"
    }
   ],
   "source": [
    "arp_df.Wind_Direction.unique()"
   ]
  },
  {
   "cell_type": "code",
   "execution_count": 16,
   "metadata": {},
   "outputs": [
    {
     "data": {
      "text/plain": [
       "0                       I-70 E\n",
       "1                     Brice Rd\n",
       "2               State Route 32\n",
       "3                       I-75 S\n",
       "4    Miamisburg Centerville Rd\n",
       "Name: Street, dtype: object"
      ]
     },
     "execution_count": 16,
     "metadata": {},
     "output_type": "execute_result"
    }
   ],
   "source": [
    "arp_df['Street'].head(5)"
   ]
  },
  {
   "cell_type": "markdown",
   "metadata": {},
   "source": [
    "<em>Wind direction data to be cleaned to have meaningful unique directions </em>"
   ]
  },
  {
   "cell_type": "markdown",
   "metadata": {},
   "source": [
    "<h2>Feature Extraction and Data Cleaning</h2>"
   ]
  },
  {
   "cell_type": "markdown",
   "metadata": {},
   "source": [
    "<em> If already ran once, then read pickle file only with command at end of the cell</em>"
   ]
  },
  {
   "cell_type": "markdown",
   "metadata": {},
   "source": [
    "<h3> Cleaning redundant columns of wind direction </h3>"
   ]
  },
  {
   "cell_type": "code",
   "execution_count": 18,
   "metadata": {},
   "outputs": [
    {
     "name": "stdout",
     "output_type": "stream",
     "text": [
      "No of columns in dataframe at start 49\n",
      "geo-time features ...\n",
      "accDuration added to the df in 2 sec\n",
      "geometry field added to the df in 35 sec\n",
      "day,month,year,dayOfWeek added to the df in 4 sec\n",
      "boolean conversion features ...\n",
      "renaming few weather columns ...\n",
      "Wind Direction before data cleanup:  ['Calm' 'SW' 'SSW' 'WSW' 'WNW' 'NW' 'West' 'NNW' 'NNE' 'South' 'North'\n",
      " 'Variable' 'SE' 'SSE' 'ESE' 'East' 'NE' 'ENE' 'E' 'W' nan 'S' 'VAR'\n",
      " 'CALM' 'N']\n",
      "cleaning Wind_Direction data ...\n",
      "Wind Direction after simplification:  ['CALM' 'SW' 'SSW' 'WSW' 'WNW' 'NW' 'W' 'NNW' 'NNE' 'S' 'N' 'VAR' 'SE'\n",
      " 'SSE' 'ESE' 'E' 'NE' 'ENE' nan]\n",
      "No of columns in dataframe after all operations 57\n"
     ]
    }
   ],
   "source": [
    "print('No of columns in dataframe at start '+str(len(arp_df.columns)))   #should be 49\n",
    "mod1_arp_df = get_time_features(arp_df) #6 columns added: accDuration, day, month, year, dayOfWeek, geometry\n",
    "mod2_arp_df = convert_boolean_features(mod1_arp_df) #13 columns converted\n",
    "mod3_arp_df = rename_bracketed_columns(mod2_arp_df) #8 columns renamed\n",
    "print(\"Wind Direction before data cleanup: \", arp_df['Wind_Direction'].unique())\n",
    "arp_df = clean_wind_direction_data(mod3_arp_df)  #clean Wind_Direction data\n",
    "print(\"Wind Direction after simplification: \", arp_df['Wind_Direction'].unique())\n",
    "arp_df.to_pickle('../data_files/US_Accidents_June20_modified.pkl')\n",
    "print('No of columns in dataframe after all operations '+str(len(arp_df.columns)))  #should be 57\n",
    "#arp_df = pd.read_pickle('../data_files/US_Accidents_June20_modified.pkl')"
   ]
  },
  {
   "cell_type": "markdown",
   "metadata": {},
   "source": [
    "<em> Can experiment using data from Aug 2017 until June 2020, i.e. 35 months data </em>\n",
    "<em> Data before Aug 17 for many states are not fully collected as only one of two api was active </em>"
   ]
  },
  {
   "cell_type": "code",
   "execution_count": 21,
   "metadata": {},
   "outputs": [],
   "source": [
    "##print(len(arp_df)) #3513617 total records\n",
    "##flt_arp_df = arp_df.loc[arp_df['Start_Time']>'2017-08-01 00:00:00']\n",
    "##print(len(flt_arp_df))  ##2759781 records\n",
    "##arp_df = flt_arp_df"
   ]
  },
  {
   "cell_type": "markdown",
   "metadata": {},
   "source": [
    "<h2> Work for v1 of dataset starts </h2>"
   ]
  },
  {
   "cell_type": "markdown",
   "metadata": {},
   "source": [
    "<h3>Columns to be dropped</h3>\n",
    "<em> Country & Turning_Loop has only one value so not helpful </em> <br>\n",
    "<em> Wind_Chill_F, Number have more than 55% null values</em> <br>\n",
    "<em> End_Lat, End_Lng have more than 50% null values, alt. for use is Start_Lat, Start_Lng with distance, still we do not drop them</em>"
   ]
  },
  {
   "cell_type": "code",
   "execution_count": 22,
   "metadata": {},
   "outputs": [
    {
     "name": "stdout",
     "output_type": "stream",
     "text": [
      "53\n"
     ]
    }
   ],
   "source": [
    "arp_df = drop_unwanted_columns(arp_df)\n",
    "print(len(arp_df.columns))\n",
    "#53 columns remain"
   ]
  },
  {
   "cell_type": "markdown",
   "metadata": {},
   "source": [
    "<h3>Adding geohashes</h3>"
   ]
  },
  {
   "cell_type": "markdown",
   "metadata": {},
   "source": [
    "<em>Add 3 columns for geohashes which are geohash4, geohash5 and geohash6. geohash5 is area 4.89*4.89 KM sq </em>"
   ]
  },
  {
   "cell_type": "code",
   "execution_count": 23,
   "metadata": {},
   "outputs": [
    {
     "name": "stdout",
     "output_type": "stream",
     "text": [
      "adding geohashes...\n",
      "geometry, geohash4 to geohash6 added to the df in 1605 sec\n",
      "3513617\n",
      "56\n",
      "    ID    Source    TMC  Severity           Start_Time             End_Time  \\\n",
      "0  A-1  MapQuest  201.0         3  2016-02-08 05:46:00  2016-02-08 11:00:00   \n",
      "1  A-2  MapQuest  201.0         2  2016-02-08 06:07:59  2016-02-08 06:37:59   \n",
      "\n",
      "   Start_Lat  Start_Lng  End_Lat  End_Lng  ...             endTime  \\\n",
      "0  39.865147 -84.058723      NaN      NaN  ... 2016-02-08 11:00:00   \n",
      "1  39.928059 -82.831184      NaN      NaN  ... 2016-02-08 06:37:59   \n",
      "\n",
      "  accDuration                    geometry day month  year dayOfWeek geohash4  \\\n",
      "0       314.0  POINT (-84.05872 39.86515)   8     2  2016         0     dph4   \n",
      "1        30.0  POINT (-82.83118 39.92806)   8     2  2016         0     dpj5   \n",
      "\n",
      "  geohash5 geohash6  \n",
      "0    dph4z   dph4z1  \n",
      "1    dpj55   dpj55h  \n",
      "\n",
      "[2 rows x 56 columns]\n"
     ]
    }
   ],
   "source": [
    "geo_arp_df = add_geohashes(arp_df)\n",
    "print(len(geo_arp_df))\n",
    "print(len(geo_arp_df.columns))\n",
    "print(geo_arp_df.head(2))\n",
    "arp_df = geo_arp_df"
   ]
  },
  {
   "cell_type": "code",
   "execution_count": 24,
   "metadata": {},
   "outputs": [],
   "source": [
    "arp_df.to_pickle('../data_files/US_Accidents_June20_modified_v1.pkl')"
   ]
  },
  {
   "cell_type": "markdown",
   "metadata": {},
   "source": [
    "<h3>Distinctive weather conditions grouped in bins to reduce redundancy </h3>"
   ]
  },
  {
   "cell_type": "code",
   "execution_count": 3,
   "metadata": {},
   "outputs": [
    {
     "name": "stdout",
     "output_type": "stream",
     "text": [
      "Weather Conditions:  ['', 'Clear', 'Cloudy', 'Drifting Snow', 'Drizzle', 'Dust', 'Dust Whirls', 'Dust Whirls Nearby', 'Dust Whirlwinds', 'Fair', 'Fog', 'Funnel Cloud', 'Hail', 'Haze', 'Heavy ', 'Heavy Drizzle', 'Heavy Ice Pellets', 'Heavy Rain', 'Heavy Rain Shower', 'Heavy Rain Showers', 'Heavy Sleet', 'Heavy Smoke', 'Heavy Snow', 'Heavy T-Storm', 'Heavy Thunderstorms', 'Ice Pellets', 'Light ', 'Light Drizzle', 'Light Fog', 'Light Hail', 'Light Haze', 'Light Ice Pellets', 'Light Rain', 'Light Rain Shower', 'Light Rain Showers', 'Light Sleet', 'Light Snow', 'Light Snow Grains', 'Light Snow Shower', 'Light Snow Showers', 'Light Thunderstorm', 'Light Thunderstorms', 'Low Drifting Snow', 'Mist', 'N/A Precipitation', 'Overcast', 'Partial Fog', 'Patches of Fog', 'Rain', 'Rain Shower', 'Rain Showers', 'Sand', 'Scattered Clouds', 'Shallow Fog', 'Showers in the Vicinity', 'Sleet', 'Small Hail', 'Smoke', 'Snow', 'Snow Grains', 'Snow Showers', 'Squalls', 'T-Storm', 'Thunder', 'Thunder in the Vicinity', 'Thunderstorm', 'Thunderstorms', 'Tornado', 'Volcanic Ash', 'Widespread Dust', 'Windy', 'Wintry Mix']\n"
     ]
    }
   ],
   "source": [
    "# show distinctive weather conditions \n",
    "weather ='!'.join(arp_df['Weather_Condition'].dropna().unique().tolist())\n",
    "weather = np.unique(np.array(re.split(\n",
    "    \"!|\\s/\\s|\\sand\\s|\\swith\\s|Partly\\s|Mostly\\s|Blowing\\s|Freezing\\s\", weather))).tolist()\n",
    "print(\"Weather Conditions: \", weather)"
   ]
  },
  {
   "cell_type": "code",
   "execution_count": 4,
   "metadata": {},
   "outputs": [
    {
     "name": "stdout",
     "output_type": "stream",
     "text": [
      "3513617\n",
      "62\n",
      "    ID    Source    TMC  Severity           Start_Time             End_Time  \\\n",
      "0  A-1  MapQuest  201.0         3  2016-02-08 05:46:00  2016-02-08 11:00:00   \n",
      "1  A-2  MapQuest  201.0         2  2016-02-08 06:07:59  2016-02-08 06:37:59   \n",
      "\n",
      "   Start_Lat  Start_Lng  End_Lat  End_Lng  ...  geohash4 geohash5 geohash6  \\\n",
      "0  39.865147 -84.058723      NaN      NaN  ...      dph4    dph4z   dph4z1   \n",
      "1  39.928059 -82.831184      NaN      NaN  ...      dpj5    dpj55   dpj55h   \n",
      "\n",
      "  clear cloud rain heavyRain snow heavySnow fog  \n",
      "0     0     0    1         0    0         0   0  \n",
      "1     0     0    1         0    0         0   0  \n",
      "\n",
      "[2 rows x 62 columns]\n"
     ]
    }
   ],
   "source": [
    "#function to categorise redundant weather conditions data in separate bins 'clear','cloud','rain','heavyRain',\n",
    "#'snow','heavySnow','fog' added as columns with vales 0 or 1 and then later drop Weather_Condition\n",
    "arp_df = categorise_weather_conditions(arp_df)\n",
    "print(len(arp_df))\n",
    "print(len(arp_df.columns))\n",
    "print(arp_df.head(2))"
   ]
  },
  {
   "cell_type": "markdown",
   "metadata": {},
   "source": [
    "<h3> Handling missing values </h3>"
   ]
  },
  {
   "cell_type": "markdown",
   "metadata": {},
   "source": [
    "<em>Filling NaN values of Precipitation_in with median and adding a new column of precipitationNA with value 1 at these where value of Precipitation_in is NaN</em>"
   ]
  },
  {
   "cell_type": "code",
   "execution_count": 5,
   "metadata": {},
   "outputs": [
    {
     "name": "stdout",
     "output_type": "stream",
     "text": [
      "3513617\n",
      "63\n"
     ]
    }
   ],
   "source": [
    "arp_df = fill_values_for_precipitation(arp_df)\n",
    "#number or rows remain same as before, columns increase by 1\n",
    "print(len(arp_df))\n",
    "print(len(arp_df.columns))"
   ]
  },
  {
   "cell_type": "markdown",
   "metadata": {},
   "source": [
    "<em> Counts of missing values in some features are much smaller compared to the total sample. It is convenient to drop rows with missing values in these columns like City, Zipcode, Airport_Code, Sunrise_Sunset, Civil_Twilight,\n",
    "Nautical_Twilight, Astronomical_Twilight <em>"
   ]
  },
  {
   "cell_type": "code",
   "execution_count": 6,
   "metadata": {},
   "outputs": [
    {
     "name": "stdout",
     "output_type": "stream",
     "text": [
      "3506744\n",
      "63\n"
     ]
    }
   ],
   "source": [
    "arp_df = drop_rows_wit_col_1pct_NaN(arp_df)\n",
    "print(len(arp_df))\n",
    "print(len(arp_df.columns))"
   ]
  },
  {
   "cell_type": "markdown",
   "metadata": {},
   "source": [
    "<em> Filling in missing values of some attributes(like Temperature_F, Humidity_pct, Pressure_in, Visibility_mi, \n",
    "Wind_Speed_mph) with their mean values </em>"
   ]
  },
  {
   "cell_type": "code",
   "execution_count": 8,
   "metadata": {},
   "outputs": [
    {
     "name": "stdout",
     "output_type": "stream",
     "text": [
      "The number of remaining missing values: \n",
      "Temperature_F : 7134\n",
      "Humidity_pct : 7143\n",
      "Pressure_in : 7106\n",
      "Visibility_mi : 17548\n",
      "Wind_Speed_mph : 17590\n",
      "3488606\n",
      "63\n"
     ]
    }
   ],
   "source": [
    "arp_df = fill_values_with_median(arp_df)\n",
    "print(len(arp_df))\n",
    "print(len(arp_df.columns))"
   ]
  },
  {
   "cell_type": "markdown",
   "metadata": {},
   "source": [
    "<em>For categorical weather features, majority rather than median will be used to replace missing values. </em>"
   ]
  },
  {
   "cell_type": "code",
   "execution_count": 9,
   "metadata": {},
   "outputs": [
    {
     "name": "stdout",
     "output_type": "stream",
     "text": [
      "True\n"
     ]
    },
    {
     "data": {
      "text/html": [
       "<div>\n",
       "<style scoped>\n",
       "    .dataframe tbody tr th:only-of-type {\n",
       "        vertical-align: middle;\n",
       "    }\n",
       "\n",
       "    .dataframe tbody tr th {\n",
       "        vertical-align: top;\n",
       "    }\n",
       "\n",
       "    .dataframe thead th {\n",
       "        text-align: right;\n",
       "    }\n",
       "</style>\n",
       "<table border=\"1\" class=\"dataframe\">\n",
       "  <thead>\n",
       "    <tr style=\"text-align: right;\">\n",
       "      <th></th>\n",
       "      <th>ID</th>\n",
       "      <th>Source</th>\n",
       "      <th>TMC</th>\n",
       "      <th>Severity</th>\n",
       "      <th>Start_Time</th>\n",
       "      <th>End_Time</th>\n",
       "      <th>Start_Lat</th>\n",
       "      <th>Start_Lng</th>\n",
       "      <th>End_Lat</th>\n",
       "      <th>End_Lng</th>\n",
       "      <th>...</th>\n",
       "      <th>geohash5</th>\n",
       "      <th>geohash6</th>\n",
       "      <th>clear</th>\n",
       "      <th>cloud</th>\n",
       "      <th>rain</th>\n",
       "      <th>heavyRain</th>\n",
       "      <th>snow</th>\n",
       "      <th>heavySnow</th>\n",
       "      <th>fog</th>\n",
       "      <th>precipitationNA</th>\n",
       "    </tr>\n",
       "  </thead>\n",
       "  <tbody>\n",
       "    <tr>\n",
       "      <th>0</th>\n",
       "      <td>A-1</td>\n",
       "      <td>MapQuest</td>\n",
       "      <td>201.0</td>\n",
       "      <td>3</td>\n",
       "      <td>2016-02-08 05:46:00</td>\n",
       "      <td>2016-02-08 11:00:00</td>\n",
       "      <td>39.865147</td>\n",
       "      <td>-84.058723</td>\n",
       "      <td>NaN</td>\n",
       "      <td>NaN</td>\n",
       "      <td>...</td>\n",
       "      <td>dph4z</td>\n",
       "      <td>dph4z1</td>\n",
       "      <td>0</td>\n",
       "      <td>0</td>\n",
       "      <td>1</td>\n",
       "      <td>0</td>\n",
       "      <td>0</td>\n",
       "      <td>0</td>\n",
       "      <td>0</td>\n",
       "      <td>0</td>\n",
       "    </tr>\n",
       "    <tr>\n",
       "      <th>1</th>\n",
       "      <td>A-2</td>\n",
       "      <td>MapQuest</td>\n",
       "      <td>201.0</td>\n",
       "      <td>2</td>\n",
       "      <td>2016-02-08 06:07:59</td>\n",
       "      <td>2016-02-08 06:37:59</td>\n",
       "      <td>39.928059</td>\n",
       "      <td>-82.831184</td>\n",
       "      <td>NaN</td>\n",
       "      <td>NaN</td>\n",
       "      <td>...</td>\n",
       "      <td>dpj55</td>\n",
       "      <td>dpj55h</td>\n",
       "      <td>0</td>\n",
       "      <td>0</td>\n",
       "      <td>1</td>\n",
       "      <td>0</td>\n",
       "      <td>0</td>\n",
       "      <td>0</td>\n",
       "      <td>0</td>\n",
       "      <td>0</td>\n",
       "    </tr>\n",
       "    <tr>\n",
       "      <th>2</th>\n",
       "      <td>A-3</td>\n",
       "      <td>MapQuest</td>\n",
       "      <td>201.0</td>\n",
       "      <td>2</td>\n",
       "      <td>2016-02-08 06:49:27</td>\n",
       "      <td>2016-02-08 07:19:27</td>\n",
       "      <td>39.063148</td>\n",
       "      <td>-84.032608</td>\n",
       "      <td>NaN</td>\n",
       "      <td>NaN</td>\n",
       "      <td>...</td>\n",
       "      <td>dnunp</td>\n",
       "      <td>dnunpz</td>\n",
       "      <td>0</td>\n",
       "      <td>1</td>\n",
       "      <td>0</td>\n",
       "      <td>0</td>\n",
       "      <td>0</td>\n",
       "      <td>0</td>\n",
       "      <td>0</td>\n",
       "      <td>1</td>\n",
       "    </tr>\n",
       "    <tr>\n",
       "      <th>3</th>\n",
       "      <td>A-4</td>\n",
       "      <td>MapQuest</td>\n",
       "      <td>201.0</td>\n",
       "      <td>3</td>\n",
       "      <td>2016-02-08 07:23:34</td>\n",
       "      <td>2016-02-08 07:53:34</td>\n",
       "      <td>39.747753</td>\n",
       "      <td>-84.205582</td>\n",
       "      <td>NaN</td>\n",
       "      <td>NaN</td>\n",
       "      <td>...</td>\n",
       "      <td>dph45</td>\n",
       "      <td>dph45g</td>\n",
       "      <td>0</td>\n",
       "      <td>1</td>\n",
       "      <td>0</td>\n",
       "      <td>0</td>\n",
       "      <td>0</td>\n",
       "      <td>0</td>\n",
       "      <td>0</td>\n",
       "      <td>1</td>\n",
       "    </tr>\n",
       "    <tr>\n",
       "      <th>4</th>\n",
       "      <td>A-5</td>\n",
       "      <td>MapQuest</td>\n",
       "      <td>201.0</td>\n",
       "      <td>2</td>\n",
       "      <td>2016-02-08 07:39:07</td>\n",
       "      <td>2016-02-08 08:09:07</td>\n",
       "      <td>39.627781</td>\n",
       "      <td>-84.188354</td>\n",
       "      <td>NaN</td>\n",
       "      <td>NaN</td>\n",
       "      <td>...</td>\n",
       "      <td>dph1k</td>\n",
       "      <td>dph1kn</td>\n",
       "      <td>0</td>\n",
       "      <td>1</td>\n",
       "      <td>0</td>\n",
       "      <td>0</td>\n",
       "      <td>0</td>\n",
       "      <td>0</td>\n",
       "      <td>0</td>\n",
       "      <td>1</td>\n",
       "    </tr>\n",
       "  </tbody>\n",
       "</table>\n",
       "<p>5 rows × 63 columns</p>\n",
       "</div>"
      ],
      "text/plain": [
       "    ID    Source    TMC  Severity           Start_Time             End_Time  \\\n",
       "0  A-1  MapQuest  201.0         3  2016-02-08 05:46:00  2016-02-08 11:00:00   \n",
       "1  A-2  MapQuest  201.0         2  2016-02-08 06:07:59  2016-02-08 06:37:59   \n",
       "2  A-3  MapQuest  201.0         2  2016-02-08 06:49:27  2016-02-08 07:19:27   \n",
       "3  A-4  MapQuest  201.0         3  2016-02-08 07:23:34  2016-02-08 07:53:34   \n",
       "4  A-5  MapQuest  201.0         2  2016-02-08 07:39:07  2016-02-08 08:09:07   \n",
       "\n",
       "   Start_Lat  Start_Lng  End_Lat  End_Lng  ...  geohash5 geohash6 clear cloud  \\\n",
       "0  39.865147 -84.058723      NaN      NaN  ...     dph4z   dph4z1     0     0   \n",
       "1  39.928059 -82.831184      NaN      NaN  ...     dpj55   dpj55h     0     0   \n",
       "2  39.063148 -84.032608      NaN      NaN  ...     dnunp   dnunpz     0     1   \n",
       "3  39.747753 -84.205582      NaN      NaN  ...     dph45   dph45g     0     1   \n",
       "4  39.627781 -84.188354      NaN      NaN  ...     dph1k   dph1kn     0     1   \n",
       "\n",
       "  rain heavyRain snow heavySnow fog precipitationNA  \n",
       "0    1         0    0         0   0               0  \n",
       "1    1         0    0         0   0               0  \n",
       "2    0         0    0         0   0               1  \n",
       "3    0         0    0         0   0               1  \n",
       "4    0         0    0         0   0               1  \n",
       "\n",
       "[5 rows x 63 columns]"
      ]
     },
     "execution_count": 9,
     "metadata": {},
     "output_type": "execute_result"
    }
   ],
   "source": [
    "print(arp_df['rain'].isnull().values.any())\n",
    "arp_df.head(5)"
   ]
  },
  {
   "cell_type": "markdown",
   "metadata": {},
   "source": [
    "<em> Filling in some values with majority and then dropping a few </em>"
   ]
  },
  {
   "cell_type": "code",
   "execution_count": 10,
   "metadata": {},
   "outputs": [
    {
     "name": "stdout",
     "output_type": "stream",
     "text": [
      "Count of missing values that will be dropped: \n",
      "Wind_Direction : 609\n",
      "clear : 628\n",
      "cloud : 657\n",
      "rain : 628\n",
      "heavyRain : 620\n",
      "snow : 633\n",
      "heavySnow : 620\n",
      "fog : 620\n",
      "3487860\n",
      "63\n"
     ]
    }
   ],
   "source": [
    "arp_df = fill_values_with_majority(arp_df)\n",
    "print(len(arp_df))\n",
    "print(len(arp_df.columns))"
   ]
  },
  {
   "cell_type": "markdown",
   "metadata": {},
   "source": [
    "<em> Following code helps join a larger df to a smaller df with final size of smaller df</em>"
   ]
  },
  {
   "cell_type": "code",
   "execution_count": 11,
   "metadata": {},
   "outputs": [
    {
     "name": "stdout",
     "output_type": "stream",
     "text": [
      "False\n"
     ]
    }
   ],
   "source": [
    "#bigger_df = pd.read_pickle('../data_files/US_Accidents_June20_modified.pkl')\n",
    "#print(len(bigger_df))\n",
    "#print(len(arp_df))\n",
    "#sel_df = bigger_df[['ID','Precipitation_in']]\n",
    "#sel_df = sel_df[sel_df.ID.isin(list(arp_df['ID']))]\n",
    "#print(len(sel_df))\n",
    "#new_arp_df = arp_df.join(sel_df.set_index('ID'), on='ID')\n",
    "print(len(arp_df.columns))\n",
    "print(arp_df['rain'].isnull().values.any())"
   ]
  },
  {
   "cell_type": "markdown",
   "metadata": {},
   "source": [
    "<h3> Adding boolean columns for Severity </h3>"
   ]
  },
  {
   "cell_type": "code",
   "execution_count": 12,
   "metadata": {},
   "outputs": [
    {
     "name": "stdout",
     "output_type": "stream",
     "text": [
      "63\n",
      "3487860\n",
      "4 columns with boolean values added for severity 1,2,3,4\n",
      "67\n",
      "3487860\n"
     ]
    }
   ],
   "source": [
    "#add boolean columns for Severity\n",
    "print(len(arp_df.columns))\n",
    "print(len(arp_df))\n",
    "arp_df = add_boolean_severity(arp_df)\n",
    "print(len(arp_df.columns))\n",
    "print(len(arp_df))"
   ]
  },
  {
   "cell_type": "markdown",
   "metadata": {},
   "source": [
    "<em> 4 columns added(severity1, severity2, severity3, severity4) </em>"
   ]
  },
  {
   "cell_type": "markdown",
   "metadata": {},
   "source": [
    "<h3> Adding boolean columns for Timezones </h3>"
   ]
  },
  {
   "cell_type": "code",
   "execution_count": 13,
   "metadata": {},
   "outputs": [
    {
     "name": "stdout",
     "output_type": "stream",
     "text": [
      "67\n",
      "3487860\n",
      "4 columns with boolean values added for timezones US/Eastern, US/Pacific, US/Central, US/Mountain \n",
      "71\n",
      "3487860\n"
     ]
    }
   ],
   "source": [
    "#add boolean columns for Timezones\n",
    "print(len(arp_df.columns))\n",
    "print(len(arp_df))\n",
    "arp_df = add_boolean_timezone(arp_df)\n",
    "print(len(arp_df.columns))\n",
    "print(len(arp_df))"
   ]
  },
  {
   "cell_type": "markdown",
   "metadata": {},
   "source": [
    "<em> 4 columns added(US/Eastern, US/Pacific, US/Central, US/Mountain) </em>"
   ]
  },
  {
   "cell_type": "code",
   "execution_count": 14,
   "metadata": {
    "scrolled": true
   },
   "outputs": [
    {
     "name": "stdout",
     "output_type": "stream",
     "text": [
      "1471090\n",
      "980170\n",
      "836472\n",
      "200128\n"
     ]
    }
   ],
   "source": [
    "#sanity checks\n",
    "print(sum(arp_df['timezoneUS/Eastern']))\n",
    "print(sum(arp_df['timezoneUS/Pacific']))\n",
    "print(sum(arp_df['timezoneUS/Central']))\n",
    "print(sum(arp_df['timezoneUS/Mountain']))"
   ]
  },
  {
   "cell_type": "markdown",
   "metadata": {},
   "source": [
    "<h3> Adding boolean columns for Roadside </h3>"
   ]
  },
  {
   "cell_type": "code",
   "execution_count": 15,
   "metadata": {},
   "outputs": [
    {
     "name": "stdout",
     "output_type": "stream",
     "text": [
      "71\n",
      "3487860\n",
      "2 columns with boolean values R/L for side of road added\n",
      "73\n",
      "3487859\n"
     ]
    }
   ],
   "source": [
    "#add boolean columns for Roadside\n",
    "print(len(arp_df.columns))\n",
    "print(len(arp_df))\n",
    "arp_df = add_boolean_roadside(arp_df)\n",
    "print(len(arp_df.columns))\n",
    "print(len(arp_df))"
   ]
  },
  {
   "cell_type": "markdown",
   "metadata": {},
   "source": [
    "<em> 2 columns for Road Side added R/L</em>"
   ]
  },
  {
   "cell_type": "code",
   "execution_count": 16,
   "metadata": {},
   "outputs": [
    {
     "name": "stdout",
     "output_type": "stream",
     "text": [
      "2857883\n",
      "629976\n"
     ]
    }
   ],
   "source": [
    "#sanity checks\n",
    "print(sum(arp_df['roadsideR']))\n",
    "print(sum(arp_df['roadsideL']))"
   ]
  },
  {
   "cell_type": "markdown",
   "metadata": {},
   "source": [
    "<h3> Adding boolean columns for Day/Night </h3>"
   ]
  },
  {
   "cell_type": "code",
   "execution_count": 17,
   "metadata": {},
   "outputs": [
    {
     "name": "stdout",
     "output_type": "stream",
     "text": [
      "73\n",
      "3487859\n",
      "8 columns with boolean values Day/Night added\n",
      "81\n",
      "3487859\n"
     ]
    }
   ],
   "source": [
    "#add boolean columns for Day/Night of Sunrise_Sunset','Civil_Twilight','Nautical_Twilight','Astronomical_Twilight\n",
    "print(len(arp_df.columns))\n",
    "print(len(arp_df))\n",
    "arp_df = add_boolean_day_night(arp_df)\n",
    "print(len(arp_df.columns))\n",
    "print(len(arp_df))"
   ]
  },
  {
   "cell_type": "markdown",
   "metadata": {},
   "source": [
    "<em> 8 columns with boolean values Day/Night added </em>"
   ]
  },
  {
   "cell_type": "code",
   "execution_count": 18,
   "metadata": {},
   "outputs": [
    {
     "name": "stdout",
     "output_type": "stream",
     "text": [
      "2575281\n",
      "912578\n",
      "3053166\n",
      "434693\n",
      "2748270\n",
      "739589\n",
      "2922543\n",
      "565316\n"
     ]
    }
   ],
   "source": [
    "#sanity checks\n",
    "print(sum(arp_df['timeSSDay']))\n",
    "print(sum(arp_df['timeSSNight']))\n",
    "print(sum(arp_df['timeATDay']))\n",
    "print(sum(arp_df['timeATNight']))\n",
    "print(sum(arp_df['timeCTDay']))\n",
    "print(sum(arp_df['timeCTNight']))\n",
    "print(sum(arp_df['timeNTDay']))\n",
    "print(sum(arp_df['timeNTNight']))"
   ]
  },
  {
   "cell_type": "markdown",
   "metadata": {},
   "source": [
    "<h3> Adding boolean columns for Wind Direction </h3>"
   ]
  },
  {
   "cell_type": "code",
   "execution_count": 19,
   "metadata": {},
   "outputs": [
    {
     "name": "stdout",
     "output_type": "stream",
     "text": [
      "81\n",
      "3487859\n",
      "18 columns with boolean values added for wind direction\n",
      "99\n",
      "3487859\n"
     ]
    }
   ],
   "source": [
    "#add boolean columns for Wind Direction\n",
    "print(len(arp_df.columns))\n",
    "print(len(arp_df))\n",
    "arp_df = add_boolean_wind_direction(arp_df)\n",
    "print(len(arp_df.columns))\n",
    "print(len(arp_df))"
   ]
  },
  {
   "cell_type": "code",
   "execution_count": 20,
   "metadata": {},
   "outputs": [
    {
     "name": "stdout",
     "output_type": "stream",
     "text": [
      "606110\n",
      "173280\n",
      "182130\n",
      "166291\n",
      "174532\n",
      "165621\n",
      "262934\n",
      "147458\n",
      "117713\n",
      "283516\n",
      "221463\n",
      "181110\n",
      "164776\n",
      "114913\n",
      "164122\n",
      "116428\n",
      "112836\n"
     ]
    }
   ],
   "source": [
    "print(sum(arp_df['windDirectionCALM']))\n",
    "print(sum(arp_df['windDirectionSW']))\n",
    "print(sum(arp_df['windDirectionSSW']))\n",
    "print(sum(arp_df['windDirectionWSW']))\n",
    "print(sum(arp_df['windDirectionWNW']))\n",
    "print(sum(arp_df['windDirectionNW']))\n",
    "print(sum(arp_df['windDirectionW']))\n",
    "print(sum(arp_df['windDirectionNNW']))\n",
    "print(sum(arp_df['windDirectionNNE']))\n",
    "print(sum(arp_df['windDirectionS']))\n",
    "print(sum(arp_df['windDirectionN']))\n",
    "print(sum(arp_df['windDirectionVAR']))\n",
    "print(sum(arp_df['windDirectionSSE']))\n",
    "print(sum(arp_df['windDirectionESE']))\n",
    "print(sum(arp_df['windDirectionE']))\n",
    "print(sum(arp_df['windDirectionNE']))\n",
    "print(sum(arp_df['windDirectionENE']))"
   ]
  },
  {
   "cell_type": "markdown",
   "metadata": {},
   "source": [
    "<em> 18 columns with boolean values added for wind direction </em>"
   ]
  },
  {
   "cell_type": "markdown",
   "metadata": {},
   "source": [
    "<h3>Adding bins with boolean values for TMC values </h3>"
   ]
  },
  {
   "cell_type": "code",
   "execution_count": 21,
   "metadata": {},
   "outputs": [
    {
     "name": "stdout",
     "output_type": "stream",
     "text": [
      "99\n",
      "3487859\n",
      "22 columns with boolean values added for TMC\n",
      "121\n",
      "3487859\n"
     ]
    }
   ],
   "source": [
    "print(len(arp_df.columns))\n",
    "print(len(arp_df))\n",
    "arp_df = add_boolean_TMC(arp_df)\n",
    "print(len(arp_df.columns))\n",
    "print(len(arp_df))"
   ]
  },
  {
   "cell_type": "code",
   "execution_count": 22,
   "metadata": {},
   "outputs": [
    {
     "data": {
      "text/plain": [
       "2068603"
      ]
     },
     "execution_count": 22,
     "metadata": {},
     "output_type": "execute_result"
    }
   ],
   "source": [
    "#print(sum(arp_df['tmc15']))\n",
    "#print(arp_df.tmc21.sum())\n",
    "#arp_df.tmc0.head(2)\n",
    "#arp_df.columns\n",
    "arp_df['tmc201'].sum()"
   ]
  },
  {
   "cell_type": "markdown",
   "metadata": {},
   "source": [
    "<em> Boolean TMC columns added </em>"
   ]
  },
  {
   "cell_type": "markdown",
   "metadata": {},
   "source": [
    "<h3>Adding bins with boolean values for weather parameters </h3>"
   ]
  },
  {
   "cell_type": "code",
   "execution_count": 23,
   "metadata": {},
   "outputs": [
    {
     "name": "stdout",
     "output_type": "stream",
     "text": [
      "121\n",
      "3487859\n",
      "13 columns with boolean values added for Temperature_F\n",
      "5 columns with boolean values added for Humidity_pct\n",
      "4 columns with boolean values added for Pressure_in\n",
      "7 columns with boolean values added for Visibility_mi\n",
      "10 columns with boolean values added for Wind_Speed_mph\n",
      "160\n",
      "3487839\n"
     ]
    }
   ],
   "source": [
    "print(len(arp_df.columns))\n",
    "print(len(arp_df))\n",
    "arp_df = add_bins_temp_humd_presr_visb_winSpeed(arp_df)\n",
    "print(len(arp_df.columns))\n",
    "print(len(arp_df))"
   ]
  },
  {
   "cell_type": "markdown",
   "metadata": {},
   "source": [
    "<em> 51 columns added in total </em>"
   ]
  },
  {
   "cell_type": "code",
   "execution_count": 24,
   "metadata": {},
   "outputs": [
    {
     "name": "stdout",
     "output_type": "stream",
     "text": [
      "119231\n"
     ]
    },
    {
     "data": {
      "text/plain": [
       "33.04"
      ]
     },
     "execution_count": 24,
     "metadata": {},
     "output_type": "execute_result"
    }
   ],
   "source": [
    "#print(arp_df.temperature_f2.sum())\n",
    "#print(arp_df.pressure_in6.sum())  #4\n",
    "#print(arp_df.visibility_mi2.sum())\n",
    "#print(arp_df.wind_speed_mph6.sum())  #10\n",
    "#print(arp_df.pressure_in1.sum())\n",
    "print(arp_df.humidity_pct1.sum())\n",
    "max(arp_df['Pressure_in'])"
   ]
  },
  {
   "cell_type": "code",
   "execution_count": 25,
   "metadata": {},
   "outputs": [],
   "source": [
    "arp_df.to_pickle('../data_files/US_Accidents_June20_modified_v2.pkl')"
   ]
  },
  {
   "cell_type": "markdown",
   "metadata": {},
   "source": [
    "<h2> Work for v3 of dataset starts </h2>"
   ]
  },
  {
   "cell_type": "markdown",
   "metadata": {},
   "source": [
    "<h3> Adding street types </h3>"
   ]
  },
  {
   "cell_type": "code",
   "execution_count": 26,
   "metadata": {},
   "outputs": [
    {
     "name": "stdout",
     "output_type": "stream",
     "text": [
      "160\n",
      "3487839\n",
      "Most common words in street names are...\n",
      "Rd, , Dr, St, Ave, N, S, E, W, Ln, Blvd, Highway, Way, Ct, State, Hwy, NE, Pkwy, SW, Pl, SE, NW, Road, Old, Cir, Route, US, Creek, Hill, Park, County, Lake, Trl, Valley, Ridge, Mill, River, Pike, Oak, Ter\n",
      "\n",
      "\n",
      "Removing some irrelevant names and then adding following 25 columns with boolean values...\n",
      " Rd,  St,  Dr,  Ave,  Blvd,  Ln,  Highway,  Pkwy,  Hwy,  Way,  Ct, Pl,  Road, US-, Creek,  Cir, Hill, Route, I-, Trl, Valley, Ridge, Pike,  Fwy, River\n",
      "185\n",
      "3487839\n"
     ]
    },
    {
     "data": {
      "text/html": [
       "<div>\n",
       "<style scoped>\n",
       "    .dataframe tbody tr th:only-of-type {\n",
       "        vertical-align: middle;\n",
       "    }\n",
       "\n",
       "    .dataframe tbody tr th {\n",
       "        vertical-align: top;\n",
       "    }\n",
       "\n",
       "    .dataframe thead th {\n",
       "        text-align: right;\n",
       "    }\n",
       "</style>\n",
       "<table border=\"1\" class=\"dataframe\">\n",
       "  <thead>\n",
       "    <tr style=\"text-align: right;\">\n",
       "      <th></th>\n",
       "      <th>ID</th>\n",
       "      <th>Source</th>\n",
       "      <th>TMC</th>\n",
       "      <th>Severity</th>\n",
       "      <th>Start_Time</th>\n",
       "      <th>End_Time</th>\n",
       "      <th>Start_Lat</th>\n",
       "      <th>Start_Lng</th>\n",
       "      <th>End_Lat</th>\n",
       "      <th>End_Lng</th>\n",
       "      <th>...</th>\n",
       "      <th>cir</th>\n",
       "      <th>hill</th>\n",
       "      <th>route</th>\n",
       "      <th>i-</th>\n",
       "      <th>trl</th>\n",
       "      <th>valley</th>\n",
       "      <th>ridge</th>\n",
       "      <th>pike</th>\n",
       "      <th>fwy</th>\n",
       "      <th>river</th>\n",
       "    </tr>\n",
       "  </thead>\n",
       "  <tbody>\n",
       "    <tr>\n",
       "      <th>0</th>\n",
       "      <td>A-1</td>\n",
       "      <td>MapQuest</td>\n",
       "      <td>201.0</td>\n",
       "      <td>3</td>\n",
       "      <td>2016-02-08 05:46:00</td>\n",
       "      <td>2016-02-08 11:00:00</td>\n",
       "      <td>39.865147</td>\n",
       "      <td>-84.058723</td>\n",
       "      <td>NaN</td>\n",
       "      <td>NaN</td>\n",
       "      <td>...</td>\n",
       "      <td>0</td>\n",
       "      <td>0</td>\n",
       "      <td>0</td>\n",
       "      <td>1</td>\n",
       "      <td>0</td>\n",
       "      <td>0</td>\n",
       "      <td>0</td>\n",
       "      <td>0</td>\n",
       "      <td>0</td>\n",
       "      <td>0</td>\n",
       "    </tr>\n",
       "    <tr>\n",
       "      <th>1</th>\n",
       "      <td>A-2</td>\n",
       "      <td>MapQuest</td>\n",
       "      <td>201.0</td>\n",
       "      <td>2</td>\n",
       "      <td>2016-02-08 06:07:59</td>\n",
       "      <td>2016-02-08 06:37:59</td>\n",
       "      <td>39.928059</td>\n",
       "      <td>-82.831184</td>\n",
       "      <td>NaN</td>\n",
       "      <td>NaN</td>\n",
       "      <td>...</td>\n",
       "      <td>0</td>\n",
       "      <td>0</td>\n",
       "      <td>0</td>\n",
       "      <td>0</td>\n",
       "      <td>0</td>\n",
       "      <td>0</td>\n",
       "      <td>0</td>\n",
       "      <td>0</td>\n",
       "      <td>0</td>\n",
       "      <td>0</td>\n",
       "    </tr>\n",
       "    <tr>\n",
       "      <th>2</th>\n",
       "      <td>A-3</td>\n",
       "      <td>MapQuest</td>\n",
       "      <td>201.0</td>\n",
       "      <td>2</td>\n",
       "      <td>2016-02-08 06:49:27</td>\n",
       "      <td>2016-02-08 07:19:27</td>\n",
       "      <td>39.063148</td>\n",
       "      <td>-84.032608</td>\n",
       "      <td>NaN</td>\n",
       "      <td>NaN</td>\n",
       "      <td>...</td>\n",
       "      <td>0</td>\n",
       "      <td>0</td>\n",
       "      <td>1</td>\n",
       "      <td>0</td>\n",
       "      <td>0</td>\n",
       "      <td>0</td>\n",
       "      <td>0</td>\n",
       "      <td>0</td>\n",
       "      <td>0</td>\n",
       "      <td>0</td>\n",
       "    </tr>\n",
       "    <tr>\n",
       "      <th>3</th>\n",
       "      <td>A-4</td>\n",
       "      <td>MapQuest</td>\n",
       "      <td>201.0</td>\n",
       "      <td>3</td>\n",
       "      <td>2016-02-08 07:23:34</td>\n",
       "      <td>2016-02-08 07:53:34</td>\n",
       "      <td>39.747753</td>\n",
       "      <td>-84.205582</td>\n",
       "      <td>NaN</td>\n",
       "      <td>NaN</td>\n",
       "      <td>...</td>\n",
       "      <td>0</td>\n",
       "      <td>0</td>\n",
       "      <td>0</td>\n",
       "      <td>1</td>\n",
       "      <td>0</td>\n",
       "      <td>0</td>\n",
       "      <td>0</td>\n",
       "      <td>0</td>\n",
       "      <td>0</td>\n",
       "      <td>0</td>\n",
       "    </tr>\n",
       "    <tr>\n",
       "      <th>4</th>\n",
       "      <td>A-5</td>\n",
       "      <td>MapQuest</td>\n",
       "      <td>201.0</td>\n",
       "      <td>2</td>\n",
       "      <td>2016-02-08 07:39:07</td>\n",
       "      <td>2016-02-08 08:09:07</td>\n",
       "      <td>39.627781</td>\n",
       "      <td>-84.188354</td>\n",
       "      <td>NaN</td>\n",
       "      <td>NaN</td>\n",
       "      <td>...</td>\n",
       "      <td>0</td>\n",
       "      <td>0</td>\n",
       "      <td>0</td>\n",
       "      <td>0</td>\n",
       "      <td>0</td>\n",
       "      <td>0</td>\n",
       "      <td>0</td>\n",
       "      <td>0</td>\n",
       "      <td>0</td>\n",
       "      <td>0</td>\n",
       "    </tr>\n",
       "  </tbody>\n",
       "</table>\n",
       "<p>5 rows × 185 columns</p>\n",
       "</div>"
      ],
      "text/plain": [
       "    ID    Source    TMC  Severity           Start_Time             End_Time  \\\n",
       "0  A-1  MapQuest  201.0         3  2016-02-08 05:46:00  2016-02-08 11:00:00   \n",
       "1  A-2  MapQuest  201.0         2  2016-02-08 06:07:59  2016-02-08 06:37:59   \n",
       "2  A-3  MapQuest  201.0         2  2016-02-08 06:49:27  2016-02-08 07:19:27   \n",
       "3  A-4  MapQuest  201.0         3  2016-02-08 07:23:34  2016-02-08 07:53:34   \n",
       "4  A-5  MapQuest  201.0         2  2016-02-08 07:39:07  2016-02-08 08:09:07   \n",
       "\n",
       "   Start_Lat  Start_Lng  End_Lat  End_Lng  ...  cir hill route i- trl valley  \\\n",
       "0  39.865147 -84.058723      NaN      NaN  ...    0    0     0  1   0      0   \n",
       "1  39.928059 -82.831184      NaN      NaN  ...    0    0     0  0   0      0   \n",
       "2  39.063148 -84.032608      NaN      NaN  ...    0    0     1  0   0      0   \n",
       "3  39.747753 -84.205582      NaN      NaN  ...    0    0     0  1   0      0   \n",
       "4  39.627781 -84.188354      NaN      NaN  ...    0    0     0  0   0      0   \n",
       "\n",
       "  ridge pike fwy river  \n",
       "0     0    0   0     0  \n",
       "1     0    0   0     0  \n",
       "2     0    0   0     0  \n",
       "3     0    0   0     0  \n",
       "4     0    0   0     0  \n",
       "\n",
       "[5 rows x 185 columns]"
      ]
     },
     "execution_count": 26,
     "metadata": {},
     "output_type": "execute_result"
    }
   ],
   "source": [
    "#add boolean columns for street types where more accidents happen\n",
    "print(len(arp_df.columns))\n",
    "print(len(arp_df))\n",
    "arp_df = streets_high_sev_acc(arp_df)\n",
    "print(len(arp_df.columns))\n",
    "print(len(arp_df))\n",
    "arp_df.head(5)"
   ]
  },
  {
   "cell_type": "markdown",
   "metadata": {},
   "source": [
    "<em> 25 columns with street types added </em>"
   ]
  },
  {
   "cell_type": "markdown",
   "metadata": {},
   "source": [
    "<h3>Add time bins</h3>"
   ]
  },
  {
   "cell_type": "code",
   "execution_count": 27,
   "metadata": {
    "scrolled": true
   },
   "outputs": [
    {
     "name": "stdout",
     "output_type": "stream",
     "text": [
      "282\n"
     ]
    }
   ],
   "source": [
    "arp_df = add_time_bins(arp_df)\n",
    "print(len(arp_df.columns))"
   ]
  },
  {
   "cell_type": "markdown",
   "metadata": {},
   "source": [
    "<em> 1(timeQuarterOfDay)+96(quarter1,quarter2,...,quarter96) new columns added</em>"
   ]
  },
  {
   "cell_type": "code",
   "execution_count": 28,
   "metadata": {},
   "outputs": [],
   "source": [
    "arp_df.to_pickle('../data_files/US_Accidents_June20_modified_v3.pkl')"
   ]
  },
  {
   "cell_type": "markdown",
   "metadata": {},
   "source": [
    "<h3> Dealing with Descriptions</h3>"
   ]
  },
  {
   "cell_type": "code",
   "execution_count": 5,
   "metadata": {},
   "outputs": [
    {
     "data": {
      "text/html": [
       "<div>\n",
       "<style scoped>\n",
       "    .dataframe tbody tr th:only-of-type {\n",
       "        vertical-align: middle;\n",
       "    }\n",
       "\n",
       "    .dataframe tbody tr th {\n",
       "        vertical-align: top;\n",
       "    }\n",
       "\n",
       "    .dataframe thead th {\n",
       "        text-align: right;\n",
       "    }\n",
       "</style>\n",
       "<table border=\"1\" class=\"dataframe\">\n",
       "  <thead>\n",
       "    <tr style=\"text-align: right;\">\n",
       "      <th></th>\n",
       "      <th>Description</th>\n",
       "      <th>Severity</th>\n",
       "    </tr>\n",
       "  </thead>\n",
       "  <tbody>\n",
       "    <tr>\n",
       "      <th>0</th>\n",
       "      <td>Right lane blocked due to accident on I-70 Eas...</td>\n",
       "      <td>3</td>\n",
       "    </tr>\n",
       "    <tr>\n",
       "      <th>1</th>\n",
       "      <td>Accident on Brice Rd at Tussing Rd. Expect del...</td>\n",
       "      <td>2</td>\n",
       "    </tr>\n",
       "    <tr>\n",
       "      <th>2</th>\n",
       "      <td>Accident on OH-32 State Route 32 Westbound at ...</td>\n",
       "      <td>2</td>\n",
       "    </tr>\n",
       "    <tr>\n",
       "      <th>3</th>\n",
       "      <td>Accident on I-75 Southbound at Exits 52 52B US...</td>\n",
       "      <td>3</td>\n",
       "    </tr>\n",
       "    <tr>\n",
       "      <th>4</th>\n",
       "      <td>Accident on McEwen Rd at OH-725 Miamisburg Cen...</td>\n",
       "      <td>2</td>\n",
       "    </tr>\n",
       "    <tr>\n",
       "      <th>...</th>\n",
       "      <td>...</td>\n",
       "      <td>...</td>\n",
       "    </tr>\n",
       "    <tr>\n",
       "      <th>3513612</th>\n",
       "      <td>At Market St - Accident.</td>\n",
       "      <td>2</td>\n",
       "    </tr>\n",
       "    <tr>\n",
       "      <th>3513613</th>\n",
       "      <td>At Camino Del Rio/Mission Center Rd - Accident.</td>\n",
       "      <td>2</td>\n",
       "    </tr>\n",
       "    <tr>\n",
       "      <th>3513614</th>\n",
       "      <td>At Glassell St/Grand Ave - Accident. in the ri...</td>\n",
       "      <td>2</td>\n",
       "    </tr>\n",
       "    <tr>\n",
       "      <th>3513615</th>\n",
       "      <td>At CA-90/Marina Fwy/Jefferson Blvd - Accident.</td>\n",
       "      <td>2</td>\n",
       "    </tr>\n",
       "    <tr>\n",
       "      <th>3513616</th>\n",
       "      <td>At Highland Ave/Arden Ave - Accident.</td>\n",
       "      <td>2</td>\n",
       "    </tr>\n",
       "  </tbody>\n",
       "</table>\n",
       "<p>3487860 rows × 2 columns</p>\n",
       "</div>"
      ],
      "text/plain": [
       "                                               Description  Severity\n",
       "0        Right lane blocked due to accident on I-70 Eas...         3\n",
       "1        Accident on Brice Rd at Tussing Rd. Expect del...         2\n",
       "2        Accident on OH-32 State Route 32 Westbound at ...         2\n",
       "3        Accident on I-75 Southbound at Exits 52 52B US...         3\n",
       "4        Accident on McEwen Rd at OH-725 Miamisburg Cen...         2\n",
       "...                                                    ...       ...\n",
       "3513612                           At Market St - Accident.         2\n",
       "3513613    At Camino Del Rio/Mission Center Rd - Accident.         2\n",
       "3513614  At Glassell St/Grand Ave - Accident. in the ri...         2\n",
       "3513615     At CA-90/Marina Fwy/Jefferson Blvd - Accident.         2\n",
       "3513616              At Highland Ave/Arden Ave - Accident.         2\n",
       "\n",
       "[3487860 rows x 2 columns]"
      ]
     },
     "execution_count": 5,
     "metadata": {},
     "output_type": "execute_result"
    }
   ],
   "source": [
    "arp_df[['Description','Severity']]"
   ]
  },
  {
   "cell_type": "code",
   "execution_count": 9,
   "metadata": {},
   "outputs": [
    {
     "data": {
      "text/html": [
       "<div>\n",
       "<style scoped>\n",
       "    .dataframe tbody tr th:only-of-type {\n",
       "        vertical-align: middle;\n",
       "    }\n",
       "\n",
       "    .dataframe tbody tr th {\n",
       "        vertical-align: top;\n",
       "    }\n",
       "\n",
       "    .dataframe thead th {\n",
       "        text-align: right;\n",
       "    }\n",
       "</style>\n",
       "<table border=\"1\" class=\"dataframe\">\n",
       "  <thead>\n",
       "    <tr style=\"text-align: right;\">\n",
       "      <th></th>\n",
       "      <th>ID</th>\n",
       "      <th>Source</th>\n",
       "      <th>TMC</th>\n",
       "      <th>Severity</th>\n",
       "      <th>Start_Time</th>\n",
       "      <th>End_Time</th>\n",
       "      <th>Start_Lat</th>\n",
       "      <th>Start_Lng</th>\n",
       "      <th>End_Lat</th>\n",
       "      <th>End_Lng</th>\n",
       "      <th>...</th>\n",
       "      <th>Cir</th>\n",
       "      <th>Hill</th>\n",
       "      <th>Route</th>\n",
       "      <th>I-</th>\n",
       "      <th>Trl</th>\n",
       "      <th>Valley</th>\n",
       "      <th>Ridge</th>\n",
       "      <th>Pike</th>\n",
       "      <th>Fwy</th>\n",
       "      <th>River</th>\n",
       "    </tr>\n",
       "  </thead>\n",
       "  <tbody>\n",
       "    <tr>\n",
       "      <th>1295828</th>\n",
       "      <td>A-1295857</td>\n",
       "      <td>MapQuest</td>\n",
       "      <td>201.0</td>\n",
       "      <td>3</td>\n",
       "      <td>2019-03-20 17:20:14</td>\n",
       "      <td>2019-03-20 18:48:38</td>\n",
       "      <td>29.776676</td>\n",
       "      <td>-95.38855</td>\n",
       "      <td>NaN</td>\n",
       "      <td>NaN</td>\n",
       "      <td>...</td>\n",
       "      <td>0</td>\n",
       "      <td>0</td>\n",
       "      <td>0</td>\n",
       "      <td>0</td>\n",
       "      <td>0</td>\n",
       "      <td>0</td>\n",
       "      <td>0</td>\n",
       "      <td>0</td>\n",
       "      <td>0</td>\n",
       "      <td>0</td>\n",
       "    </tr>\n",
       "  </tbody>\n",
       "</table>\n",
       "<p>1 rows × 95 columns</p>\n",
       "</div>"
      ],
      "text/plain": [
       "                ID    Source    TMC  Severity           Start_Time  \\\n",
       "1295828  A-1295857  MapQuest  201.0         3  2019-03-20 17:20:14   \n",
       "\n",
       "                    End_Time  Start_Lat  Start_Lng  End_Lat  End_Lng  ...  \\\n",
       "1295828  2019-03-20 18:48:38  29.776676  -95.38855      NaN      NaN  ...   \n",
       "\n",
       "         Cir Hill Route I- Trl Valley Ridge Pike Fwy River  \n",
       "1295828    0    0     0  0   0      0     0    0   0     0  \n",
       "\n",
       "[1 rows x 95 columns]"
      ]
     },
     "execution_count": 9,
     "metadata": {},
     "output_type": "execute_result"
    }
   ],
   "source": [
    "#Checking where value of the description column is NaN\n",
    "arp_df.loc[arp_df['Description'].isna()]"
   ]
  },
  {
   "cell_type": "code",
   "execution_count": 18,
   "metadata": {},
   "outputs": [
    {
     "data": {
      "text/plain": [
       "0"
      ]
     },
     "execution_count": 18,
     "metadata": {},
     "output_type": "execute_result"
    }
   ],
   "source": [
    "#filling one of the description column with value as 'Accident'\n",
    "arp_df.at[1295828,'Description']= 'Accident.'\n",
    "arp_df.loc[arp_df['ID']=='A-1295857']['Description']\n",
    "arp_df['Description'].isna().sum()"
   ]
  },
  {
   "cell_type": "code",
   "execution_count": 25,
   "metadata": {},
   "outputs": [
    {
     "name": "stdout",
     "output_type": "stream",
     "text": [
      "3487860\n"
     ]
    }
   ],
   "source": [
    "lst_desc = list(arp_df['Description'])\n",
    "print(len(lst_desc))"
   ]
  },
  {
   "cell_type": "code",
   "execution_count": 43,
   "metadata": {},
   "outputs": [
    {
     "name": "stdout",
     "output_type": "stream",
     "text": [
      "340 1182179 0 11552 169 2527 2291093 0\n"
     ]
    }
   ],
   "source": [
    "#traffic events: accident,broken vehicle, congestion, construction, event, lane-blocked, and flow incident\n",
    "cnt_cons = 0\n",
    "cnt_block = 0\n",
    "cnt_cong = 0\n",
    "cnt_broke = 0\n",
    "cnt_event = 0\n",
    "cnt_flow = 0\n",
    "cnt_acc = 0\n",
    "cnt_other = 0\n",
    "for sent in lst_desc:\n",
    "    if 'construction' in sent.lower():\n",
    "        cnt_cons+=1\n",
    "    if 'lane blocked' in sent.lower() or 'blocked'  in sent.lower()  or 'closed'  in sent.lower() or 'restrictions' in sent.lower():\n",
    "        cnt_block += 1\n",
    "    if 'congestion' in sent.lower():\n",
    "        cnt_cong += 1\n",
    "    if 'spillage' in sent.lower() or 'jackknifed' in sent.lower() or 'struck' in sent.lower() or 'overturned' in sent.lower()  or 'spun' in sent.lower():\n",
    "        cnt_broke += 1\n",
    "    if 'event' in sent.lower():\n",
    "        cnt_event += 1\n",
    "    if 'flow' in sent.lower():\n",
    "        cnt_flow += 1\n",
    "    if 'accident' in sent.lower():\n",
    "        cnt_acc += 1\n",
    "print(cnt_cons,cnt_block,cnt_cong,cnt_broke,cnt_event,cnt_flow,cnt_acc,cnt_other)"
   ]
  },
  {
   "cell_type": "code",
   "execution_count": 24,
   "metadata": {},
   "outputs": [
    {
     "data": {
      "text/plain": [
       "3513597        At Friars Rd - Accident. Center lane blocked.\n",
       "3513598                        At CA-14/Exit 162 - Accident.\n",
       "3513599       At CA-2/Santa Monica Blvd/Exit 55A - Accident.\n",
       "3513600                     At Home Ave/Exit 13B - Accident.\n",
       "3513601                              At Adams St - Accident.\n",
       "3513602                         At Archibald Ave - Accident.\n",
       "3513603    Ramp closed to The City Dr/Exit 14A - Road clo...\n",
       "3513604              At CA-118/Ronald Reagan Fwy - Accident.\n",
       "3513605                            At Tustin Ave - Accident.\n",
       "3513606                          At CA-210/CA-57 - Accident.\n",
       "3513607                                 At I-605 - Accident.\n",
       "3513608                       At Jack Rabbit Trl - Accident.\n",
       "3513609                  At Telephone Rd/Exit 65 - Accident.\n",
       "3513610                                 At CA-55 - Accident.\n",
       "3513611                   At Osborne St/Exit 154 - Accident.\n",
       "3513612                             At Market St - Accident.\n",
       "3513613      At Camino Del Rio/Mission Center Rd - Accident.\n",
       "3513614    At Glassell St/Grand Ave - Accident. in the ri...\n",
       "3513615       At CA-90/Marina Fwy/Jefferson Blvd - Accident.\n",
       "3513616                At Highland Ave/Arden Ave - Accident.\n",
       "Name: Description, dtype: object"
      ]
     },
     "execution_count": 24,
     "metadata": {},
     "output_type": "execute_result"
    }
   ],
   "source": [
    "arp_df['Description'].tail(20)"
   ]
  },
  {
   "cell_type": "code",
   "execution_count": 28,
   "metadata": {},
   "outputs": [
    {
     "name": "stdout",
     "output_type": "stream",
     "text": [
      "3487860\n"
     ]
    }
   ],
   "source": [
    "print(len(arp_df))"
   ]
  },
  {
   "cell_type": "markdown",
   "metadata": {},
   "source": [
    "<em> Adding description is not of much help as more than 90% text has accident mentioned </em>"
   ]
  },
  {
   "cell_type": "markdown",
   "metadata": {},
   "source": [
    "<h2> 25th Nov: Preparing train test files for Models </h2>"
   ]
  },
  {
   "cell_type": "markdown",
   "metadata": {},
   "source": [
    "<h3> on v3 Dataset having 228 columns obtained after applying feature engineering </h3>"
   ]
  },
  {
   "cell_type": "code",
   "execution_count": 3,
   "metadata": {},
   "outputs": [
    {
     "data": {
      "text/plain": [
       "Index(['ID', 'Source', 'TMC', 'Severity', 'Start_Time', 'End_Time',\n",
       "       'Start_Lat', 'Start_Lng', 'End_Lat', 'End_Lng',\n",
       "       ...\n",
       "       'quarter87', 'quarter88', 'quarter89', 'quarter90', 'quarter91',\n",
       "       'quarter92', 'quarter93', 'quarter94', 'quarter95', 'quarter96'],\n",
       "      dtype='object', length=282)"
      ]
     },
     "execution_count": 3,
     "metadata": {},
     "output_type": "execute_result"
    }
   ],
   "source": [
    "arp_v3_df = pd.read_pickle('../data_files/US_Accidents_June20_modified_v3.pkl')\n",
    "arp_v3_df.columns"
   ]
  },
  {
   "cell_type": "code",
   "execution_count": 5,
   "metadata": {},
   "outputs": [
    {
     "data": {
      "text/plain": [
       "['ID',\n",
       " 'Source',\n",
       " 'TMC',\n",
       " 'Severity',\n",
       " 'Start_Time',\n",
       " 'End_Time',\n",
       " 'Start_Lat',\n",
       " 'Start_Lng',\n",
       " 'End_Lat',\n",
       " 'End_Lng',\n",
       " 'Distance_mi',\n",
       " 'Description',\n",
       " 'Street',\n",
       " 'Side',\n",
       " 'City',\n",
       " 'County',\n",
       " 'State',\n",
       " 'Zipcode',\n",
       " 'Timezone',\n",
       " 'Airport_Code',\n",
       " 'Weather_Timestamp',\n",
       " 'Temperature_F',\n",
       " 'Humidity_pct',\n",
       " 'Pressure_in',\n",
       " 'Visibility_mi',\n",
       " 'Wind_Direction',\n",
       " 'Wind_Speed_mph',\n",
       " 'Precipitation_in',\n",
       " 'Amenity',\n",
       " 'Bump',\n",
       " 'Crossing',\n",
       " 'Give_Way',\n",
       " 'Junction',\n",
       " 'No_Exit',\n",
       " 'Railway',\n",
       " 'Roundabout',\n",
       " 'Station',\n",
       " 'Stop',\n",
       " 'Traffic_Calming',\n",
       " 'Traffic_Signal',\n",
       " 'Sunrise_Sunset',\n",
       " 'Civil_Twilight',\n",
       " 'Nautical_Twilight',\n",
       " 'Astronomical_Twilight',\n",
       " 'startTime',\n",
       " 'endTime',\n",
       " 'accDuration',\n",
       " 'geometry',\n",
       " 'day',\n",
       " 'month',\n",
       " 'year',\n",
       " 'dayOfWeek',\n",
       " 'geohash4',\n",
       " 'geohash5',\n",
       " 'geohash6',\n",
       " 'clear',\n",
       " 'cloud',\n",
       " 'rain',\n",
       " 'heavyRain',\n",
       " 'snow',\n",
       " 'heavySnow',\n",
       " 'fog',\n",
       " 'precipitationNA',\n",
       " 'severity1',\n",
       " 'severity2',\n",
       " 'severity3',\n",
       " 'severity4',\n",
       " 'timezoneUS/Eastern',\n",
       " 'timezoneUS/Pacific',\n",
       " 'timezoneUS/Central',\n",
       " 'timezoneUS/Mountain',\n",
       " 'roadsideR',\n",
       " 'roadsideL',\n",
       " 'timeSSDay',\n",
       " 'timeSSNight',\n",
       " 'timeCTDay',\n",
       " 'timeCTNight',\n",
       " 'timeNTDay',\n",
       " 'timeNTNight',\n",
       " 'timeATDay',\n",
       " 'timeATNight',\n",
       " 'windDirectionCALM',\n",
       " 'windDirectionSW',\n",
       " 'windDirectionSSW',\n",
       " 'windDirectionWSW',\n",
       " 'windDirectionWNW',\n",
       " 'windDirectionNW',\n",
       " 'windDirectionW',\n",
       " 'windDirectionNNW',\n",
       " 'windDirectionNNE',\n",
       " 'windDirectionS',\n",
       " 'windDirectionN',\n",
       " 'windDirectionVAR',\n",
       " 'windDirectionSE',\n",
       " 'windDirectionSSE',\n",
       " 'windDirectionESE',\n",
       " 'windDirectionE',\n",
       " 'windDirectionNE',\n",
       " 'windDirectionENE',\n",
       " 'tmc201',\n",
       " 'tmc241',\n",
       " 'tmc247',\n",
       " 'tmc246',\n",
       " 'tmc341',\n",
       " 'tmc406',\n",
       " 'tmc245',\n",
       " 'tmc248',\n",
       " 'tmc200',\n",
       " 'tmc244',\n",
       " 'tmc203',\n",
       " 'tmc229',\n",
       " 'tmc222',\n",
       " 'tmc202',\n",
       " 'tmc206',\n",
       " 'tmc343',\n",
       " 'tmc236',\n",
       " 'tmc239',\n",
       " 'tmc336',\n",
       " 'tmc339',\n",
       " 'tmc351',\n",
       " 'tmc0',\n",
       " 'temperature_f1',\n",
       " 'temperature_f2',\n",
       " 'temperature_f3',\n",
       " 'temperature_f4',\n",
       " 'temperature_f5',\n",
       " 'temperature_f6',\n",
       " 'temperature_f7',\n",
       " 'temperature_f8',\n",
       " 'temperature_f9',\n",
       " 'temperature_f10',\n",
       " 'temperature_f11',\n",
       " 'temperature_f12',\n",
       " 'temperature_f13',\n",
       " 'humidity_pct1',\n",
       " 'humidity_pct2',\n",
       " 'humidity_pct3',\n",
       " 'humidity_pct4',\n",
       " 'humidity_pct5',\n",
       " 'pressure_in1',\n",
       " 'pressure_in2',\n",
       " 'pressure_in3',\n",
       " 'pressure_in4',\n",
       " 'visibility_mi1',\n",
       " 'visibility_mi2',\n",
       " 'visibility_mi3',\n",
       " 'visibility_mi4',\n",
       " 'visibility_mi5',\n",
       " 'visibility_mi6',\n",
       " 'visibility_mi7',\n",
       " 'wind_speed_mph1',\n",
       " 'wind_speed_mph2',\n",
       " 'wind_speed_mph3',\n",
       " 'wind_speed_mph4',\n",
       " 'wind_speed_mph5',\n",
       " 'wind_speed_mph6',\n",
       " 'wind_speed_mph7',\n",
       " 'wind_speed_mph8',\n",
       " 'wind_speed_mph9',\n",
       " 'wind_speed_mph10',\n",
       " 'rd',\n",
       " 'st',\n",
       " 'dr',\n",
       " 'ave',\n",
       " 'blvd',\n",
       " 'ln',\n",
       " 'highway',\n",
       " 'pkwy',\n",
       " 'hwy',\n",
       " 'way',\n",
       " 'ct',\n",
       " 'pl',\n",
       " 'road',\n",
       " 'us-',\n",
       " 'creek',\n",
       " 'cir',\n",
       " 'hill',\n",
       " 'route',\n",
       " 'i-',\n",
       " 'trl',\n",
       " 'valley',\n",
       " 'ridge',\n",
       " 'pike',\n",
       " 'fwy',\n",
       " 'river',\n",
       " 'timeQuarterOfDay',\n",
       " 'quarter1',\n",
       " 'quarter2',\n",
       " 'quarter3',\n",
       " 'quarter4',\n",
       " 'quarter5',\n",
       " 'quarter6',\n",
       " 'quarter7',\n",
       " 'quarter8',\n",
       " 'quarter9',\n",
       " 'quarter10',\n",
       " 'quarter11',\n",
       " 'quarter12',\n",
       " 'quarter13',\n",
       " 'quarter14',\n",
       " 'quarter15',\n",
       " 'quarter16',\n",
       " 'quarter17',\n",
       " 'quarter18',\n",
       " 'quarter19',\n",
       " 'quarter20',\n",
       " 'quarter21',\n",
       " 'quarter22',\n",
       " 'quarter23',\n",
       " 'quarter24',\n",
       " 'quarter25',\n",
       " 'quarter26',\n",
       " 'quarter27',\n",
       " 'quarter28',\n",
       " 'quarter29',\n",
       " 'quarter30',\n",
       " 'quarter31',\n",
       " 'quarter32',\n",
       " 'quarter33',\n",
       " 'quarter34',\n",
       " 'quarter35',\n",
       " 'quarter36',\n",
       " 'quarter37',\n",
       " 'quarter38',\n",
       " 'quarter39',\n",
       " 'quarter40',\n",
       " 'quarter41',\n",
       " 'quarter42',\n",
       " 'quarter43',\n",
       " 'quarter44',\n",
       " 'quarter45',\n",
       " 'quarter46',\n",
       " 'quarter47',\n",
       " 'quarter48',\n",
       " 'quarter49',\n",
       " 'quarter50',\n",
       " 'quarter51',\n",
       " 'quarter52',\n",
       " 'quarter53',\n",
       " 'quarter54',\n",
       " 'quarter55',\n",
       " 'quarter56',\n",
       " 'quarter57',\n",
       " 'quarter58',\n",
       " 'quarter59',\n",
       " 'quarter60',\n",
       " 'quarter61',\n",
       " 'quarter62',\n",
       " 'quarter63',\n",
       " 'quarter64',\n",
       " 'quarter65',\n",
       " 'quarter66',\n",
       " 'quarter67',\n",
       " 'quarter68',\n",
       " 'quarter69',\n",
       " 'quarter70',\n",
       " 'quarter71',\n",
       " 'quarter72',\n",
       " 'quarter73',\n",
       " 'quarter74',\n",
       " 'quarter75',\n",
       " 'quarter76',\n",
       " 'quarter77',\n",
       " 'quarter78',\n",
       " 'quarter79',\n",
       " 'quarter80',\n",
       " 'quarter81',\n",
       " 'quarter82',\n",
       " 'quarter83',\n",
       " 'quarter84',\n",
       " 'quarter85',\n",
       " 'quarter86',\n",
       " 'quarter87',\n",
       " 'quarter88',\n",
       " 'quarter89',\n",
       " 'quarter90',\n",
       " 'quarter91',\n",
       " 'quarter92',\n",
       " 'quarter93',\n",
       " 'quarter94',\n",
       " 'quarter95',\n",
       " 'quarter96']"
      ]
     },
     "execution_count": 5,
     "metadata": {},
     "output_type": "execute_result"
    }
   ],
   "source": [
    "list(arp_df.columns)\n",
    "#arp_df.geohash5.head(5)"
   ]
  },
  {
   "cell_type": "code",
   "execution_count": 4,
   "metadata": {},
   "outputs": [
    {
     "data": {
      "text/plain": [
       "dn5bp    6064\n",
       "djgzz    4635\n",
       "dn5bj    2852\n",
       "dnh02    2619\n",
       "dn5br    2407\n",
       "         ... \n",
       "dr8fj       1\n",
       "dp0sc       1\n",
       "dp4uf       1\n",
       "dp4ub       1\n",
       "dp4uw       1\n",
       "Name: geohash5, Length: 67, dtype: int64"
      ]
     },
     "execution_count": 4,
     "metadata": {},
     "output_type": "execute_result"
    }
   ],
   "source": [
    "arp_df.loc[arp_df['City']=='Atlanta']['geohash5'].value_counts() "
   ]
  },
  {
   "cell_type": "code",
   "execution_count": 14,
   "metadata": {},
   "outputs": [],
   "source": [
    "lst_test_cities_geohashes = ['dqche', 'c23n8', 'dn5bp', '9tbq2']"
   ]
  },
  {
   "cell_type": "code",
   "execution_count": 17,
   "metadata": {},
   "outputs": [
    {
     "data": {
      "text/html": [
       "<div>\n",
       "<style scoped>\n",
       "    .dataframe tbody tr th:only-of-type {\n",
       "        vertical-align: middle;\n",
       "    }\n",
       "\n",
       "    .dataframe tbody tr th {\n",
       "        vertical-align: top;\n",
       "    }\n",
       "\n",
       "    .dataframe thead th {\n",
       "        text-align: right;\n",
       "    }\n",
       "</style>\n",
       "<table border=\"1\" class=\"dataframe\">\n",
       "  <thead>\n",
       "    <tr style=\"text-align: right;\">\n",
       "      <th></th>\n",
       "      <th>ID</th>\n",
       "      <th>Source</th>\n",
       "      <th>TMC</th>\n",
       "      <th>Severity</th>\n",
       "      <th>Start_Time</th>\n",
       "      <th>End_Time</th>\n",
       "      <th>Start_Lat</th>\n",
       "      <th>Start_Lng</th>\n",
       "      <th>End_Lat</th>\n",
       "      <th>End_Lng</th>\n",
       "      <th>...</th>\n",
       "      <th>quarter87</th>\n",
       "      <th>quarter88</th>\n",
       "      <th>quarter89</th>\n",
       "      <th>quarter90</th>\n",
       "      <th>quarter91</th>\n",
       "      <th>quarter92</th>\n",
       "      <th>quarter93</th>\n",
       "      <th>quarter94</th>\n",
       "      <th>quarter95</th>\n",
       "      <th>quarter96</th>\n",
       "    </tr>\n",
       "  </thead>\n",
       "  <tbody>\n",
       "    <tr>\n",
       "      <th>146266</th>\n",
       "      <td>A-146268</td>\n",
       "      <td>MapQuest</td>\n",
       "      <td>229.0</td>\n",
       "      <td>3</td>\n",
       "      <td>2016-11-30 15:49:32</td>\n",
       "      <td>2016-11-30 17:20:00</td>\n",
       "      <td>33.791683</td>\n",
       "      <td>-84.391472</td>\n",
       "      <td>NaN</td>\n",
       "      <td>NaN</td>\n",
       "      <td>...</td>\n",
       "      <td>0</td>\n",
       "      <td>0</td>\n",
       "      <td>0</td>\n",
       "      <td>0</td>\n",
       "      <td>0</td>\n",
       "      <td>0</td>\n",
       "      <td>0</td>\n",
       "      <td>0</td>\n",
       "      <td>0</td>\n",
       "      <td>0</td>\n",
       "    </tr>\n",
       "    <tr>\n",
       "      <th>146267</th>\n",
       "      <td>A-146269</td>\n",
       "      <td>MapQuest</td>\n",
       "      <td>201.0</td>\n",
       "      <td>2</td>\n",
       "      <td>2016-11-30 15:48:26</td>\n",
       "      <td>2016-11-30 17:18:08</td>\n",
       "      <td>33.751411</td>\n",
       "      <td>-84.390968</td>\n",
       "      <td>NaN</td>\n",
       "      <td>NaN</td>\n",
       "      <td>...</td>\n",
       "      <td>0</td>\n",
       "      <td>0</td>\n",
       "      <td>0</td>\n",
       "      <td>0</td>\n",
       "      <td>0</td>\n",
       "      <td>0</td>\n",
       "      <td>0</td>\n",
       "      <td>0</td>\n",
       "      <td>0</td>\n",
       "      <td>0</td>\n",
       "    </tr>\n",
       "    <tr>\n",
       "      <th>146268</th>\n",
       "      <td>A-146270</td>\n",
       "      <td>MapQuest</td>\n",
       "      <td>229.0</td>\n",
       "      <td>3</td>\n",
       "      <td>2016-11-30 15:11:50</td>\n",
       "      <td>2016-11-30 16:56:31</td>\n",
       "      <td>33.781532</td>\n",
       "      <td>-84.390869</td>\n",
       "      <td>NaN</td>\n",
       "      <td>NaN</td>\n",
       "      <td>...</td>\n",
       "      <td>0</td>\n",
       "      <td>0</td>\n",
       "      <td>0</td>\n",
       "      <td>0</td>\n",
       "      <td>0</td>\n",
       "      <td>0</td>\n",
       "      <td>0</td>\n",
       "      <td>0</td>\n",
       "      <td>0</td>\n",
       "      <td>0</td>\n",
       "    </tr>\n",
       "    <tr>\n",
       "      <th>146269</th>\n",
       "      <td>A-146271</td>\n",
       "      <td>MapQuest</td>\n",
       "      <td>229.0</td>\n",
       "      <td>3</td>\n",
       "      <td>2016-11-30 14:41:44</td>\n",
       "      <td>2016-11-30 16:56:18</td>\n",
       "      <td>33.771290</td>\n",
       "      <td>-84.390472</td>\n",
       "      <td>NaN</td>\n",
       "      <td>NaN</td>\n",
       "      <td>...</td>\n",
       "      <td>0</td>\n",
       "      <td>0</td>\n",
       "      <td>0</td>\n",
       "      <td>0</td>\n",
       "      <td>0</td>\n",
       "      <td>0</td>\n",
       "      <td>0</td>\n",
       "      <td>0</td>\n",
       "      <td>0</td>\n",
       "      <td>0</td>\n",
       "    </tr>\n",
       "    <tr>\n",
       "      <th>146297</th>\n",
       "      <td>A-146299</td>\n",
       "      <td>MapQuest</td>\n",
       "      <td>229.0</td>\n",
       "      <td>3</td>\n",
       "      <td>2016-11-30 19:00:35</td>\n",
       "      <td>2016-11-30 19:29:44</td>\n",
       "      <td>33.769001</td>\n",
       "      <td>-84.390511</td>\n",
       "      <td>NaN</td>\n",
       "      <td>NaN</td>\n",
       "      <td>...</td>\n",
       "      <td>0</td>\n",
       "      <td>0</td>\n",
       "      <td>0</td>\n",
       "      <td>0</td>\n",
       "      <td>0</td>\n",
       "      <td>0</td>\n",
       "      <td>0</td>\n",
       "      <td>0</td>\n",
       "      <td>0</td>\n",
       "      <td>0</td>\n",
       "    </tr>\n",
       "    <tr>\n",
       "      <th>...</th>\n",
       "      <td>...</td>\n",
       "      <td>...</td>\n",
       "      <td>...</td>\n",
       "      <td>...</td>\n",
       "      <td>...</td>\n",
       "      <td>...</td>\n",
       "      <td>...</td>\n",
       "      <td>...</td>\n",
       "      <td>...</td>\n",
       "      <td>...</td>\n",
       "      <td>...</td>\n",
       "      <td>...</td>\n",
       "      <td>...</td>\n",
       "      <td>...</td>\n",
       "      <td>...</td>\n",
       "      <td>...</td>\n",
       "      <td>...</td>\n",
       "      <td>...</td>\n",
       "      <td>...</td>\n",
       "      <td>...</td>\n",
       "      <td>...</td>\n",
       "    </tr>\n",
       "    <tr>\n",
       "      <th>3513005</th>\n",
       "      <td>A-3513169</td>\n",
       "      <td>Bing</td>\n",
       "      <td>NaN</td>\n",
       "      <td>3</td>\n",
       "      <td>2019-08-22 07:03:27</td>\n",
       "      <td>2019-08-22 07:30:10</td>\n",
       "      <td>47.557591</td>\n",
       "      <td>-122.320461</td>\n",
       "      <td>47.558781</td>\n",
       "      <td>-122.321050</td>\n",
       "      <td>...</td>\n",
       "      <td>0</td>\n",
       "      <td>0</td>\n",
       "      <td>0</td>\n",
       "      <td>0</td>\n",
       "      <td>0</td>\n",
       "      <td>0</td>\n",
       "      <td>0</td>\n",
       "      <td>0</td>\n",
       "      <td>0</td>\n",
       "      <td>0</td>\n",
       "    </tr>\n",
       "    <tr>\n",
       "      <th>3513045</th>\n",
       "      <td>A-3513209</td>\n",
       "      <td>Bing</td>\n",
       "      <td>NaN</td>\n",
       "      <td>2</td>\n",
       "      <td>2019-08-22 12:26:04</td>\n",
       "      <td>2019-08-22 12:54:22</td>\n",
       "      <td>47.560300</td>\n",
       "      <td>-122.339380</td>\n",
       "      <td>47.560300</td>\n",
       "      <td>-122.339380</td>\n",
       "      <td>...</td>\n",
       "      <td>0</td>\n",
       "      <td>0</td>\n",
       "      <td>0</td>\n",
       "      <td>0</td>\n",
       "      <td>0</td>\n",
       "      <td>0</td>\n",
       "      <td>0</td>\n",
       "      <td>0</td>\n",
       "      <td>0</td>\n",
       "      <td>0</td>\n",
       "    </tr>\n",
       "    <tr>\n",
       "      <th>3513420</th>\n",
       "      <td>A-3513584</td>\n",
       "      <td>Bing</td>\n",
       "      <td>NaN</td>\n",
       "      <td>2</td>\n",
       "      <td>2019-08-23 16:45:28</td>\n",
       "      <td>2019-08-23 17:15:00</td>\n",
       "      <td>33.468636</td>\n",
       "      <td>-112.111228</td>\n",
       "      <td>33.468636</td>\n",
       "      <td>-112.111228</td>\n",
       "      <td>...</td>\n",
       "      <td>0</td>\n",
       "      <td>0</td>\n",
       "      <td>0</td>\n",
       "      <td>0</td>\n",
       "      <td>0</td>\n",
       "      <td>0</td>\n",
       "      <td>0</td>\n",
       "      <td>0</td>\n",
       "      <td>0</td>\n",
       "      <td>0</td>\n",
       "    </tr>\n",
       "    <tr>\n",
       "      <th>3513456</th>\n",
       "      <td>A-3513620</td>\n",
       "      <td>Bing</td>\n",
       "      <td>NaN</td>\n",
       "      <td>2</td>\n",
       "      <td>2019-08-23 09:49:57</td>\n",
       "      <td>2019-08-23 10:19:30</td>\n",
       "      <td>47.562573</td>\n",
       "      <td>-122.321289</td>\n",
       "      <td>47.564800</td>\n",
       "      <td>-122.320860</td>\n",
       "      <td>...</td>\n",
       "      <td>0</td>\n",
       "      <td>0</td>\n",
       "      <td>0</td>\n",
       "      <td>0</td>\n",
       "      <td>0</td>\n",
       "      <td>0</td>\n",
       "      <td>0</td>\n",
       "      <td>0</td>\n",
       "      <td>0</td>\n",
       "      <td>0</td>\n",
       "    </tr>\n",
       "    <tr>\n",
       "      <th>3513494</th>\n",
       "      <td>A-3513658</td>\n",
       "      <td>Bing</td>\n",
       "      <td>NaN</td>\n",
       "      <td>2</td>\n",
       "      <td>2019-08-23 13:54:42</td>\n",
       "      <td>2019-08-23 14:21:56</td>\n",
       "      <td>47.588410</td>\n",
       "      <td>-122.305860</td>\n",
       "      <td>47.588410</td>\n",
       "      <td>-122.305860</td>\n",
       "      <td>...</td>\n",
       "      <td>0</td>\n",
       "      <td>0</td>\n",
       "      <td>0</td>\n",
       "      <td>0</td>\n",
       "      <td>0</td>\n",
       "      <td>0</td>\n",
       "      <td>0</td>\n",
       "      <td>0</td>\n",
       "      <td>0</td>\n",
       "      <td>0</td>\n",
       "    </tr>\n",
       "  </tbody>\n",
       "</table>\n",
       "<p>12855 rows × 228 columns</p>\n",
       "</div>"
      ],
      "text/plain": [
       "                ID    Source    TMC  Severity           Start_Time  \\\n",
       "146266    A-146268  MapQuest  229.0         3  2016-11-30 15:49:32   \n",
       "146267    A-146269  MapQuest  201.0         2  2016-11-30 15:48:26   \n",
       "146268    A-146270  MapQuest  229.0         3  2016-11-30 15:11:50   \n",
       "146269    A-146271  MapQuest  229.0         3  2016-11-30 14:41:44   \n",
       "146297    A-146299  MapQuest  229.0         3  2016-11-30 19:00:35   \n",
       "...            ...       ...    ...       ...                  ...   \n",
       "3513005  A-3513169      Bing    NaN         3  2019-08-22 07:03:27   \n",
       "3513045  A-3513209      Bing    NaN         2  2019-08-22 12:26:04   \n",
       "3513420  A-3513584      Bing    NaN         2  2019-08-23 16:45:28   \n",
       "3513456  A-3513620      Bing    NaN         2  2019-08-23 09:49:57   \n",
       "3513494  A-3513658      Bing    NaN         2  2019-08-23 13:54:42   \n",
       "\n",
       "                    End_Time  Start_Lat   Start_Lng    End_Lat     End_Lng  \\\n",
       "146266   2016-11-30 17:20:00  33.791683  -84.391472        NaN         NaN   \n",
       "146267   2016-11-30 17:18:08  33.751411  -84.390968        NaN         NaN   \n",
       "146268   2016-11-30 16:56:31  33.781532  -84.390869        NaN         NaN   \n",
       "146269   2016-11-30 16:56:18  33.771290  -84.390472        NaN         NaN   \n",
       "146297   2016-11-30 19:29:44  33.769001  -84.390511        NaN         NaN   \n",
       "...                      ...        ...         ...        ...         ...   \n",
       "3513005  2019-08-22 07:30:10  47.557591 -122.320461  47.558781 -122.321050   \n",
       "3513045  2019-08-22 12:54:22  47.560300 -122.339380  47.560300 -122.339380   \n",
       "3513420  2019-08-23 17:15:00  33.468636 -112.111228  33.468636 -112.111228   \n",
       "3513456  2019-08-23 10:19:30  47.562573 -122.321289  47.564800 -122.320860   \n",
       "3513494  2019-08-23 14:21:56  47.588410 -122.305860  47.588410 -122.305860   \n",
       "\n",
       "         ...  quarter87 quarter88 quarter89 quarter90 quarter91 quarter92  \\\n",
       "146266   ...          0         0         0         0         0         0   \n",
       "146267   ...          0         0         0         0         0         0   \n",
       "146268   ...          0         0         0         0         0         0   \n",
       "146269   ...          0         0         0         0         0         0   \n",
       "146297   ...          0         0         0         0         0         0   \n",
       "...      ...        ...       ...       ...       ...       ...       ...   \n",
       "3513005  ...          0         0         0         0         0         0   \n",
       "3513045  ...          0         0         0         0         0         0   \n",
       "3513420  ...          0         0         0         0         0         0   \n",
       "3513456  ...          0         0         0         0         0         0   \n",
       "3513494  ...          0         0         0         0         0         0   \n",
       "\n",
       "        quarter93 quarter94 quarter95 quarter96  \n",
       "146266          0         0         0         0  \n",
       "146267          0         0         0         0  \n",
       "146268          0         0         0         0  \n",
       "146269          0         0         0         0  \n",
       "146297          0         0         0         0  \n",
       "...           ...       ...       ...       ...  \n",
       "3513005         0         0         0         0  \n",
       "3513045         0         0         0         0  \n",
       "3513420         0         0         0         0  \n",
       "3513456         0         0         0         0  \n",
       "3513494         0         0         0         0  \n",
       "\n",
       "[12855 rows x 228 columns]"
      ]
     },
     "execution_count": 17,
     "metadata": {},
     "output_type": "execute_result"
    }
   ],
   "source": [
    "tt_ssap_g5_df = arp_df.loc[arp_df['geohash5'].isin(lst_test_cities_geohashes)]\n",
    "tt_ssap_g5_df"
   ]
  },
  {
   "cell_type": "code",
   "execution_count": 18,
   "metadata": {},
   "outputs": [
    {
     "data": {
      "text/plain": [
       "Atlanta        6064\n",
       "Seattle        3557\n",
       "Phoenix        2026\n",
       "Springfield    1196\n",
       "Alexandria       12\n",
       "Name: City, dtype: int64"
      ]
     },
     "execution_count": 18,
     "metadata": {},
     "output_type": "execute_result"
    }
   ],
   "source": [
    "tt_ssap_g5_df.City.value_counts()"
   ]
  },
  {
   "cell_type": "code",
   "execution_count": 19,
   "metadata": {},
   "outputs": [],
   "source": [
    "tt_ssap_g5_df.to_pickle('../data_files/tt_ssap_g5.pkl')"
   ]
  },
  {
   "cell_type": "code",
   "execution_count": 9,
   "metadata": {},
   "outputs": [
    {
     "name": "stdout",
     "output_type": "stream",
     "text": [
      "0.0\n",
      "333.63000488299997\n"
     ]
    }
   ],
   "source": [
    "#arp_df['Distance_mi'].isna().any()\n",
    "print(min(arp_df['Distance_mi']))\n",
    "print(max(arp_df['Distance_mi']))"
   ]
  },
  {
   "cell_type": "code",
   "execution_count": 9,
   "metadata": {},
   "outputs": [
    {
     "name": "stdout",
     "output_type": "stream",
     "text": [
      "(2515, 315)\n"
     ]
    },
    {
     "data": {
      "text/plain": [
       "array([[1, 0, 0, ..., 0.518022355827172, -0.06623753526029841, 98],\n",
       "       [1, 0, 0, ..., 0.518022355827172, -0.06623753526029841, 98],\n",
       "       [1, 0, 1, ..., 0.518022355827172, -0.06623753526029841, 98],\n",
       "       ...,\n",
       "       [1, 0, 1, ..., 0.6725878851606645, -0.025870411158965507, 489],\n",
       "       [1, 0, 1, ..., 0.6725878851606645, -0.025870411158965507, 489],\n",
       "       [1, 0, 1, ..., 0.6725878851606645, -0.025870411158965507, 489]],\n",
       "      dtype=object)"
      ]
     },
     "execution_count": 9,
     "metadata": {},
     "output_type": "execute_result"
    }
   ],
   "source": [
    "#X_test_Atlanta = np.load('../data_files/dataset/X_test_Atlanta.npy',allow_pickle=True)\n",
    "print(X_test_Atlanta.shape)\n",
    "X_test_Atlanta"
   ]
  },
  {
   "cell_type": "code",
   "execution_count": 10,
   "metadata": {},
   "outputs": [
    {
     "name": "stdout",
     "output_type": "stream",
     "text": [
      "(12085, 315)\n"
     ]
    },
    {
     "data": {
      "text/plain": [
       "array([[1, 0, 0, ..., 0.518022355827172, -0.06623753526029841, 98],\n",
       "       [1, 0, 1, ..., 0.518022355827172, -0.06623753526029841, 98],\n",
       "       [0, 0, 1, ..., 0.518022355827172, -0.06623753526029841, 98],\n",
       "       ...,\n",
       "       [1, 0, 1, ..., 0.6725878851606645, -0.025870411158965507, 489],\n",
       "       [1, 0, 1, ..., 0.6725878851606645, -0.025870411158965507, 489],\n",
       "       [1, 0, 1, ..., 0.6725878851606645, -0.025870411158965507, 489]],\n",
       "      dtype=object)"
      ]
     },
     "execution_count": 10,
     "metadata": {},
     "output_type": "execute_result"
    }
   ],
   "source": [
    "X_train_Atlanta = np.load('../data_files/dataset/X_train_Atlanta.npy',allow_pickle=True)\n",
    "print(X_train_Atlanta.shape)\n",
    "X_train_Atlanta"
   ]
  },
  {
   "cell_type": "code",
   "execution_count": 11,
   "metadata": {},
   "outputs": [
    {
     "name": "stdout",
     "output_type": "stream",
     "text": [
      "(2515,)\n"
     ]
    },
    {
     "data": {
      "text/plain": [
       "array([0, 0, 0, ..., 1, 0, 0])"
      ]
     },
     "execution_count": 11,
     "metadata": {},
     "output_type": "execute_result"
    }
   ],
   "source": [
    "y_test_Atlanta = np.load('../data_files/dataset/y_test_Atlanta.npy',allow_pickle=True)\n",
    "print(y_test_Atlanta.shape)\n",
    "y_test_Atlanta"
   ]
  },
  {
   "cell_type": "code",
   "execution_count": 12,
   "metadata": {},
   "outputs": [
    {
     "name": "stdout",
     "output_type": "stream",
     "text": [
      "(12085,)\n"
     ]
    },
    {
     "data": {
      "text/plain": [
       "array([0, 0, 0, ..., 0, 0, 0])"
      ]
     },
     "execution_count": 12,
     "metadata": {},
     "output_type": "execute_result"
    }
   ],
   "source": [
    "y_train_Atlanta = np.load('../data_files/dataset/y_train_Atlanta.npy',allow_pickle=True)\n",
    "print(y_train_Atlanta.shape)\n",
    "y_train_Atlanta"
   ]
  },
  {
   "cell_type": "code",
   "execution_count": 34,
   "metadata": {},
   "outputs": [
    {
     "data": {
      "text/plain": [
       "3513612    23\n",
       "3513613    23\n",
       "3513614    23\n",
       "3513615    23\n",
       "3513616    23\n",
       "Name: day, dtype: int64"
      ]
     },
     "execution_count": 34,
     "metadata": {},
     "output_type": "execute_result"
    }
   ],
   "source": [
    "#print(list(arp_df.columns))\n",
    "arp_df.day.tail(5)"
   ]
  },
  {
   "cell_type": "code",
   "execution_count": 28,
   "metadata": {},
   "outputs": [],
   "source": [
    "cities = ['Houston', 'Atlanta', 'Phoenix', 'Seattle']\n",
    "cities_df = arp_df.loc[arp_df['City'].isin(cities)]\n",
    "print(len(cities_df.geohash5.unique()))  \n",
    "print(len(cities_df))\n",
    "#Houston 147, 101240\n",
    "#Atlanta  67,  41126\n",
    "#Phoenix  93,  28553\n",
    "#Seattle  35,  26056"
   ]
  },
  {
   "cell_type": "code",
   "execution_count": 3,
   "metadata": {},
   "outputs": [
    {
     "data": {
      "text/html": [
       "<div>\n",
       "<style scoped>\n",
       "    .dataframe tbody tr th:only-of-type {\n",
       "        vertical-align: middle;\n",
       "    }\n",
       "\n",
       "    .dataframe tbody tr th {\n",
       "        vertical-align: top;\n",
       "    }\n",
       "\n",
       "    .dataframe thead th {\n",
       "        text-align: right;\n",
       "    }\n",
       "</style>\n",
       "<table border=\"1\" class=\"dataframe\">\n",
       "  <thead>\n",
       "    <tr style=\"text-align: right;\">\n",
       "      <th></th>\n",
       "      <th>ID</th>\n",
       "      <th>Source</th>\n",
       "      <th>TMC</th>\n",
       "      <th>Severity</th>\n",
       "      <th>Start_Time</th>\n",
       "      <th>End_Time</th>\n",
       "      <th>Start_Lat</th>\n",
       "      <th>Start_Lng</th>\n",
       "      <th>End_Lat</th>\n",
       "      <th>End_Lng</th>\n",
       "      <th>...</th>\n",
       "      <th>quarter87</th>\n",
       "      <th>quarter88</th>\n",
       "      <th>quarter89</th>\n",
       "      <th>quarter90</th>\n",
       "      <th>quarter91</th>\n",
       "      <th>quarter92</th>\n",
       "      <th>quarter93</th>\n",
       "      <th>quarter94</th>\n",
       "      <th>quarter95</th>\n",
       "      <th>quarter96</th>\n",
       "    </tr>\n",
       "  </thead>\n",
       "  <tbody>\n",
       "    <tr>\n",
       "      <th>0</th>\n",
       "      <td>A-1</td>\n",
       "      <td>MapQuest</td>\n",
       "      <td>201.0</td>\n",
       "      <td>3</td>\n",
       "      <td>2016-02-08 05:46:00</td>\n",
       "      <td>2016-02-08 11:00:00</td>\n",
       "      <td>39.865147</td>\n",
       "      <td>-84.058723</td>\n",
       "      <td>NaN</td>\n",
       "      <td>NaN</td>\n",
       "      <td>...</td>\n",
       "      <td>0</td>\n",
       "      <td>0</td>\n",
       "      <td>0</td>\n",
       "      <td>0</td>\n",
       "      <td>0</td>\n",
       "      <td>0</td>\n",
       "      <td>0</td>\n",
       "      <td>0</td>\n",
       "      <td>0</td>\n",
       "      <td>0</td>\n",
       "    </tr>\n",
       "    <tr>\n",
       "      <th>1</th>\n",
       "      <td>A-2</td>\n",
       "      <td>MapQuest</td>\n",
       "      <td>201.0</td>\n",
       "      <td>2</td>\n",
       "      <td>2016-02-08 06:07:59</td>\n",
       "      <td>2016-02-08 06:37:59</td>\n",
       "      <td>39.928059</td>\n",
       "      <td>-82.831184</td>\n",
       "      <td>NaN</td>\n",
       "      <td>NaN</td>\n",
       "      <td>...</td>\n",
       "      <td>0</td>\n",
       "      <td>0</td>\n",
       "      <td>0</td>\n",
       "      <td>0</td>\n",
       "      <td>0</td>\n",
       "      <td>0</td>\n",
       "      <td>0</td>\n",
       "      <td>0</td>\n",
       "      <td>0</td>\n",
       "      <td>0</td>\n",
       "    </tr>\n",
       "  </tbody>\n",
       "</table>\n",
       "<p>2 rows × 282 columns</p>\n",
       "</div>"
      ],
      "text/plain": [
       "    ID    Source    TMC  Severity           Start_Time             End_Time  \\\n",
       "0  A-1  MapQuest  201.0         3  2016-02-08 05:46:00  2016-02-08 11:00:00   \n",
       "1  A-2  MapQuest  201.0         2  2016-02-08 06:07:59  2016-02-08 06:37:59   \n",
       "\n",
       "   Start_Lat  Start_Lng  End_Lat  End_Lng  ...  quarter87 quarter88 quarter89  \\\n",
       "0  39.865147 -84.058723      NaN      NaN  ...          0         0         0   \n",
       "1  39.928059 -82.831184      NaN      NaN  ...          0         0         0   \n",
       "\n",
       "  quarter90 quarter91 quarter92 quarter93 quarter94 quarter95 quarter96  \n",
       "0         0         0         0         0         0         0         0  \n",
       "1         0         0         0         0         0         0         0  \n",
       "\n",
       "[2 rows x 282 columns]"
      ]
     },
     "execution_count": 3,
     "metadata": {},
     "output_type": "execute_result"
    }
   ],
   "source": [
    "arp_df.head(2)"
   ]
  },
  {
   "cell_type": "code",
   "execution_count": 3,
   "metadata": {},
   "outputs": [
    {
     "data": {
      "text/plain": [
       "['ID',\n",
       " 'Source',\n",
       " 'TMC',\n",
       " 'Severity',\n",
       " 'Start_Time',\n",
       " 'End_Time',\n",
       " 'Start_Lat',\n",
       " 'Start_Lng',\n",
       " 'End_Lat',\n",
       " 'End_Lng',\n",
       " 'Distance_mi',\n",
       " 'Description',\n",
       " 'Street',\n",
       " 'Side',\n",
       " 'City',\n",
       " 'County',\n",
       " 'State',\n",
       " 'Zipcode',\n",
       " 'Timezone',\n",
       " 'Airport_Code',\n",
       " 'Weather_Timestamp',\n",
       " 'Temperature_F',\n",
       " 'Humidity_pct',\n",
       " 'Pressure_in',\n",
       " 'Visibility_mi',\n",
       " 'Wind_Direction',\n",
       " 'Wind_Speed_mph',\n",
       " 'Precipitation_in',\n",
       " 'Amenity',\n",
       " 'Bump',\n",
       " 'Crossing',\n",
       " 'Give_Way',\n",
       " 'Junction',\n",
       " 'No_Exit',\n",
       " 'Railway',\n",
       " 'Roundabout',\n",
       " 'Station',\n",
       " 'Stop',\n",
       " 'Traffic_Calming',\n",
       " 'Traffic_Signal',\n",
       " 'Sunrise_Sunset',\n",
       " 'Civil_Twilight',\n",
       " 'Nautical_Twilight',\n",
       " 'Astronomical_Twilight',\n",
       " 'startTime',\n",
       " 'endTime',\n",
       " 'accDuration',\n",
       " 'geometry',\n",
       " 'day',\n",
       " 'month',\n",
       " 'year',\n",
       " 'dayOfWeek',\n",
       " 'geohash4',\n",
       " 'geohash5',\n",
       " 'geohash6',\n",
       " 'clear',\n",
       " 'cloud',\n",
       " 'rain',\n",
       " 'heavyRain',\n",
       " 'snow',\n",
       " 'heavySnow',\n",
       " 'fog',\n",
       " 'precipitationNA',\n",
       " 'severity1',\n",
       " 'severity2',\n",
       " 'severity3',\n",
       " 'severity4',\n",
       " 'timezoneUS/Eastern',\n",
       " 'timezoneUS/Pacific',\n",
       " 'timezoneUS/Central',\n",
       " 'timezoneUS/Mountain',\n",
       " 'roadsideR',\n",
       " 'roadsideL',\n",
       " 'timeSSDay',\n",
       " 'timeSSNight',\n",
       " 'timeCTDay',\n",
       " 'timeCTNight',\n",
       " 'timeNTDay',\n",
       " 'timeNTNight',\n",
       " 'timeATDay',\n",
       " 'timeATNight',\n",
       " 'windDirectionCALM',\n",
       " 'windDirectionSW',\n",
       " 'windDirectionSSW',\n",
       " 'windDirectionWSW',\n",
       " 'windDirectionWNW',\n",
       " 'windDirectionNW',\n",
       " 'windDirectionW',\n",
       " 'windDirectionNNW',\n",
       " 'windDirectionNNE',\n",
       " 'windDirectionS',\n",
       " 'windDirectionN',\n",
       " 'windDirectionVAR',\n",
       " 'windDirectionSE',\n",
       " 'windDirectionSSE',\n",
       " 'windDirectionESE',\n",
       " 'windDirectionE',\n",
       " 'windDirectionNE',\n",
       " 'windDirectionENE',\n",
       " 'tmc201',\n",
       " 'tmc241',\n",
       " 'tmc247',\n",
       " 'tmc246',\n",
       " 'tmc341',\n",
       " 'tmc406',\n",
       " 'tmc245',\n",
       " 'tmc248',\n",
       " 'tmc200',\n",
       " 'tmc244',\n",
       " 'tmc203',\n",
       " 'tmc229',\n",
       " 'tmc222',\n",
       " 'tmc202',\n",
       " 'tmc206',\n",
       " 'tmc343',\n",
       " 'tmc236',\n",
       " 'tmc239',\n",
       " 'tmc336',\n",
       " 'tmc339',\n",
       " 'tmc351',\n",
       " 'tmc0',\n",
       " 'temperature_f1',\n",
       " 'temperature_f2',\n",
       " 'temperature_f3',\n",
       " 'temperature_f4',\n",
       " 'temperature_f5',\n",
       " 'temperature_f6',\n",
       " 'temperature_f7',\n",
       " 'temperature_f8',\n",
       " 'temperature_f9',\n",
       " 'temperature_f10',\n",
       " 'temperature_f11',\n",
       " 'temperature_f12',\n",
       " 'temperature_f13',\n",
       " 'humidity_pct1',\n",
       " 'humidity_pct2',\n",
       " 'humidity_pct3',\n",
       " 'humidity_pct4',\n",
       " 'humidity_pct5',\n",
       " 'pressure_in1',\n",
       " 'pressure_in2',\n",
       " 'pressure_in3',\n",
       " 'pressure_in4',\n",
       " 'visibility_mi1',\n",
       " 'visibility_mi2',\n",
       " 'visibility_mi3',\n",
       " 'visibility_mi4',\n",
       " 'visibility_mi5',\n",
       " 'visibility_mi6',\n",
       " 'visibility_mi7',\n",
       " 'wind_speed_mph1',\n",
       " 'wind_speed_mph2',\n",
       " 'wind_speed_mph3',\n",
       " 'wind_speed_mph4',\n",
       " 'wind_speed_mph5',\n",
       " 'wind_speed_mph6',\n",
       " 'wind_speed_mph7',\n",
       " 'wind_speed_mph8',\n",
       " 'wind_speed_mph9',\n",
       " 'wind_speed_mph10',\n",
       " 'rd',\n",
       " 'st',\n",
       " 'dr',\n",
       " 'ave',\n",
       " 'blvd',\n",
       " 'ln',\n",
       " 'highway',\n",
       " 'pkwy',\n",
       " 'hwy',\n",
       " 'way',\n",
       " 'ct',\n",
       " 'pl',\n",
       " 'road',\n",
       " 'us-',\n",
       " 'creek',\n",
       " 'cir',\n",
       " 'hill',\n",
       " 'route',\n",
       " 'i-',\n",
       " 'trl',\n",
       " 'valley',\n",
       " 'ridge',\n",
       " 'pike',\n",
       " 'fwy',\n",
       " 'river',\n",
       " 'timeQuarterOfDay',\n",
       " 'quarter1',\n",
       " 'quarter2',\n",
       " 'quarter3',\n",
       " 'quarter4',\n",
       " 'quarter5',\n",
       " 'quarter6',\n",
       " 'quarter7',\n",
       " 'quarter8',\n",
       " 'quarter9',\n",
       " 'quarter10',\n",
       " 'quarter11',\n",
       " 'quarter12',\n",
       " 'quarter13',\n",
       " 'quarter14',\n",
       " 'quarter15',\n",
       " 'quarter16',\n",
       " 'quarter17',\n",
       " 'quarter18',\n",
       " 'quarter19',\n",
       " 'quarter20',\n",
       " 'quarter21',\n",
       " 'quarter22',\n",
       " 'quarter23',\n",
       " 'quarter24',\n",
       " 'quarter25',\n",
       " 'quarter26',\n",
       " 'quarter27',\n",
       " 'quarter28',\n",
       " 'quarter29',\n",
       " 'quarter30',\n",
       " 'quarter31',\n",
       " 'quarter32',\n",
       " 'quarter33',\n",
       " 'quarter34',\n",
       " 'quarter35',\n",
       " 'quarter36',\n",
       " 'quarter37',\n",
       " 'quarter38',\n",
       " 'quarter39',\n",
       " 'quarter40',\n",
       " 'quarter41',\n",
       " 'quarter42',\n",
       " 'quarter43',\n",
       " 'quarter44',\n",
       " 'quarter45',\n",
       " 'quarter46',\n",
       " 'quarter47',\n",
       " 'quarter48',\n",
       " 'quarter49',\n",
       " 'quarter50',\n",
       " 'quarter51',\n",
       " 'quarter52',\n",
       " 'quarter53',\n",
       " 'quarter54',\n",
       " 'quarter55',\n",
       " 'quarter56',\n",
       " 'quarter57',\n",
       " 'quarter58',\n",
       " 'quarter59',\n",
       " 'quarter60',\n",
       " 'quarter61',\n",
       " 'quarter62',\n",
       " 'quarter63',\n",
       " 'quarter64',\n",
       " 'quarter65',\n",
       " 'quarter66',\n",
       " 'quarter67',\n",
       " 'quarter68',\n",
       " 'quarter69',\n",
       " 'quarter70',\n",
       " 'quarter71',\n",
       " 'quarter72',\n",
       " 'quarter73',\n",
       " 'quarter74',\n",
       " 'quarter75',\n",
       " 'quarter76',\n",
       " 'quarter77',\n",
       " 'quarter78',\n",
       " 'quarter79',\n",
       " 'quarter80',\n",
       " 'quarter81',\n",
       " 'quarter82',\n",
       " 'quarter83',\n",
       " 'quarter84',\n",
       " 'quarter85',\n",
       " 'quarter86',\n",
       " 'quarter87',\n",
       " 'quarter88',\n",
       " 'quarter89',\n",
       " 'quarter90',\n",
       " 'quarter91',\n",
       " 'quarter92',\n",
       " 'quarter93',\n",
       " 'quarter94',\n",
       " 'quarter95',\n",
       " 'quarter96']"
      ]
     },
     "execution_count": 3,
     "metadata": {},
     "output_type": "execute_result"
    }
   ],
   "source": [
    "list(arp_df.columns)"
   ]
  },
  {
   "cell_type": "markdown",
   "metadata": {},
   "source": [
    "<h3> Preparing another train and test data using sub-sampling </h3>"
   ]
  },
  {
   "cell_type": "code",
   "execution_count": 57,
   "metadata": {},
   "outputs": [],
   "source": [
    "#Going by geohash5\n",
    "#Springfield = ['dqchf','dqchg','dqchu','dqchd','dqche','dqchs','dqch6','dqch7','dqchk'] #dqch\n",
    "#Seattle = ['c22yz','c23nb','c23nc','c22yx','c23n8','c23n9','c22yr','c23n2','c23n3'] #c23n\n",
    "#Atlanta = ['dn5bq','dn5br','dnh02','dn5bn','dn5bp','dnh00','djgzy','djgzz','djupb'] #dn5b\n",
    "#Phoenix = ['9tbnx','9tbq8','9tbq9','9tbnr','9tbq2','9tbq3','9tbnp','9tbq0','9tbq1'] #9tbq\n",
    "#Going by geohash4\n",
    "#Los_Angeles = ['9q5c'] #82.3k\n",
    "#Houston = ['9vk1'] #57.8k\n",
    "#Seattle = ['c23n'] #20.3k\n",
    "#Phoenix = ['9tbq'] #20.2k\n",
    "#Atlanta = atlanta_df.geohash5.unique()\n",
    "#lst_LHSRP = Los_Angeles + Houston + Seattle + Raleigh + Phoenix\n",
    "#g4_LHSRP_df = arp_df.loc[arp_df['geohash4'].isin(lst_LHSRP)]\n",
    "#print(len(g4_LHSRP_df)) #5 different cities from different part of USA, #220020 records\n",
    "#print(len(g4_LHSRP_df.geohash5.unique())) #total 159 areas of 4.89*4.89 sq KM for which training and prediction\n",
    "#ssap_df = arp_df.loc[arp_df['geohash4'].isin(lst_ssap)]\n",
    "#print(len(ssap_df))  #69286\n",
    "#Houston 147, 101240\n",
    "#Atlanta  67,  41126\n",
    "#Phoenix  93,  28553\n",
    "#Seattle  35,  26056"
   ]
  },
  {
   "cell_type": "code",
   "execution_count": 5,
   "metadata": {},
   "outputs": [],
   "source": [
    "lst_columns_ss = ['ID','month','year','geohash5','Side','City','dayOfWeek','Amenity','Bump','Crossing',  \n",
    "'Give_Way','Junction','No_Exit','Railway','Roundabout','Station','Stop','Traffic_Calming','Traffic_Signal',\n",
    "'clear','cloud','rain','heavyRain','snow','heavySnow','fog',\n",
    "'timezoneUS/Eastern','timezoneUS/Pacific','timezoneUS/Central','timezoneUS/Mountain','timeSSDay',\n",
    "'windDirectionCALM','windDirectionSW','windDirectionSSW','windDirectionWSW','windDirectionWNW','windDirectionNW',\n",
    "'windDirectionW','windDirectionNNW','windDirectionNNE','windDirectionS','windDirectionN','windDirectionVAR',\n",
    "'windDirectionSE','windDirectionSSE','windDirectionESE','windDirectionE','windDirectionNE','windDirectionENE',\n",
    "'temperature_f1','temperature_f2','temperature_f3','temperature_f4','temperature_f5',\n",
    "'temperature_f6','temperature_f7','temperature_f8','temperature_f9','temperature_f10','temperature_f11',\n",
    "'temperature_f12','temperature_f13','humidity_pct1','humidity_pct2','humidity_pct3','humidity_pct4',\n",
    "'humidity_pct5','pressure_in1','pressure_in2','pressure_in3','pressure_in4','visibility_mi1','visibility_mi2',\n",
    "'visibility_mi3','visibility_mi4','visibility_mi5','visibility_mi6','visibility_mi7','wind_speed_mph1',\n",
    "'wind_speed_mph2','wind_speed_mph3','wind_speed_mph4','wind_speed_mph5','wind_speed_mph6','wind_speed_mph7',\n",
    "'wind_speed_mph8','wind_speed_mph9','wind_speed_mph10','rd','st','dr','ave','blvd','ln','highway','pkwy','hwy',\n",
    "'way','ct','pl','road','us-','creek','cir','hill','route','i-','trl','valley','ridge','pike','fwy','river',\n",
    "'quarter33','quarter34','quarter35','quarter36','quarter37',\n",
    "'quarter38','quarter39','quarter40','quarter41']"
   ]
  },
  {
   "cell_type": "code",
   "execution_count": 11,
   "metadata": {},
   "outputs": [
    {
     "name": "stdout",
     "output_type": "stream",
     "text": [
      "540 columns with boolean values added for geohash5\n",
      "Total unique geohashes as contained by cities 540\n",
      "Total sample size of cases of the above cities 349959\n",
      "823\n"
     ]
    }
   ],
   "source": [
    "#arp_df = arp_df.loc[arp_df['City']=='Atlanta']\n",
    "#arp_df = add_boolean_geohash(arp_df)\n",
    "cities = ['Houston', 'Atlanta', 'LosAngeles', 'Charlotte', 'Dallas', 'Austin']\n",
    "cities_df = arp_df.loc[arp_df['City'].isin(cities)]\n",
    "cities_df = add_boolean_geohash(cities_df)\n",
    "print('Total unique geohashes as contained by cities',len(cities_df.geohash5.unique()))  \n",
    "print('Total sample size of cases of the above cities',len(cities_df))\n",
    "print(len(cities_df.columns))"
   ]
  },
  {
   "cell_type": "markdown",
   "metadata": {},
   "source": [
    "<em> For all cities for its geohash5, an equivalent 282 sized one hot vector gets added </em>"
   ]
  },
  {
   "cell_type": "code",
   "execution_count": 12,
   "metadata": {},
   "outputs": [
    {
     "name": "stdout",
     "output_type": "stream",
     "text": [
      "823\n",
      "70094\n",
      "14440\n"
     ]
    }
   ],
   "source": [
    "#for taking a sample of data from one season, we take data from June to august first then later March to May\n",
    "#also, taking only those columns which we need to use for train-test, train on time 8-10, predict on time 10-10:15\n",
    "#i.e. quarter33 to quarter41\n",
    "#processing only fro Atlanta\n",
    "arp_ss_train_df = cities_df.query('(month==6 | month ==7) | (month==8 & day<18)')\n",
    "arp_ss_test_df = cities_df.query('month==8 & day>=18')\n",
    "#arp_ss_train_df = arp_ss_train_df[lst_columns_ss]\n",
    "#arp_ss_test_df = arp_ss_test_df[lst_columns_ss]\n",
    "print(len(arp_ss_train_df.columns))  #122\n",
    "print(len(arp_ss_train_df)) #684913\n",
    "print(len(arp_ss_test_df))  #131101"
   ]
  },
  {
   "cell_type": "code",
   "execution_count": 13,
   "metadata": {},
   "outputs": [
    {
     "name": "stdout",
     "output_type": "stream",
     "text": [
      "weekday column added having boolean values\n",
      "824\n",
      "70094\n"
     ]
    }
   ],
   "source": [
    "#column weekday or not added and later we remove dayOfWeek\n",
    "arp_ss_train_df = get_WeekdayWeekend(arp_ss_train_df)\n",
    "print(len(arp_ss_train_df.columns))\n",
    "print(len(arp_ss_train_df))"
   ]
  },
  {
   "cell_type": "code",
   "execution_count": 14,
   "metadata": {
    "scrolled": true
   },
   "outputs": [
    {
     "name": "stdout",
     "output_type": "stream",
     "text": [
      "weekday column added having boolean values\n",
      "824\n",
      "14440\n"
     ]
    }
   ],
   "source": [
    "#column weekday or not added and later we remove dayOfWeek\n",
    "arp_ss_test_df = get_WeekdayWeekend(arp_ss_test_df)\n",
    "print(len(arp_ss_test_df.columns))\n",
    "print(len(arp_ss_test_df))"
   ]
  },
  {
   "cell_type": "code",
   "execution_count": 15,
   "metadata": {},
   "outputs": [],
   "source": [
    "lst_columns_ss = ['ID','month','year','geohash5','Side','City','dayOfWeek','Amenity','Bump','Crossing',  \n",
    "'Give_Way','Junction','No_Exit','Railway','Roundabout','Station','Stop','Traffic_Calming','Traffic_Signal',\n",
    "'clear','cloud','rain','heavyRain','snow','heavySnow','fog',\n",
    "'timezoneUS/Eastern','timezoneUS/Pacific','timezoneUS/Central','timezoneUS/Mountain','timeSSDay','timeSSNight',\n",
    "'windDirectionCALM','windDirectionSW','windDirectionSSW','windDirectionWSW','windDirectionWNW','windDirectionNW',\n",
    "'windDirectionW','windDirectionNNW','windDirectionNNE','windDirectionS','windDirectionN','windDirectionVAR',\n",
    "'windDirectionSE','windDirectionSSE','windDirectionESE','windDirectionE','windDirectionNE','windDirectionENE',\n",
    "'temperature_f1','temperature_f2','temperature_f3','temperature_f4','temperature_f5',\n",
    "'temperature_f6','temperature_f7','temperature_f8','temperature_f9','temperature_f10','temperature_f11',\n",
    "'temperature_f12','temperature_f13','humidity_pct1','humidity_pct2','humidity_pct3','humidity_pct4',\n",
    "'humidity_pct5','pressure_in1','pressure_in2','pressure_in3','pressure_in4','visibility_mi1','visibility_mi2',\n",
    "'visibility_mi3','visibility_mi4','visibility_mi5','visibility_mi6','visibility_mi7','wind_speed_mph1',\n",
    "'wind_speed_mph2','wind_speed_mph3','wind_speed_mph4','wind_speed_mph5','wind_speed_mph6','wind_speed_mph7',\n",
    "'wind_speed_mph8','wind_speed_mph9','wind_speed_mph10','rd','st','dr','ave','blvd','ln','highway','pkwy','hwy',\n",
    "'way','ct','pl','road','us-','creek','cir','hill','route','i-','trl','valley','ridge','pike','fwy','river',\n",
    "'quarter33','quarter34','quarter35','quarter36','quarter37',\n",
    "'quarter38','quarter39','quarter40','quarter41']"
   ]
  },
  {
   "cell_type": "code",
   "execution_count": 17,
   "metadata": {},
   "outputs": [],
   "source": [
    "g5_col = ['geohash5']\n",
    "roadSideRL_col = ['roadsideRL']\n",
    "city_side_col = ['City','Side']\n",
    "other_cols = ['Amenity','Bump','Crossing','Give_Way','Junction','No_Exit','Railway',\n",
    "'Roundabout','Station','Stop','Traffic_Calming','Traffic_Signal','clear','cloud','rain','heavyRain','snow',\n",
    "'heavySnow','fog','timezoneUS/Eastern','timezoneUS/Pacific','timezoneUS/Central',\n",
    "'timezoneUS/Mountain','weekday','timeSSDay',\n",
    "'windDirectionCALM','windDirectionSW','windDirectionSSW','windDirectionWSW',\n",
    "'windDirectionWNW','windDirectionNW','windDirectionW','windDirectionNNW','windDirectionNNE','windDirectionS',\n",
    "'windDirectionN','windDirectionVAR','windDirectionSE','windDirectionSSE','windDirectionESE','windDirectionE',\n",
    "'windDirectionNE','windDirectionENE',\n",
    "'temperature_f1','temperature_f2','temperature_f3','temperature_f4','temperature_f5',\n",
    "'temperature_f6','temperature_f7','temperature_f8','temperature_f9','temperature_f10','temperature_f11',\n",
    "'temperature_f12','temperature_f13','humidity_pct1','humidity_pct2','humidity_pct3','humidity_pct4',\n",
    "'humidity_pct5','pressure_in1','pressure_in2','pressure_in3','pressure_in4','visibility_mi1','visibility_mi2',\n",
    "'visibility_mi3','visibility_mi4','visibility_mi5','visibility_mi6','visibility_mi7','wind_speed_mph1',\n",
    "'wind_speed_mph2','wind_speed_mph3','wind_speed_mph4','wind_speed_mph5','wind_speed_mph6','wind_speed_mph7',\n",
    "'wind_speed_mph8','wind_speed_mph9','wind_speed_mph10','rd','st','dr','ave','blvd','ln','highway','pkwy','hwy',\n",
    "'way','pl','road','us-','creek','cir','hill','route','i-','trl','valley','ridge','pike','fwy','river',\n",
    "'quarter33','quarter34','quarter35','quarter36','quarter37','quarter38','quarter39','quarter40','quarter41']\n",
    "g_cols = ['g_'+str(i+1) for i in range(540)] #if using one hot vector equivalent to the gepohashes for 6 cities\n",
    "emb_cols = ['ge'+str(i+1) for i in range(100)]  #if using geohash embedding of size 100"
   ]
  },
  {
   "cell_type": "markdown",
   "metadata": {},
   "source": [
    "<em> Using one hot vector equivalent to the gepohashes for 6 cities </em>"
   ]
  },
  {
   "cell_type": "code",
   "execution_count": 18,
   "metadata": {},
   "outputs": [],
   "source": [
    "tt_cols = g_cols + roadSideRL_col + other_cols\n",
    "arp_ss_train_df = arp_ss_train_df[tt_cols]\n",
    "arp_ss_test_df = arp_ss_test_df[tt_cols]"
   ]
  },
  {
   "cell_type": "code",
   "execution_count": 19,
   "metadata": {},
   "outputs": [
    {
     "name": "stdout",
     "output_type": "stream",
     "text": [
      "656\n",
      "656\n"
     ]
    }
   ],
   "source": [
    "print(len(arp_ss_train_df.columns))\n",
    "print(len(arp_ss_test_df.columns))"
   ]
  },
  {
   "cell_type": "code",
   "execution_count": 20,
   "metadata": {},
   "outputs": [],
   "source": [
    "arp_ss_train_df.to_csv('../data_files/train_set_6cities.csv',index=False)\n",
    "arp_ss_test_df.to_csv('../data_files/test_set_6cities.csv',index=False)"
   ]
  },
  {
   "cell_type": "code",
   "execution_count": 27,
   "metadata": {},
   "outputs": [
    {
     "data": {
      "text/html": [
       "<div>\n",
       "<style scoped>\n",
       "    .dataframe tbody tr th:only-of-type {\n",
       "        vertical-align: middle;\n",
       "    }\n",
       "\n",
       "    .dataframe tbody tr th {\n",
       "        vertical-align: top;\n",
       "    }\n",
       "\n",
       "    .dataframe thead th {\n",
       "        text-align: right;\n",
       "    }\n",
       "</style>\n",
       "<table border=\"1\" class=\"dataframe\">\n",
       "  <thead>\n",
       "    <tr style=\"text-align: right;\">\n",
       "      <th></th>\n",
       "      <th>g_1</th>\n",
       "      <th>g_2</th>\n",
       "      <th>g_3</th>\n",
       "      <th>g_4</th>\n",
       "      <th>g_5</th>\n",
       "      <th>g_6</th>\n",
       "      <th>g_7</th>\n",
       "      <th>g_8</th>\n",
       "      <th>g_9</th>\n",
       "      <th>g_10</th>\n",
       "      <th>...</th>\n",
       "      <th>river</th>\n",
       "      <th>quarter33</th>\n",
       "      <th>quarter34</th>\n",
       "      <th>quarter35</th>\n",
       "      <th>quarter36</th>\n",
       "      <th>quarter37</th>\n",
       "      <th>quarter38</th>\n",
       "      <th>quarter39</th>\n",
       "      <th>quarter40</th>\n",
       "      <th>quarter41</th>\n",
       "    </tr>\n",
       "  </thead>\n",
       "  <tbody>\n",
       "    <tr>\n",
       "      <th>156248</th>\n",
       "      <td>0</td>\n",
       "      <td>0</td>\n",
       "      <td>0</td>\n",
       "      <td>0</td>\n",
       "      <td>0</td>\n",
       "      <td>1</td>\n",
       "      <td>0</td>\n",
       "      <td>0</td>\n",
       "      <td>0</td>\n",
       "      <td>0</td>\n",
       "      <td>...</td>\n",
       "      <td>0</td>\n",
       "      <td>0</td>\n",
       "      <td>0</td>\n",
       "      <td>0</td>\n",
       "      <td>0</td>\n",
       "      <td>0</td>\n",
       "      <td>0</td>\n",
       "      <td>0</td>\n",
       "      <td>0</td>\n",
       "      <td>0</td>\n",
       "    </tr>\n",
       "  </tbody>\n",
       "</table>\n",
       "<p>1 rows × 656 columns</p>\n",
       "</div>"
      ],
      "text/plain": [
       "        g_1  g_2  g_3  g_4  g_5  g_6  g_7  g_8  g_9  g_10  ...  river  \\\n",
       "156248    0    0    0    0    0    1    0    0    0     0  ...      0   \n",
       "\n",
       "        quarter33  quarter34  quarter35  quarter36  quarter37  quarter38  \\\n",
       "156248          0          0          0          0          0          0   \n",
       "\n",
       "        quarter39  quarter40  quarter41  \n",
       "156248          0          0          0  \n",
       "\n",
       "[1 rows x 656 columns]"
      ]
     },
     "execution_count": 27,
     "metadata": {},
     "output_type": "execute_result"
    }
   ],
   "source": [
    "arp_ss_test_df.head(1)"
   ]
  },
  {
   "cell_type": "code",
   "execution_count": 25,
   "metadata": {},
   "outputs": [
    {
     "data": {
      "text/html": [
       "<div>\n",
       "<style scoped>\n",
       "    .dataframe tbody tr th:only-of-type {\n",
       "        vertical-align: middle;\n",
       "    }\n",
       "\n",
       "    .dataframe tbody tr th {\n",
       "        vertical-align: top;\n",
       "    }\n",
       "\n",
       "    .dataframe thead th {\n",
       "        text-align: right;\n",
       "    }\n",
       "</style>\n",
       "<table border=\"1\" class=\"dataframe\">\n",
       "  <thead>\n",
       "    <tr style=\"text-align: right;\">\n",
       "      <th></th>\n",
       "      <th>g_1</th>\n",
       "      <th>g_2</th>\n",
       "      <th>g_3</th>\n",
       "      <th>g_4</th>\n",
       "      <th>g_5</th>\n",
       "      <th>g_6</th>\n",
       "      <th>g_7</th>\n",
       "      <th>g_8</th>\n",
       "      <th>g_9</th>\n",
       "      <th>g_10</th>\n",
       "      <th>...</th>\n",
       "      <th>river</th>\n",
       "      <th>quarter33</th>\n",
       "      <th>quarter34</th>\n",
       "      <th>quarter35</th>\n",
       "      <th>quarter36</th>\n",
       "      <th>quarter37</th>\n",
       "      <th>quarter38</th>\n",
       "      <th>quarter39</th>\n",
       "      <th>quarter40</th>\n",
       "      <th>quarter41</th>\n",
       "    </tr>\n",
       "  </thead>\n",
       "  <tbody>\n",
       "    <tr>\n",
       "      <th>156248</th>\n",
       "      <td>0</td>\n",
       "      <td>0</td>\n",
       "      <td>0</td>\n",
       "      <td>0</td>\n",
       "      <td>0</td>\n",
       "      <td>1</td>\n",
       "      <td>0</td>\n",
       "      <td>0</td>\n",
       "      <td>0</td>\n",
       "      <td>0</td>\n",
       "      <td>...</td>\n",
       "      <td>0</td>\n",
       "      <td>0</td>\n",
       "      <td>0</td>\n",
       "      <td>0</td>\n",
       "      <td>0</td>\n",
       "      <td>0</td>\n",
       "      <td>0</td>\n",
       "      <td>0</td>\n",
       "      <td>0</td>\n",
       "      <td>0</td>\n",
       "    </tr>\n",
       "  </tbody>\n",
       "</table>\n",
       "<p>1 rows × 656 columns</p>\n",
       "</div>"
      ],
      "text/plain": [
       "        g_1  g_2  g_3  g_4  g_5  g_6  g_7  g_8  g_9  g_10  ...  river  \\\n",
       "156248    0    0    0    0    0    1    0    0    0     0  ...      0   \n",
       "\n",
       "        quarter33  quarter34  quarter35  quarter36  quarter37  quarter38  \\\n",
       "156248          0          0          0          0          0          0   \n",
       "\n",
       "        quarter39  quarter40  quarter41  \n",
       "156248          0          0          0  \n",
       "\n",
       "[1 rows x 656 columns]"
      ]
     },
     "execution_count": 25,
     "metadata": {},
     "output_type": "execute_result"
    }
   ],
   "source": [
    "arp_ss_test_df.head(1)"
   ]
  },
  {
   "cell_type": "markdown",
   "metadata": {},
   "source": [
    "<em> Using geohash embedding of size 100 for the cities, preparing training and test sets </em>"
   ]
  },
  {
   "cell_type": "code",
   "execution_count": 20,
   "metadata": {},
   "outputs": [
    {
     "name": "stdout",
     "output_type": "stream",
     "text": [
      "Total unique geohashes as contained by cities 57\n",
      "Total sample size of cases of the above cities 8580\n",
      "123\n"
     ]
    }
   ],
   "source": [
    "cities = ['Houston', 'Atlanta', 'LosAngeles', 'Charlotte', 'Dallas', 'Austin']\n",
    "cities_train_df = arp_ss_train_df.loc[arp_ss_train_df['City'].isin(cities)]\n",
    "print('Total unique geohashes as contained by cities',len(cities_train_df.geohash5.unique()))  \n",
    "print('Total sample size of cases of the above cities',len(cities_train_df))\n",
    "print(len(cities_train_df.columns))"
   ]
  },
  {
   "cell_type": "code",
   "execution_count": 21,
   "metadata": {},
   "outputs": [
    {
     "name": "stdout",
     "output_type": "stream",
     "text": [
      "Total unique geohashes as contained by cities 49\n",
      "Total sample size of cases of the above cities 1897\n",
      "283\n"
     ]
    }
   ],
   "source": [
    "#cities = ['Houston', 'Atlanta', 'LosAngeles', 'Charlotte', 'Dallas', 'Austin']\n",
    "cities_test_df = arp_ss_test_df.loc[arp_ss_test_df['City'].isin(cities)]\n",
    "print('Total unique geohashes as contained by cities',len(cities_test_df.geohash5.unique()))  \n",
    "print('Total sample size of cases of the above cities',len(cities_test_df))\n",
    "print(len(cities_test_df.columns))"
   ]
  },
  {
   "cell_type": "code",
   "execution_count": 22,
   "metadata": {},
   "outputs": [
    {
     "data": {
      "text/html": [
       "<div>\n",
       "<style scoped>\n",
       "    .dataframe tbody tr th:only-of-type {\n",
       "        vertical-align: middle;\n",
       "    }\n",
       "\n",
       "    .dataframe tbody tr th {\n",
       "        vertical-align: top;\n",
       "    }\n",
       "\n",
       "    .dataframe thead th {\n",
       "        text-align: right;\n",
       "    }\n",
       "</style>\n",
       "<table border=\"1\" class=\"dataframe\">\n",
       "  <thead>\n",
       "    <tr style=\"text-align: right;\">\n",
       "      <th></th>\n",
       "      <th>geohash5</th>\n",
       "      <th>City</th>\n",
       "      <th>Side</th>\n",
       "      <th>Amenity</th>\n",
       "      <th>Bump</th>\n",
       "      <th>Crossing</th>\n",
       "      <th>Give_Way</th>\n",
       "      <th>Junction</th>\n",
       "      <th>No_Exit</th>\n",
       "      <th>Railway</th>\n",
       "      <th>...</th>\n",
       "      <th>river</th>\n",
       "      <th>quarter33</th>\n",
       "      <th>quarter34</th>\n",
       "      <th>quarter35</th>\n",
       "      <th>quarter36</th>\n",
       "      <th>quarter37</th>\n",
       "      <th>quarter38</th>\n",
       "      <th>quarter39</th>\n",
       "      <th>quarter40</th>\n",
       "      <th>quarter41</th>\n",
       "    </tr>\n",
       "  </thead>\n",
       "  <tbody>\n",
       "    <tr>\n",
       "      <th>155413</th>\n",
       "      <td>djgzm</td>\n",
       "      <td>Atlanta</td>\n",
       "      <td>R</td>\n",
       "      <td>0</td>\n",
       "      <td>0</td>\n",
       "      <td>0</td>\n",
       "      <td>0</td>\n",
       "      <td>0</td>\n",
       "      <td>0</td>\n",
       "      <td>0</td>\n",
       "      <td>...</td>\n",
       "      <td>0</td>\n",
       "      <td>0</td>\n",
       "      <td>0</td>\n",
       "      <td>0</td>\n",
       "      <td>0</td>\n",
       "      <td>0</td>\n",
       "      <td>0</td>\n",
       "      <td>0</td>\n",
       "      <td>0</td>\n",
       "      <td>0</td>\n",
       "    </tr>\n",
       "  </tbody>\n",
       "</table>\n",
       "<p>1 rows × 118 columns</p>\n",
       "</div>"
      ],
      "text/plain": [
       "       geohash5     City Side  Amenity  Bump  Crossing  Give_Way  Junction  \\\n",
       "155413    djgzm  Atlanta    R        0     0         0         0         0   \n",
       "\n",
       "        No_Exit  Railway  ...  river  quarter33  quarter34  quarter35  \\\n",
       "155413        0        0  ...      0          0          0          0   \n",
       "\n",
       "        quarter36 quarter37 quarter38 quarter39 quarter40 quarter41  \n",
       "155413          0         0         0         0         0         0  \n",
       "\n",
       "[1 rows x 118 columns]"
      ]
     },
     "execution_count": 22,
     "metadata": {},
     "output_type": "execute_result"
    }
   ],
   "source": [
    "selected_cols_df = cities_train_df[g5_col+city_side_col+other_cols]\n",
    "selected_cols_df.head(1)\n",
    "#print(selected_cols_df.head(1))\n",
    "#print(selected_cols_df.columns[selected_cols_df.isna().any()].tolist())  #should contain nothing if no value in df is NaN"
   ]
  },
  {
   "cell_type": "code",
   "execution_count": 23,
   "metadata": {},
   "outputs": [],
   "source": [
    "selected_cols_test_df = cities_test_df[g5_col+city_side_col+other_cols]\n",
    "#print(selected_cols_df.head(1))\n",
    "#print(selected_cols_df.columns[selected_cols_df.isna().any()].tolist())  #should contain nothing if no value in df is NaN"
   ]
  },
  {
   "cell_type": "code",
   "execution_count": 24,
   "metadata": {},
   "outputs": [
    {
     "name": "stdout",
     "output_type": "stream",
     "text": [
      "columns roadsideRL and geohash embedding added\n",
      "57\n",
      "8580\n",
      "219\n"
     ]
    }
   ],
   "source": [
    "emb_df = embedd_ct_g5(selected_cols_df)\n",
    "tt_cols = g5_col + city_side_col + emb_cols + roadSideRL_col + other_cols\n",
    "tt_df = emb_df[tt_cols]\n",
    "print(len(tt_df.geohash5.unique()))\n",
    "print(len(tt_df))\n",
    "print(len(tt_df.columns))\n",
    "tt_df.head(2)\n",
    "train_test_cols = emb_cols + roadSideRL_col + other_cols\n",
    "train_df = tt_df[train_test_cols]\n",
    "train_df.to_csv('../data_files/train_etc_atlanta_0312.csv',index=False)\n",
    "#tt_train_df = pd.read_csv('../data_files/train_test_etc_0312.csv')"
   ]
  },
  {
   "cell_type": "code",
   "execution_count": 25,
   "metadata": {},
   "outputs": [
    {
     "name": "stdout",
     "output_type": "stream",
     "text": [
      "columns roadsideRL and geohash embedding added\n",
      "49\n",
      "1897\n",
      "219\n"
     ]
    }
   ],
   "source": [
    "emb_test_df = embedd_ct_g5(selected_cols_test_df)\n",
    "tt_cols = g5_col + city_side_col + emb_cols + roadSideRL_col + other_cols\n",
    "tt_test_df = emb_test_df[tt_cols]\n",
    "print(len(tt_test_df.geohash5.unique()))\n",
    "print(len(tt_test_df))\n",
    "print(len(tt_test_df.columns))\n",
    "tt_test_df.head(2)\n",
    "train_test_cols = emb_cols + roadSideRL_col + other_cols\n",
    "#tt_df = pd.read_csv('../data_files/train_test_etc_0312.csv')\n",
    "test_df = tt_test_df[train_test_cols]\n",
    "test_df.to_csv('../data_files/test_etc_atlanta_0312.csv',index=False)"
   ]
  },
  {
   "cell_type": "code",
   "execution_count": 28,
   "metadata": {},
   "outputs": [
    {
     "data": {
      "text/plain": [
       "142"
      ]
     },
     "execution_count": 28,
     "metadata": {},
     "output_type": "execute_result"
    }
   ],
   "source": [
    "train_df['quarter41'].sum()  #train acc 142, test acc 19, train tot rec 8580, test tot rec 1897"
   ]
  },
  {
   "cell_type": "markdown",
   "metadata": {},
   "source": [
    "<em> <b> 03.12.2020: </b> Preparing dataset by mixing non-accidents cases </em>"
   ]
  },
  {
   "cell_type": "code",
   "execution_count": 67,
   "metadata": {},
   "outputs": [
    {
     "name": "stdout",
     "output_type": "stream",
     "text": [
      "70094\n",
      "14440\n"
     ]
    }
   ],
   "source": [
    "train_all_df = pd.read_csv('../data_files/train_etc_0312.csv') \n",
    "test_all_df = pd.read_csv('../data_files/test_etc_0312.csv') \n",
    "print(len(train_all_df))\n",
    "print(len(test_all_df))"
   ]
  },
  {
   "cell_type": "code",
   "execution_count": 40,
   "metadata": {},
   "outputs": [
    {
     "name": "stdout",
     "output_type": "stream",
     "text": [
      "12886\n"
     ]
    }
   ],
   "source": [
    "train_acc_df = train_all_df.query('quarter33==1 | quarter34==1 | quarter35==1 | quarter36==1 \\\n",
    "                                | quarter37==1 | quarter38==1 | quarter39==1 | quarter40==1 | quarter41==1')\n",
    "print(len(train_acc_df))"
   ]
  },
  {
   "cell_type": "code",
   "execution_count": 41,
   "metadata": {},
   "outputs": [
    {
     "name": "stdout",
     "output_type": "stream",
     "text": [
      "2850\n"
     ]
    }
   ],
   "source": [
    "test_acc_df = test_all_df.query('quarter33==1 | quarter34==1 | quarter35==1 | quarter36==1 \\\n",
    "                                | quarter37==1 | quarter38==1 | quarter39==1 | quarter40==1 | quarter41==1')\n",
    "print(len(test_acc_df))"
   ]
  },
  {
   "cell_type": "code",
   "execution_count": 53,
   "metadata": {},
   "outputs": [],
   "source": [
    "train_acc_df.to_csv('../data_files/train_etc_acc.csv',index=False)\n",
    "test_acc_df.to_csv('../data_files/test_etc_acc.csv',index=False)"
   ]
  },
  {
   "cell_type": "code",
   "execution_count": 52,
   "metadata": {},
   "outputs": [
    {
     "data": {
      "text/html": [
       "<div>\n",
       "<style scoped>\n",
       "    .dataframe tbody tr th:only-of-type {\n",
       "        vertical-align: middle;\n",
       "    }\n",
       "\n",
       "    .dataframe tbody tr th {\n",
       "        vertical-align: top;\n",
       "    }\n",
       "\n",
       "    .dataframe thead th {\n",
       "        text-align: right;\n",
       "    }\n",
       "</style>\n",
       "<table border=\"1\" class=\"dataframe\">\n",
       "  <thead>\n",
       "    <tr style=\"text-align: right;\">\n",
       "      <th></th>\n",
       "      <th>ge1</th>\n",
       "      <th>ge2</th>\n",
       "      <th>ge3</th>\n",
       "      <th>ge4</th>\n",
       "      <th>ge5</th>\n",
       "      <th>ge6</th>\n",
       "      <th>ge7</th>\n",
       "      <th>ge8</th>\n",
       "      <th>ge9</th>\n",
       "      <th>ge10</th>\n",
       "      <th>...</th>\n",
       "      <th>river</th>\n",
       "      <th>quarter33</th>\n",
       "      <th>quarter34</th>\n",
       "      <th>quarter35</th>\n",
       "      <th>quarter36</th>\n",
       "      <th>quarter37</th>\n",
       "      <th>quarter38</th>\n",
       "      <th>quarter39</th>\n",
       "      <th>quarter40</th>\n",
       "      <th>quarter41</th>\n",
       "    </tr>\n",
       "  </thead>\n",
       "  <tbody>\n",
       "    <tr>\n",
       "      <th>14413</th>\n",
       "      <td>-0.133037</td>\n",
       "      <td>-0.102192</td>\n",
       "      <td>0.167332</td>\n",
       "      <td>-0.001134</td>\n",
       "      <td>-0.037979</td>\n",
       "      <td>-0.181857</td>\n",
       "      <td>0.012094</td>\n",
       "      <td>0.53773</td>\n",
       "      <td>-0.140604</td>\n",
       "      <td>-0.172879</td>\n",
       "      <td>...</td>\n",
       "      <td>0</td>\n",
       "      <td>0</td>\n",
       "      <td>0</td>\n",
       "      <td>0</td>\n",
       "      <td>0</td>\n",
       "      <td>1</td>\n",
       "      <td>0</td>\n",
       "      <td>0</td>\n",
       "      <td>0</td>\n",
       "      <td>0</td>\n",
       "    </tr>\n",
       "    <tr>\n",
       "      <th>14414</th>\n",
       "      <td>-0.133037</td>\n",
       "      <td>-0.102192</td>\n",
       "      <td>0.167332</td>\n",
       "      <td>-0.001134</td>\n",
       "      <td>-0.037979</td>\n",
       "      <td>-0.181857</td>\n",
       "      <td>0.012094</td>\n",
       "      <td>0.53773</td>\n",
       "      <td>-0.140604</td>\n",
       "      <td>-0.172879</td>\n",
       "      <td>...</td>\n",
       "      <td>0</td>\n",
       "      <td>0</td>\n",
       "      <td>0</td>\n",
       "      <td>0</td>\n",
       "      <td>0</td>\n",
       "      <td>1</td>\n",
       "      <td>0</td>\n",
       "      <td>0</td>\n",
       "      <td>0</td>\n",
       "      <td>0</td>\n",
       "    </tr>\n",
       "    <tr>\n",
       "      <th>14430</th>\n",
       "      <td>-0.133037</td>\n",
       "      <td>-0.102192</td>\n",
       "      <td>0.167332</td>\n",
       "      <td>-0.001134</td>\n",
       "      <td>-0.037979</td>\n",
       "      <td>-0.181857</td>\n",
       "      <td>0.012094</td>\n",
       "      <td>0.53773</td>\n",
       "      <td>-0.140604</td>\n",
       "      <td>-0.172879</td>\n",
       "      <td>...</td>\n",
       "      <td>0</td>\n",
       "      <td>0</td>\n",
       "      <td>0</td>\n",
       "      <td>1</td>\n",
       "      <td>0</td>\n",
       "      <td>0</td>\n",
       "      <td>0</td>\n",
       "      <td>0</td>\n",
       "      <td>0</td>\n",
       "      <td>0</td>\n",
       "    </tr>\n",
       "    <tr>\n",
       "      <th>14432</th>\n",
       "      <td>-0.133037</td>\n",
       "      <td>-0.102192</td>\n",
       "      <td>0.167332</td>\n",
       "      <td>-0.001134</td>\n",
       "      <td>-0.037979</td>\n",
       "      <td>-0.181857</td>\n",
       "      <td>0.012094</td>\n",
       "      <td>0.53773</td>\n",
       "      <td>-0.140604</td>\n",
       "      <td>-0.172879</td>\n",
       "      <td>...</td>\n",
       "      <td>0</td>\n",
       "      <td>0</td>\n",
       "      <td>0</td>\n",
       "      <td>0</td>\n",
       "      <td>0</td>\n",
       "      <td>0</td>\n",
       "      <td>0</td>\n",
       "      <td>0</td>\n",
       "      <td>1</td>\n",
       "      <td>0</td>\n",
       "    </tr>\n",
       "    <tr>\n",
       "      <th>14433</th>\n",
       "      <td>-0.133037</td>\n",
       "      <td>-0.102192</td>\n",
       "      <td>0.167332</td>\n",
       "      <td>-0.001134</td>\n",
       "      <td>-0.037979</td>\n",
       "      <td>-0.181857</td>\n",
       "      <td>0.012094</td>\n",
       "      <td>0.53773</td>\n",
       "      <td>-0.140604</td>\n",
       "      <td>-0.172879</td>\n",
       "      <td>...</td>\n",
       "      <td>0</td>\n",
       "      <td>0</td>\n",
       "      <td>0</td>\n",
       "      <td>0</td>\n",
       "      <td>0</td>\n",
       "      <td>0</td>\n",
       "      <td>0</td>\n",
       "      <td>1</td>\n",
       "      <td>0</td>\n",
       "      <td>0</td>\n",
       "    </tr>\n",
       "  </tbody>\n",
       "</table>\n",
       "<p>5 rows × 216 columns</p>\n",
       "</div>"
      ],
      "text/plain": [
       "            ge1       ge2       ge3       ge4       ge5       ge6       ge7  \\\n",
       "14413 -0.133037 -0.102192  0.167332 -0.001134 -0.037979 -0.181857  0.012094   \n",
       "14414 -0.133037 -0.102192  0.167332 -0.001134 -0.037979 -0.181857  0.012094   \n",
       "14430 -0.133037 -0.102192  0.167332 -0.001134 -0.037979 -0.181857  0.012094   \n",
       "14432 -0.133037 -0.102192  0.167332 -0.001134 -0.037979 -0.181857  0.012094   \n",
       "14433 -0.133037 -0.102192  0.167332 -0.001134 -0.037979 -0.181857  0.012094   \n",
       "\n",
       "           ge8       ge9      ge10  ...  river  quarter33  quarter34  \\\n",
       "14413  0.53773 -0.140604 -0.172879  ...      0          0          0   \n",
       "14414  0.53773 -0.140604 -0.172879  ...      0          0          0   \n",
       "14430  0.53773 -0.140604 -0.172879  ...      0          0          0   \n",
       "14432  0.53773 -0.140604 -0.172879  ...      0          0          0   \n",
       "14433  0.53773 -0.140604 -0.172879  ...      0          0          0   \n",
       "\n",
       "       quarter35  quarter36  quarter37  quarter38  quarter39  quarter40  \\\n",
       "14413          0          0          1          0          0          0   \n",
       "14414          0          0          1          0          0          0   \n",
       "14430          1          0          0          0          0          0   \n",
       "14432          0          0          0          0          0          1   \n",
       "14433          0          0          0          0          1          0   \n",
       "\n",
       "       quarter41  \n",
       "14413          0  \n",
       "14414          0  \n",
       "14430          0  \n",
       "14432          0  \n",
       "14433          0  \n",
       "\n",
       "[5 rows x 216 columns]"
      ]
     },
     "execution_count": 52,
     "metadata": {},
     "output_type": "execute_result"
    }
   ],
   "source": [
    "test_acc_df.tail(5)"
   ]
  },
  {
   "cell_type": "markdown",
   "metadata": {},
   "source": [
    "<em> <b> Non-accidents records within 2 hours </b> </em>"
   ]
  },
  {
   "cell_type": "code",
   "execution_count": 44,
   "metadata": {},
   "outputs": [
    {
     "name": "stdout",
     "output_type": "stream",
     "text": [
      "57208\n"
     ]
    }
   ],
   "source": [
    "train_non_acc_df = train_all_df.query('quarter33==0 & quarter34==0 & quarter35==0 & quarter36==0 \\\n",
    "                                & quarter37==0 & quarter38==0 & quarter39==0 & quarter40==0 & quarter41==0')\n",
    "print(len(train_non_acc_df))"
   ]
  },
  {
   "cell_type": "code",
   "execution_count": 45,
   "metadata": {},
   "outputs": [
    {
     "name": "stdout",
     "output_type": "stream",
     "text": [
      "11590\n"
     ]
    }
   ],
   "source": [
    "test_non_acc_df = test_all_df.query('quarter33==0 & quarter34==0 & quarter35==0 & quarter36==0 \\\n",
    "                                & quarter37==0 & quarter38==0 & quarter39==0 & quarter40==0 & quarter41==0')\n",
    "print(len(test_non_acc_df))"
   ]
  },
  {
   "cell_type": "markdown",
   "metadata": {},
   "source": [
    "<em> Taking only that amount(23%) of non-acc records which makes total of 50% accidents and 50% non accidents records </em>"
   ]
  },
  {
   "cell_type": "code",
   "execution_count": 46,
   "metadata": {},
   "outputs": [
    {
     "name": "stdout",
     "output_type": "stream",
     "text": [
      "13158\n",
      "2666\n"
     ]
    }
   ],
   "source": [
    "train_non_acc_df = train_non_acc_df.sample(frac = 0.23)\n",
    "print(len(train_non_acc_df))\n",
    "test_non_acc_df = test_non_acc_df.sample(frac = 0.23)\n",
    "print(len(test_non_acc_df))"
   ]
  },
  {
   "cell_type": "code",
   "execution_count": 48,
   "metadata": {},
   "outputs": [
    {
     "name": "stdout",
     "output_type": "stream",
     "text": [
      "26044\n",
      "5516\n"
     ]
    }
   ],
   "source": [
    "train_all_df = pd.concat([train_acc_df,train_non_acc_df])\n",
    "print(len(train_all_df))\n",
    "test_all_df = pd.concat([test_acc_df,test_non_acc_df])\n",
    "print(len(test_all_df))"
   ]
  },
  {
   "cell_type": "code",
   "execution_count": 50,
   "metadata": {},
   "outputs": [],
   "source": [
    "train_all_df = train_all_df.sort_index()\n",
    "test_all_df = test_all_df.sort_index()"
   ]
  },
  {
   "cell_type": "code",
   "execution_count": 54,
   "metadata": {},
   "outputs": [
    {
     "data": {
      "text/html": [
       "<div>\n",
       "<style scoped>\n",
       "    .dataframe tbody tr th:only-of-type {\n",
       "        vertical-align: middle;\n",
       "    }\n",
       "\n",
       "    .dataframe tbody tr th {\n",
       "        vertical-align: top;\n",
       "    }\n",
       "\n",
       "    .dataframe thead th {\n",
       "        text-align: right;\n",
       "    }\n",
       "</style>\n",
       "<table border=\"1\" class=\"dataframe\">\n",
       "  <thead>\n",
       "    <tr style=\"text-align: right;\">\n",
       "      <th></th>\n",
       "      <th>ge1</th>\n",
       "      <th>ge2</th>\n",
       "      <th>ge3</th>\n",
       "      <th>ge4</th>\n",
       "      <th>ge5</th>\n",
       "      <th>ge6</th>\n",
       "      <th>ge7</th>\n",
       "      <th>ge8</th>\n",
       "      <th>ge9</th>\n",
       "      <th>ge10</th>\n",
       "      <th>...</th>\n",
       "      <th>river</th>\n",
       "      <th>quarter33</th>\n",
       "      <th>quarter34</th>\n",
       "      <th>quarter35</th>\n",
       "      <th>quarter36</th>\n",
       "      <th>quarter37</th>\n",
       "      <th>quarter38</th>\n",
       "      <th>quarter39</th>\n",
       "      <th>quarter40</th>\n",
       "      <th>quarter41</th>\n",
       "    </tr>\n",
       "  </thead>\n",
       "  <tbody>\n",
       "    <tr>\n",
       "      <th>14425</th>\n",
       "      <td>-0.133037</td>\n",
       "      <td>-0.102192</td>\n",
       "      <td>0.167332</td>\n",
       "      <td>-0.001134</td>\n",
       "      <td>-0.037979</td>\n",
       "      <td>-0.181857</td>\n",
       "      <td>0.012094</td>\n",
       "      <td>0.53773</td>\n",
       "      <td>-0.140604</td>\n",
       "      <td>-0.172879</td>\n",
       "      <td>...</td>\n",
       "      <td>0</td>\n",
       "      <td>0</td>\n",
       "      <td>0</td>\n",
       "      <td>0</td>\n",
       "      <td>0</td>\n",
       "      <td>0</td>\n",
       "      <td>0</td>\n",
       "      <td>0</td>\n",
       "      <td>0</td>\n",
       "      <td>0</td>\n",
       "    </tr>\n",
       "    <tr>\n",
       "      <th>14430</th>\n",
       "      <td>-0.133037</td>\n",
       "      <td>-0.102192</td>\n",
       "      <td>0.167332</td>\n",
       "      <td>-0.001134</td>\n",
       "      <td>-0.037979</td>\n",
       "      <td>-0.181857</td>\n",
       "      <td>0.012094</td>\n",
       "      <td>0.53773</td>\n",
       "      <td>-0.140604</td>\n",
       "      <td>-0.172879</td>\n",
       "      <td>...</td>\n",
       "      <td>0</td>\n",
       "      <td>0</td>\n",
       "      <td>0</td>\n",
       "      <td>1</td>\n",
       "      <td>0</td>\n",
       "      <td>0</td>\n",
       "      <td>0</td>\n",
       "      <td>0</td>\n",
       "      <td>0</td>\n",
       "      <td>0</td>\n",
       "    </tr>\n",
       "    <tr>\n",
       "      <th>14432</th>\n",
       "      <td>-0.133037</td>\n",
       "      <td>-0.102192</td>\n",
       "      <td>0.167332</td>\n",
       "      <td>-0.001134</td>\n",
       "      <td>-0.037979</td>\n",
       "      <td>-0.181857</td>\n",
       "      <td>0.012094</td>\n",
       "      <td>0.53773</td>\n",
       "      <td>-0.140604</td>\n",
       "      <td>-0.172879</td>\n",
       "      <td>...</td>\n",
       "      <td>0</td>\n",
       "      <td>0</td>\n",
       "      <td>0</td>\n",
       "      <td>0</td>\n",
       "      <td>0</td>\n",
       "      <td>0</td>\n",
       "      <td>0</td>\n",
       "      <td>0</td>\n",
       "      <td>1</td>\n",
       "      <td>0</td>\n",
       "    </tr>\n",
       "    <tr>\n",
       "      <th>14433</th>\n",
       "      <td>-0.133037</td>\n",
       "      <td>-0.102192</td>\n",
       "      <td>0.167332</td>\n",
       "      <td>-0.001134</td>\n",
       "      <td>-0.037979</td>\n",
       "      <td>-0.181857</td>\n",
       "      <td>0.012094</td>\n",
       "      <td>0.53773</td>\n",
       "      <td>-0.140604</td>\n",
       "      <td>-0.172879</td>\n",
       "      <td>...</td>\n",
       "      <td>0</td>\n",
       "      <td>0</td>\n",
       "      <td>0</td>\n",
       "      <td>0</td>\n",
       "      <td>0</td>\n",
       "      <td>0</td>\n",
       "      <td>0</td>\n",
       "      <td>1</td>\n",
       "      <td>0</td>\n",
       "      <td>0</td>\n",
       "    </tr>\n",
       "    <tr>\n",
       "      <th>14439</th>\n",
       "      <td>-0.133037</td>\n",
       "      <td>-0.102192</td>\n",
       "      <td>0.167332</td>\n",
       "      <td>-0.001134</td>\n",
       "      <td>-0.037979</td>\n",
       "      <td>-0.181857</td>\n",
       "      <td>0.012094</td>\n",
       "      <td>0.53773</td>\n",
       "      <td>-0.140604</td>\n",
       "      <td>-0.172879</td>\n",
       "      <td>...</td>\n",
       "      <td>0</td>\n",
       "      <td>0</td>\n",
       "      <td>0</td>\n",
       "      <td>0</td>\n",
       "      <td>0</td>\n",
       "      <td>0</td>\n",
       "      <td>0</td>\n",
       "      <td>0</td>\n",
       "      <td>0</td>\n",
       "      <td>0</td>\n",
       "    </tr>\n",
       "  </tbody>\n",
       "</table>\n",
       "<p>5 rows × 216 columns</p>\n",
       "</div>"
      ],
      "text/plain": [
       "            ge1       ge2       ge3       ge4       ge5       ge6       ge7  \\\n",
       "14425 -0.133037 -0.102192  0.167332 -0.001134 -0.037979 -0.181857  0.012094   \n",
       "14430 -0.133037 -0.102192  0.167332 -0.001134 -0.037979 -0.181857  0.012094   \n",
       "14432 -0.133037 -0.102192  0.167332 -0.001134 -0.037979 -0.181857  0.012094   \n",
       "14433 -0.133037 -0.102192  0.167332 -0.001134 -0.037979 -0.181857  0.012094   \n",
       "14439 -0.133037 -0.102192  0.167332 -0.001134 -0.037979 -0.181857  0.012094   \n",
       "\n",
       "           ge8       ge9      ge10  ...  river  quarter33  quarter34  \\\n",
       "14425  0.53773 -0.140604 -0.172879  ...      0          0          0   \n",
       "14430  0.53773 -0.140604 -0.172879  ...      0          0          0   \n",
       "14432  0.53773 -0.140604 -0.172879  ...      0          0          0   \n",
       "14433  0.53773 -0.140604 -0.172879  ...      0          0          0   \n",
       "14439  0.53773 -0.140604 -0.172879  ...      0          0          0   \n",
       "\n",
       "       quarter35  quarter36  quarter37  quarter38  quarter39  quarter40  \\\n",
       "14425          0          0          0          0          0          0   \n",
       "14430          1          0          0          0          0          0   \n",
       "14432          0          0          0          0          0          1   \n",
       "14433          0          0          0          0          1          0   \n",
       "14439          0          0          0          0          0          0   \n",
       "\n",
       "       quarter41  \n",
       "14425          0  \n",
       "14430          0  \n",
       "14432          0  \n",
       "14433          0  \n",
       "14439          0  \n",
       "\n",
       "[5 rows x 216 columns]"
      ]
     },
     "execution_count": 54,
     "metadata": {},
     "output_type": "execute_result"
    }
   ],
   "source": [
    "train_all_df.to_csv('../data_files/train_etc_accNonacc.csv',index=False)\n",
    "test_all_df.to_csv('../data_files/test_etc_accNonacc.csv',index=False)\n",
    "test_all_df.tail(5)"
   ]
  },
  {
   "cell_type": "markdown",
   "metadata": {},
   "source": [
    "<em> Street type wise data preparation for prediction </em>"
   ]
  },
  {
   "cell_type": "code",
   "execution_count": 59,
   "metadata": {},
   "outputs": [
    {
     "data": {
      "text/plain": [
       "['ID',\n",
       " 'Source',\n",
       " 'TMC',\n",
       " 'Severity',\n",
       " 'Start_Time',\n",
       " 'End_Time',\n",
       " 'Start_Lat',\n",
       " 'Start_Lng',\n",
       " 'End_Lat',\n",
       " 'End_Lng',\n",
       " 'Distance_mi',\n",
       " 'Description',\n",
       " 'Street',\n",
       " 'Side',\n",
       " 'City',\n",
       " 'County',\n",
       " 'State',\n",
       " 'Zipcode',\n",
       " 'Timezone',\n",
       " 'Airport_Code',\n",
       " 'Weather_Timestamp',\n",
       " 'Temperature_F',\n",
       " 'Humidity_pct',\n",
       " 'Pressure_in',\n",
       " 'Visibility_mi',\n",
       " 'Wind_Direction',\n",
       " 'Wind_Speed_mph',\n",
       " 'Precipitation_in',\n",
       " 'Amenity',\n",
       " 'Bump',\n",
       " 'Crossing',\n",
       " 'Give_Way',\n",
       " 'Junction',\n",
       " 'No_Exit',\n",
       " 'Railway',\n",
       " 'Roundabout',\n",
       " 'Station',\n",
       " 'Stop',\n",
       " 'Traffic_Calming',\n",
       " 'Traffic_Signal',\n",
       " 'Sunrise_Sunset',\n",
       " 'Civil_Twilight',\n",
       " 'Nautical_Twilight',\n",
       " 'Astronomical_Twilight',\n",
       " 'startTime',\n",
       " 'endTime',\n",
       " 'accDuration',\n",
       " 'geometry',\n",
       " 'day',\n",
       " 'month',\n",
       " 'year',\n",
       " 'dayOfWeek',\n",
       " 'geohash4',\n",
       " 'geohash5',\n",
       " 'geohash6',\n",
       " 'clear',\n",
       " 'cloud',\n",
       " 'rain',\n",
       " 'heavyRain',\n",
       " 'snow',\n",
       " 'heavySnow',\n",
       " 'fog',\n",
       " 'precipitationNA',\n",
       " 'severity1',\n",
       " 'severity2',\n",
       " 'severity3',\n",
       " 'severity4',\n",
       " 'timezoneUS/Eastern',\n",
       " 'timezoneUS/Pacific',\n",
       " 'timezoneUS/Central',\n",
       " 'timezoneUS/Mountain',\n",
       " 'roadsideR',\n",
       " 'roadsideL',\n",
       " 'timeSSDay',\n",
       " 'timeSSNight',\n",
       " 'timeCTDay',\n",
       " 'timeCTNight',\n",
       " 'timeNTDay',\n",
       " 'timeNTNight',\n",
       " 'timeATDay',\n",
       " 'timeATNight',\n",
       " 'windDirectionCALM',\n",
       " 'windDirectionSW',\n",
       " 'windDirectionSSW',\n",
       " 'windDirectionWSW',\n",
       " 'windDirectionWNW',\n",
       " 'windDirectionNW',\n",
       " 'windDirectionW',\n",
       " 'windDirectionNNW',\n",
       " 'windDirectionNNE',\n",
       " 'windDirectionS',\n",
       " 'windDirectionN',\n",
       " 'windDirectionVAR',\n",
       " 'windDirectionSE',\n",
       " 'windDirectionSSE',\n",
       " 'windDirectionESE',\n",
       " 'windDirectionE',\n",
       " 'windDirectionNE',\n",
       " 'windDirectionENE',\n",
       " 'tmc201',\n",
       " 'tmc241',\n",
       " 'tmc247',\n",
       " 'tmc246',\n",
       " 'tmc341',\n",
       " 'tmc406',\n",
       " 'tmc245',\n",
       " 'tmc248',\n",
       " 'tmc200',\n",
       " 'tmc244',\n",
       " 'tmc203',\n",
       " 'tmc229',\n",
       " 'tmc222',\n",
       " 'tmc202',\n",
       " 'tmc206',\n",
       " 'tmc343',\n",
       " 'tmc236',\n",
       " 'tmc239',\n",
       " 'tmc336',\n",
       " 'tmc339',\n",
       " 'tmc351',\n",
       " 'tmc0',\n",
       " 'temperature_f1',\n",
       " 'temperature_f2',\n",
       " 'temperature_f3',\n",
       " 'temperature_f4',\n",
       " 'temperature_f5',\n",
       " 'temperature_f6',\n",
       " 'temperature_f7',\n",
       " 'temperature_f8',\n",
       " 'temperature_f9',\n",
       " 'temperature_f10',\n",
       " 'temperature_f11',\n",
       " 'temperature_f12',\n",
       " 'temperature_f13',\n",
       " 'humidity_pct1',\n",
       " 'humidity_pct2',\n",
       " 'humidity_pct3',\n",
       " 'humidity_pct4',\n",
       " 'humidity_pct5',\n",
       " 'pressure_in1',\n",
       " 'pressure_in2',\n",
       " 'pressure_in3',\n",
       " 'pressure_in4',\n",
       " 'visibility_mi1',\n",
       " 'visibility_mi2',\n",
       " 'visibility_mi3',\n",
       " 'visibility_mi4',\n",
       " 'visibility_mi5',\n",
       " 'visibility_mi6',\n",
       " 'visibility_mi7',\n",
       " 'wind_speed_mph1',\n",
       " 'wind_speed_mph2',\n",
       " 'wind_speed_mph3',\n",
       " 'wind_speed_mph4',\n",
       " 'wind_speed_mph5',\n",
       " 'wind_speed_mph6',\n",
       " 'wind_speed_mph7',\n",
       " 'wind_speed_mph8',\n",
       " 'wind_speed_mph9',\n",
       " 'wind_speed_mph10',\n",
       " 'rd',\n",
       " 'st',\n",
       " 'dr',\n",
       " 'ave',\n",
       " 'blvd',\n",
       " 'ln',\n",
       " 'highway',\n",
       " 'pkwy',\n",
       " 'hwy',\n",
       " 'way',\n",
       " 'ct',\n",
       " 'pl',\n",
       " 'road',\n",
       " 'us-',\n",
       " 'creek',\n",
       " 'cir',\n",
       " 'hill',\n",
       " 'route',\n",
       " 'i-',\n",
       " 'trl',\n",
       " 'valley',\n",
       " 'ridge',\n",
       " 'pike',\n",
       " 'fwy',\n",
       " 'river',\n",
       " 'timeQuarterOfDay',\n",
       " 'quarter1',\n",
       " 'quarter2',\n",
       " 'quarter3',\n",
       " 'quarter4',\n",
       " 'quarter5',\n",
       " 'quarter6',\n",
       " 'quarter7',\n",
       " 'quarter8',\n",
       " 'quarter9',\n",
       " 'quarter10',\n",
       " 'quarter11',\n",
       " 'quarter12',\n",
       " 'quarter13',\n",
       " 'quarter14',\n",
       " 'quarter15',\n",
       " 'quarter16',\n",
       " 'quarter17',\n",
       " 'quarter18',\n",
       " 'quarter19',\n",
       " 'quarter20',\n",
       " 'quarter21',\n",
       " 'quarter22',\n",
       " 'quarter23',\n",
       " 'quarter24',\n",
       " 'quarter25',\n",
       " 'quarter26',\n",
       " 'quarter27',\n",
       " 'quarter28',\n",
       " 'quarter29',\n",
       " 'quarter30',\n",
       " 'quarter31',\n",
       " 'quarter32',\n",
       " 'quarter33',\n",
       " 'quarter34',\n",
       " 'quarter35',\n",
       " 'quarter36',\n",
       " 'quarter37',\n",
       " 'quarter38',\n",
       " 'quarter39',\n",
       " 'quarter40',\n",
       " 'quarter41',\n",
       " 'quarter42',\n",
       " 'quarter43',\n",
       " 'quarter44',\n",
       " 'quarter45',\n",
       " 'quarter46',\n",
       " 'quarter47',\n",
       " 'quarter48',\n",
       " 'quarter49',\n",
       " 'quarter50',\n",
       " 'quarter51',\n",
       " 'quarter52',\n",
       " 'quarter53',\n",
       " 'quarter54',\n",
       " 'quarter55',\n",
       " 'quarter56',\n",
       " 'quarter57',\n",
       " 'quarter58',\n",
       " 'quarter59',\n",
       " 'quarter60',\n",
       " 'quarter61',\n",
       " 'quarter62',\n",
       " 'quarter63',\n",
       " 'quarter64',\n",
       " 'quarter65',\n",
       " 'quarter66',\n",
       " 'quarter67',\n",
       " 'quarter68',\n",
       " 'quarter69',\n",
       " 'quarter70',\n",
       " 'quarter71',\n",
       " 'quarter72',\n",
       " 'quarter73',\n",
       " 'quarter74',\n",
       " 'quarter75',\n",
       " 'quarter76',\n",
       " 'quarter77',\n",
       " 'quarter78',\n",
       " 'quarter79',\n",
       " 'quarter80',\n",
       " 'quarter81',\n",
       " 'quarter82',\n",
       " 'quarter83',\n",
       " 'quarter84',\n",
       " 'quarter85',\n",
       " 'quarter86',\n",
       " 'quarter87',\n",
       " 'quarter88',\n",
       " 'quarter89',\n",
       " 'quarter90',\n",
       " 'quarter91',\n",
       " 'quarter92',\n",
       " 'quarter93',\n",
       " 'quarter94',\n",
       " 'quarter95',\n",
       " 'quarter96']"
      ]
     },
     "execution_count": 59,
     "metadata": {},
     "output_type": "execute_result"
    }
   ],
   "source": [
    "list(arp_df.columns)"
   ]
  },
  {
   "cell_type": "code",
   "execution_count": 61,
   "metadata": {},
   "outputs": [],
   "source": [
    "lst_streets = ['rd','st','dr','ave','blvd','ln','highway','pkwy','hwy','way','ct','pl','road','us-','creek','cir','hill',\n",
    " 'route','i-','trl','valley','ridge','pike','fwy','river']"
   ]
  },
  {
   "cell_type": "code",
   "execution_count": 62,
   "metadata": {},
   "outputs": [],
   "source": [
    "st_df = arp_df[lst_streets]"
   ]
  },
  {
   "cell_type": "code",
   "execution_count": 63,
   "metadata": {},
   "outputs": [
    {
     "data": {
      "text/plain": [
       "rd         549856\n",
       "st         386987\n",
       "dr         146532\n",
       "ave        293141\n",
       "blvd       172042\n",
       "ln          38812\n",
       "highway     97554\n",
       "pkwy        81142\n",
       "hwy        108564\n",
       "way         18236\n",
       "ct           6491\n",
       "pl          19528\n",
       "road        16252\n",
       "us-        110958\n",
       "creek       15369\n",
       "cir          5674\n",
       "hill        20407\n",
       "route       26542\n",
       "i-         814371\n",
       "trl         10589\n",
       "valley      17885\n",
       "ridge        8910\n",
       "pike        22351\n",
       "fwy        187310\n",
       "river       31209\n",
       "dtype: int64"
      ]
     },
     "execution_count": 63,
     "metadata": {},
     "output_type": "execute_result"
    }
   ],
   "source": [
    "st_df.sum()"
   ]
  },
  {
   "cell_type": "markdown",
   "metadata": {},
   "source": [
    "<em> Wee see that most accidents happen on interstate highways (i-), so trying to predict accidents for these </em>"
   ]
  },
  {
   "cell_type": "code",
   "execution_count": 80,
   "metadata": {},
   "outputs": [
    {
     "name": "stdout",
     "output_type": "stream",
     "text": [
      "1445\n",
      "2890\n"
     ]
    }
   ],
   "source": [
    "train_str_acc_df = train_all_df.query('quarter33==1 | quarter34==1 | quarter35==1 | quarter36==1 \\\n",
    "                                | quarter37==1 | quarter38==1 | quarter39==1 | quarter40==1 | quarter41==1')\n",
    "train_str_i_acc_df = train_str_acc_df.loc[train_str_acc_df['i-']==1]\n",
    "print(len(train_str_i_acc_df))\n",
    "train_str_non_i_acc_df = train_str_acc_df.loc[train_str_acc_df['i-']==0]\n",
    "#also taking same number of records where accidents did not happen on interstate highways for training\n",
    "train_str_non_i_acc_df = train_str_non_i_acc_df.sample(len(train_str_i_acc_df))\n",
    "train_str_acc_df = pd.concat([train_str_i_acc_df,train_str_non_i_acc_df])\n",
    "print(len(train_str_acc_df))\n",
    "train_str_acc_df = train_str_acc_df.sort_index()"
   ]
  },
  {
   "cell_type": "code",
   "execution_count": 81,
   "metadata": {},
   "outputs": [
    {
     "name": "stdout",
     "output_type": "stream",
     "text": [
      "556\n"
     ]
    }
   ],
   "source": [
    "test_str_acc_df = test_all_df.query('quarter33==1 | quarter34==1 | quarter35==1 | quarter36==1 \\\n",
    "                                | quarter37==1 | quarter38==1 | quarter39==1 | quarter40==1 | quarter41==1')\n",
    "test_str_i_acc_df = test_str_acc_df.loc[test_str_acc_df['i-']==1]\n",
    "test_str_non_i_acc_df = test_str_acc_df.loc[test_str_acc_df['i-']==0]\n",
    "test_str_non_i_acc_df = test_str_non_i_acc_df.sample(len(test_str_i_acc_df))\n",
    "test_str_acc_df = pd.concat([test_str_i_acc_df,test_str_non_i_acc_df])\n",
    "print(len(test_str_acc_df))\n",
    "test_str_acc_df = test_str_acc_df.sort_index()"
   ]
  },
  {
   "cell_type": "code",
   "execution_count": 82,
   "metadata": {},
   "outputs": [],
   "source": [
    "train_str_acc_df.to_csv('../data_files/train_etc_str_acc.csv',index=False)\n",
    "test_str_acc_df.to_csv('../data_files/test_etc_str_acc.csv',index=False)"
   ]
  },
  {
   "cell_type": "code",
   "execution_count": null,
   "metadata": {},
   "outputs": [],
   "source": []
  }
 ],
 "metadata": {
  "kernelspec": {
   "display_name": "Python 3",
   "language": "python",
   "name": "python3"
  },
  "language_info": {
   "codemirror_mode": {
    "name": "ipython",
    "version": 3
   },
   "file_extension": ".py",
   "mimetype": "text/x-python",
   "name": "python",
   "nbconvert_exporter": "python",
   "pygments_lexer": "ipython3",
   "version": "3.7.6"
  }
 },
 "nbformat": 4,
 "nbformat_minor": 4
}
